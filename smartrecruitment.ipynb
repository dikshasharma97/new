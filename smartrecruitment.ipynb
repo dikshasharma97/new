{
 "cells": [
  {
   "cell_type": "code",
   "execution_count": 102,
   "metadata": {},
   "outputs": [],
   "source": [
    "import csv\n",
    "import pandas as pd\n",
    "import numpy as np\n",
    "import datetime\n",
    "import matplotlib\n",
    "\n",
    "from sklearn.ensemble import RandomForestClassifier\n",
    "from sklearn.ensemble import GradientBoostingClassifier\n",
    "from sklearn.ensemble import ExtraTreesClassifier\n",
    "from sklearn.tree import DecisionTreeClassifier\n",
    "from sklearn.model_selection import GridSearchCV\n",
    "from sklearn.model_selection import train_test_split\n",
    "from sklearn.model_selection import StratifiedShuffleSplit\n",
    "import math\n",
    "  \n",
    "\n",
    "import csv\n",
    "import operator\n",
    "\n",
    "from sklearn import preprocessing\n",
    "\n",
    "from sklearn.metrics import roc_auc_score"
   ]
  },
  {
   "cell_type": "markdown",
   "metadata": {},
   "source": [
    "# Files"
   ]
  },
  {
   "cell_type": "code",
   "execution_count": 103,
   "metadata": {},
   "outputs": [],
   "source": [
    "train_file_name = \"train_dK8Auve.csv\"\n",
    "test_file_name = \"test_UyrvqPb.csv\""
   ]
  },
  {
   "cell_type": "markdown",
   "metadata": {},
   "source": [
    "# Count variables"
   ]
  },
  {
   "cell_type": "code",
   "execution_count": 104,
   "metadata": {},
   "outputs": [],
   "source": [
    "def getCountVar(compute_df, count_df, var_name, count_var=\"Manager_Num_Application\"):\n",
    "        grouped_df = count_df.groupby(var_name, as_index=False)[count_var].agg('count')\n",
    "        grouped_df.columns = [var_name, \"var_count\"]\n",
    "        merged_df = pd.merge(compute_df, grouped_df, how=\"left\", on=var_name)\n",
    "        merged_df.fillna(-1, inplace=True)\n",
    "        return list(merged_df[\"var_count\"])"
   ]
  },
  {
   "cell_type": "markdown",
   "metadata": {},
   "source": [
    "# Main Function"
   ]
  },
  {
   "cell_type": "code",
   "execution_count": 111,
   "metadata": {},
   "outputs": [
    {
     "name": "stdout",
     "output_type": "stream",
     "text": [
      "Reading files..\n",
      "(9527, 23) (5045, 22)\n",
      "Rank vars..\n",
      "count    9527.000000\n",
      "mean       20.108849\n",
      "std        18.614587\n",
      "min         1.000000\n",
      "25%         7.000000\n",
      "50%        15.000000\n",
      "75%        27.000000\n",
      "max       165.000000\n",
      "Name: dayrank, dtype: float64\n",
      "count    5045.000000\n",
      "mean       35.843608\n",
      "std        42.023915\n",
      "min         1.000000\n",
      "25%        10.000000\n",
      "50%        22.000000\n",
      "75%        44.000000\n",
      "max       273.000000\n",
      "Name: dayrank, dtype: float64\n",
      "Getting DV and ID..\n",
      "New feats..\n",
      "Some more features..\n",
      "Label encoding..\n",
      "Working on dates..\n",
      "Application_Receipt_Date\n",
      "Applicant_BirthDate\n",
      "Manager_DOJ\n",
      "Manager_DoB\n",
      "Dropping unwanted cols..\n",
      "Fill NA..\n",
      "New features..\n",
      "Converting to array..\n",
      "(9527, 40) (5045, 40)\n",
      "Accuracy of logistic regression classifier on test set: 0.80\n"
     ]
    }
   ],
   "source": [
    "\n",
    "\n",
    "if __name__ == \"__main__\":\n",
    "    print(\"Reading files..\")\n",
    "    train = pd.read_csv(train_file_name)\n",
    "    test = pd.read_csv(test_file_name)\n",
    "    print(train.shape, test.shape)\n",
    "\n",
    "    print(\"Rank vars..\")\n",
    "    prev_date = 0\n",
    "    count_dict = {}\n",
    "    for name, row in train.iterrows():\n",
    "            count_dict[ row[\"Application_Receipt_Date\"] ] = count_dict.get(row[\"Application_Receipt_Date\"],0) + 1\n",
    "    for name, row in test.iterrows():\n",
    "            count_dict[ row[\"Application_Receipt_Date\"] ] = count_dict.get(row[\"Application_Receipt_Date\"],0) + 1\n",
    "\n",
    "    prev_date = 0\n",
    "    rank_list = []\n",
    "    count_list = []\n",
    "    rankpct_list = []\n",
    "    for name, row in train.iterrows():\n",
    "            date_value = row[\"Application_Receipt_Date\"]\n",
    "            if date_value != prev_date:\n",
    "                    rank = 1\n",
    "                    prev_date = date_value\n",
    "            else:\n",
    "                    rank += 1\n",
    "            rank_list.append( rank )\n",
    "            count_list.append( count_dict[date_value] )\n",
    "            rankpct_list.append( float(rank) / count_dict[date_value] )\n",
    "    train[\"dayrank\"] = rank_list[:]\n",
    "    train[\"daycount\"] = count_list[:]\n",
    "    train[\"dayrankpct\"] = rankpct_list[:]\n",
    "\n",
    "    prev_date = 0\n",
    "    rank_list = []\n",
    "    count_list = []\n",
    "    rankpct_list = []\n",
    "    for name, row in test.iterrows():\n",
    "            date_value = row[\"Application_Receipt_Date\"]\n",
    "            if date_value != prev_date:\n",
    "                    rank = 1\n",
    "                    prev_date = date_value\n",
    "            else:\n",
    "                    rank += 1\n",
    "            rank_list.append( rank )\n",
    "            count_list.append( count_dict[date_value] )\n",
    "            rankpct_list.append( float(rank) / count_dict[date_value] )\n",
    "    test[\"dayrank\"] = rank_list[:]\n",
    "    test[\"daycount\"] = count_list[:]\n",
    "    test[\"dayrankpct\"] = rankpct_list[:]\n",
    "    print(train.dayrank.describe())\n",
    "    print(test.dayrank.describe())\n",
    "\n",
    "    print(\"Getting DV and ID..\")\n",
    "    train_y = train.Business_Sourced.values\n",
    "    train_ID = train.ID.values\n",
    "    test_ID = test.ID.values\n",
    "\n",
    "    print(\"New feats..\")\n",
    "    print(\"Some more features..\")\n",
    "    new_feats = [\"DOJ_DOB\", \"DOB_Applicant_Gender\", \"DOB_Qualification\", \"DOB_Gender_Qual\"] \n",
    "    train[\"DOJ_DOB\"] = train[\"Manager_DOJ\"].astype('str') + \"_\" + train[\"Manager_DoB\"].astype('str')\n",
    "    train[\"DOB_Applicant_Gender\"] = train[\"Manager_DoB\"].astype('str') + \"_\" + train[\"Applicant_Gender\"].astype('str')\n",
    "    train[\"DOB_Qualification\"] = train[\"Manager_DoB\"].astype('str') + \"_\" + train[\"Applicant_Qualification\"].astype('str')\n",
    "    train[\"DOB_Gender_Qual\"] = train[\"Manager_DoB\"].astype('str') + \"_\" + train[\"Applicant_Gender\"].astype('str') + \"_\" + train[\"Applicant_Qualification\"].astype('str')\n",
    "    test[\"DOJ_DOB\"] = test[\"Manager_DOJ\"].astype('str') + \"_\" + test[\"Manager_DoB\"].astype('str')\n",
    "    test[\"DOB_Applicant_Gender\"] = test[\"Manager_DoB\"].astype('str') + \"_\" + test[\"Applicant_Gender\"].astype('str')\n",
    "    test[\"DOB_Qualification\"] = test[\"Manager_DoB\"].astype('str') + \"_\" + test[\"Applicant_Qualification\"].astype('str')\n",
    "    test[\"DOB_Gender_Qual\"] = test[\"Manager_DoB\"].astype('str') + \"_\" + test[\"Applicant_Gender\"].astype('str') + \"_\" + test[\"Applicant_Qualification\"].astype('str')\n",
    "\n",
    "    print(\"Label encoding..\")\n",
    "    cat_columns = [\"Applicant_Gender\", \"Applicant_Marital_Status\", \"Applicant_Occupation\", \"Applicant_Qualification\", \"Manager_Joining_Designation\", \"Manager_Current_Designation\", \"Manager_Status\", \"Manager_Gender\"]\n",
    "    for f in cat_columns + new_feats:\n",
    "                        #print((f), len(np.unique(train[f].values)))\n",
    "                        lbl = preprocessing.LabelEncoder()\n",
    "                        lbl.fit(list(train[f].values) + list(test[f].values))\n",
    "                        train[f] = lbl.transform(list(train[f].values))\n",
    "                        test[f] = lbl.transform(list(test[f].values))\n",
    "                        new_train = pd.concat([ train[['Manager_Num_Application',f]], test[['Manager_Num_Application',f]] ])\n",
    "                        train[\"CountVar_\"+str(f)] = getCountVar(train[['Manager_Num_Application',f]], new_train[['Manager_Num_Application', f]], f)\n",
    "                        test[\"CountVar_\"+str(f)] = getCountVar(test[['Manager_Num_Application',f]], new_train[['Manager_Num_Application',f]], f)\n",
    "\n",
    "    print(\"Working on dates..\")\n",
    "    for date_col in [\"Application_Receipt_Date\", \"Applicant_BirthDate\", \"Manager_DOJ\", \"Manager_DoB\"]:\n",
    "        print(date_col)\n",
    "        train[date_col].fillna(\"1/1/1900\", inplace=True)\n",
    "        test[date_col].fillna(\"1/1/1900\", inplace=True)\n",
    "        train[date_col] = (pd.to_datetime(train[date_col], format=\"%m/%d/%Y\"))\n",
    "        test[date_col] = (pd.to_datetime(test[date_col], format=\"%m/%d/%Y\"))\n",
    "        train[date_col] = train[date_col].apply(lambda x: x.toordinal())\n",
    "        test[date_col] = test[date_col].apply(lambda x: x.toordinal())\n",
    "\n",
    "    dev_index = np.where(train[\"Application_Receipt_Date\"]<=733100)[0]\n",
    "    val_index = np.where(train[\"Application_Receipt_Date\"]>733100)[0]\n",
    "    print(\"Dropping unwanted cols..\")\n",
    "    drop_cols = []\n",
    "    train.drop([\"ID\", \"Business_Sourced\"]+drop_cols, axis=1, inplace=True)\n",
    "    test.drop([\"ID\"] + drop_cols, axis=1, inplace=True)\n",
    "\n",
    "    print(\"Fill NA..\")\n",
    "    train.fillna(-999, inplace=True)\n",
    "    test.fillna(-999, inplace=True)\n",
    "\n",
    "    print(\"New features..\")\n",
    "    train[\"Manager_Business2\"] = train[\"Manager_Business\"] - train[\"Manager_Business2\"]\n",
    "    test[\"Manager_Business2\"] = test[\"Manager_Business\"] - test[\"Manager_Business2\"]\n",
    "    train[\"Manager_Num_Products2\"] = train[\"Manager_Num_Products\"] - train[\"Manager_Num_Products2\"]\n",
    "    test[\"Manager_Num_Products2\"] = test[\"Manager_Num_Products\"] - test[\"Manager_Num_Products2\"]\n",
    "\n",
    "    print(\"Converting to array..\")\n",
    "    feat_names = list(train.columns)\n",
    "    train = np.array(train)\n",
    "    test = np.array(test)\n",
    "    print(train.shape, test.shape)\n",
    "    assert train.shape[1] == test.shape[1]\n",
    "\n",
    "\n",
    "    from sklearn.model_selection import train_test_split\n",
    "    X_train, X_test, y_train, y_test = train_test_split(train, train_y, test_size=0.3, random_state=0)\n",
    "    from sklearn.linear_model import LogisticRegression\n",
    "    logreg = LogisticRegression(solver='liblinear',class_weight='balanced',max_iter=300)\n",
    "    log=logreg.fit(X_train, y_train)\n",
    "    y_pred = log.predict(X_test)\n",
    "    print('Accuracy of logistic regression classifier on test set: {:.2f}'.format(logreg.score(X_test, y_test)))\n",
    "    # full_preds = 0\n",
    "    # for rs in [1, 1343, 445234]:\n",
    "    #         preds = runXGB(train, train_y, test, feature_names=feat_names, seed_val = rs)\n",
    "    #         full_preds += preds\n",
    "    # full_preds /= 3.\n",
    "\n",
    "\n"
   ]
  },
  {
   "cell_type": "code",
   "execution_count": null,
   "metadata": {},
   "outputs": [],
   "source": []
  },
  {
   "cell_type": "markdown",
   "metadata": {},
   "source": [
    "# ROC SCORE"
   ]
  },
  {
   "cell_type": "code",
   "execution_count": 112,
   "metadata": {},
   "outputs": [
    {
     "data": {
      "image/png": "[encoded data removed]",
      "text/plain": [
       "<Figure size 432x288 with 1 Axes>"
      ]
     },
     "metadata": {
      "needs_background": "light"
     },
     "output_type": "display_data"
    }
   ],
   "source": [
    "from sklearn.metrics import roc_auc_score\n",
    "from sklearn.metrics import roc_curve\n",
    "import matplotlib.pyplot as plt \n",
    "logit_roc_auc = roc_auc_score(y_test, logreg.predict(X_test),average='weighted')\n",
    "fpr, tpr, thresholds = roc_curve(y_test, logreg.predict_proba(X_test)[:,1])\n",
    "plt.figure()\n",
    "plt.plot(fpr, tpr, label='Logistic Regression (area = %0.2f)' % logit_roc_auc)\n",
    "plt.plot([0, 1], [0, 1],'r--')\n",
    "plt.xlim([0.0, 1.0])\n",
    "plt.ylim([0.0, 1.05])\n",
    "plt.xlabel('False Positive Rate')\n",
    "plt.ylabel('True Positive Rate')\n",
    "plt.title('Receiver operating characteristic')\n",
    "plt.legend(loc=\"lower right\")\n",
    "plt.savefig('Log_ROC')\n",
    "plt.show()"
   ]
  },
  {
   "cell_type": "code",
   "execution_count": 98,
   "metadata": {},
   "outputs": [],
   "source": [
    "from sklearn import svm\n",
    "clf = svm.SVC(probability=True,class_weight='balanced')\n",
    "clf.fit(X_train , y_train)\n",
    "# sig_clf = CalibratedClassifierCV(clf, method=\"sigmoid\")\n",
    "# sig_clf.fit(train_x_onehotCoding, train_y)\n",
    "sig_clf_probs = clf.predict(X_test)"
   ]
  },
  {
   "cell_type": "code",
   "execution_count": 99,
   "metadata": {},
   "outputs": [
    {
     "data": {
      "image/png": "[encoded data removed]",
      "text/plain": [
       "<Figure size 432x288 with 1 Axes>"
      ]
     },
     "metadata": {
      "needs_background": "light"
     },
     "output_type": "display_data"
    }
   ],
   "source": [
    "from sklearn.metrics import roc_auc_score\n",
    "from sklearn.metrics import roc_curve\n",
    "import matplotlib.pyplot as plt \n",
    "logit_roc_auc = roc_auc_score(y_test, clf.predict(X_test))\n",
    "fpr, tpr, thresholds = roc_curve(y_test, clf.predict_proba(X_test)[:,1])\n",
    "plt.figure()\n",
    "plt.plot(fpr, tpr, label='SVM (area = %0.2f)' % logit_roc_auc)\n",
    "plt.plot([0, 1], [0, 1],'r--')\n",
    "plt.xlim([0.0, 1.0])\n",
    "plt.ylim([0.0, 1.05])\n",
    "plt.xlabel('False Positive Rate')\n",
    "plt.ylabel('True Positive Rate')\n",
    "plt.title('Receiver operating characteristic')\n",
    "plt.legend(loc=\"lower right\")\n",
    "plt.savefig('SVM_ROC')\n",
    "plt.show()"
   ]
  },
  {
   "cell_type": "code",
   "execution_count": 101,
   "metadata": {},
   "outputs": [],
   "source": [
    "y_preds = log.predict(test)\n",
    "out_df = pd.DataFrame({\"ID\":test_ID})\n",
    "out_df[\"Business_Sourced\"] = y_preds\n",
    "out_df.to_csv(\"final.csv\", index=False)"
   ]
  },
  {
   "cell_type": "code",
   "execution_count": null,
   "metadata": {},
   "outputs": [],
   "source": []
  }
 ],
 "metadata": {
  "kernelspec": {
   "display_name": "Python 3",
   "language": "python",
   "name": "python3"
  },
  "language_info": {
   "codemirror_mode": {
    "name": "ipython",
    "version": 3
   },
   "file_extension": ".py",
   "mimetype": "text/x-python",
   "name": "python",
   "nbconvert_exporter": "python",
   "pygments_lexer": "ipython3",
   "version": "3.6.8"
  }
 },
 "nbformat": 4,
 "nbformat_minor": 4
}
