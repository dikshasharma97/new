{
 "cells": [
  {
   "cell_type": "code",
   "execution_count": 1,
   "id": "99d0c428",
   "metadata": {},
   "outputs": [],
   "source": [
    "import pandas as pd\n",
    "from sklearn.preprocessing import LabelEncoder\n",
    "import numpy as np\n",
    "from sklearn.preprocessing import OneHotEncoder\n",
    "from sklearn.preprocessing import StandardScaler\n",
    "from scipy import stats\n",
    "from sklearn.preprocessing import PowerTransformer\n",
    "import seaborn as sns\n",
    "import matplotlib.pyplot as plt \n",
    "%matplotlib inline\n"
   ]
  },
  {
   "cell_type": "code",
   "execution_count": 2,
   "id": "1e01d460",
   "metadata": {},
   "outputs": [],
   "source": [
    "\n",
    "d_train = pd.read_csv(\"C:/Users/diksha.sharma/Downloads/train_dK8Auve (2).csv\")\n",
    "d_test = pd.read_csv(\"C:/Users/diksha.sharma/Downloads/test_UyrvqPb (1).csv\")"
   ]
  },
  {
   "cell_type": "code",
   "execution_count": 3,
   "id": "450dad05",
   "metadata": {},
   "outputs": [
    {
     "data": {
      "text/html": [
       "<div>\n",
       "<style scoped>\n",
       "    .dataframe tbody tr th:only-of-type {\n",
       "        vertical-align: middle;\n",
       "    }\n",
       "\n",
       "    .dataframe tbody tr th {\n",
       "        vertical-align: top;\n",
       "    }\n",
       "\n",
       "    .dataframe thead th {\n",
       "        text-align: right;\n",
       "    }\n",
       "</style>\n",
       "<table border=\"1\" class=\"dataframe\">\n",
       "  <thead>\n",
       "    <tr style=\"text-align: right;\">\n",
       "      <th></th>\n",
       "      <th>ID</th>\n",
       "      <th>Office_PIN</th>\n",
       "      <th>Application_Receipt_Date</th>\n",
       "      <th>Applicant_City_PIN</th>\n",
       "      <th>Applicant_Gender</th>\n",
       "      <th>Applicant_BirthDate</th>\n",
       "      <th>Applicant_Marital_Status</th>\n",
       "      <th>Applicant_Occupation</th>\n",
       "      <th>Applicant_Qualification</th>\n",
       "      <th>Manager_DOJ</th>\n",
       "      <th>...</th>\n",
       "      <th>Manager_Status</th>\n",
       "      <th>Manager_Gender</th>\n",
       "      <th>Manager_DoB</th>\n",
       "      <th>Manager_Num_Application</th>\n",
       "      <th>Manager_Num_Coded</th>\n",
       "      <th>Manager_Business</th>\n",
       "      <th>Manager_Num_Products</th>\n",
       "      <th>Manager_Business2</th>\n",
       "      <th>Manager_Num_Products2</th>\n",
       "      <th>Business_Sourced</th>\n",
       "    </tr>\n",
       "  </thead>\n",
       "  <tbody>\n",
       "    <tr>\n",
       "      <th>0</th>\n",
       "      <td>FIN1000001</td>\n",
       "      <td>842001</td>\n",
       "      <td>4/16/2007</td>\n",
       "      <td>844120.0</td>\n",
       "      <td>M</td>\n",
       "      <td>12/19/1971</td>\n",
       "      <td>M</td>\n",
       "      <td>Others</td>\n",
       "      <td>Graduate</td>\n",
       "      <td>11/10/2005</td>\n",
       "      <td>...</td>\n",
       "      <td>Confirmation</td>\n",
       "      <td>M</td>\n",
       "      <td>2/17/1978</td>\n",
       "      <td>2.0</td>\n",
       "      <td>1.0</td>\n",
       "      <td>335249.0</td>\n",
       "      <td>28.0</td>\n",
       "      <td>335249.0</td>\n",
       "      <td>28.0</td>\n",
       "      <td>0</td>\n",
       "    </tr>\n",
       "    <tr>\n",
       "      <th>1</th>\n",
       "      <td>FIN1000002</td>\n",
       "      <td>842001</td>\n",
       "      <td>4/16/2007</td>\n",
       "      <td>844111.0</td>\n",
       "      <td>M</td>\n",
       "      <td>2/17/1983</td>\n",
       "      <td>S</td>\n",
       "      <td>Others</td>\n",
       "      <td>Class XII</td>\n",
       "      <td>11/10/2005</td>\n",
       "      <td>...</td>\n",
       "      <td>Confirmation</td>\n",
       "      <td>M</td>\n",
       "      <td>2/17/1978</td>\n",
       "      <td>2.0</td>\n",
       "      <td>1.0</td>\n",
       "      <td>335249.0</td>\n",
       "      <td>28.0</td>\n",
       "      <td>335249.0</td>\n",
       "      <td>28.0</td>\n",
       "      <td>1</td>\n",
       "    </tr>\n",
       "    <tr>\n",
       "      <th>2</th>\n",
       "      <td>FIN1000003</td>\n",
       "      <td>800001</td>\n",
       "      <td>4/16/2007</td>\n",
       "      <td>844101.0</td>\n",
       "      <td>M</td>\n",
       "      <td>1/16/1966</td>\n",
       "      <td>M</td>\n",
       "      <td>Business</td>\n",
       "      <td>Class XII</td>\n",
       "      <td>5/27/2006</td>\n",
       "      <td>...</td>\n",
       "      <td>Confirmation</td>\n",
       "      <td>M</td>\n",
       "      <td>3/3/1969</td>\n",
       "      <td>0.0</td>\n",
       "      <td>0.0</td>\n",
       "      <td>357184.0</td>\n",
       "      <td>24.0</td>\n",
       "      <td>357184.0</td>\n",
       "      <td>24.0</td>\n",
       "      <td>0</td>\n",
       "    </tr>\n",
       "    <tr>\n",
       "      <th>3</th>\n",
       "      <td>FIN1000004</td>\n",
       "      <td>814112</td>\n",
       "      <td>4/16/2007</td>\n",
       "      <td>814112.0</td>\n",
       "      <td>M</td>\n",
       "      <td>2/3/1988</td>\n",
       "      <td>S</td>\n",
       "      <td>Salaried</td>\n",
       "      <td>Class XII</td>\n",
       "      <td>8/21/2003</td>\n",
       "      <td>...</td>\n",
       "      <td>Confirmation</td>\n",
       "      <td>F</td>\n",
       "      <td>8/14/1978</td>\n",
       "      <td>0.0</td>\n",
       "      <td>0.0</td>\n",
       "      <td>318356.0</td>\n",
       "      <td>22.0</td>\n",
       "      <td>318356.0</td>\n",
       "      <td>22.0</td>\n",
       "      <td>0</td>\n",
       "    </tr>\n",
       "    <tr>\n",
       "      <th>4</th>\n",
       "      <td>FIN1000005</td>\n",
       "      <td>814112</td>\n",
       "      <td>4/16/2007</td>\n",
       "      <td>815351.0</td>\n",
       "      <td>M</td>\n",
       "      <td>7/4/1985</td>\n",
       "      <td>M</td>\n",
       "      <td>Others</td>\n",
       "      <td>Class XII</td>\n",
       "      <td>5/8/2006</td>\n",
       "      <td>...</td>\n",
       "      <td>Confirmation</td>\n",
       "      <td>M</td>\n",
       "      <td>2/7/1971</td>\n",
       "      <td>2.0</td>\n",
       "      <td>1.0</td>\n",
       "      <td>230402.0</td>\n",
       "      <td>17.0</td>\n",
       "      <td>230402.0</td>\n",
       "      <td>17.0</td>\n",
       "      <td>0</td>\n",
       "    </tr>\n",
       "    <tr>\n",
       "      <th>...</th>\n",
       "      <td>...</td>\n",
       "      <td>...</td>\n",
       "      <td>...</td>\n",
       "      <td>...</td>\n",
       "      <td>...</td>\n",
       "      <td>...</td>\n",
       "      <td>...</td>\n",
       "      <td>...</td>\n",
       "      <td>...</td>\n",
       "      <td>...</td>\n",
       "      <td>...</td>\n",
       "      <td>...</td>\n",
       "      <td>...</td>\n",
       "      <td>...</td>\n",
       "      <td>...</td>\n",
       "      <td>...</td>\n",
       "      <td>...</td>\n",
       "      <td>...</td>\n",
       "      <td>...</td>\n",
       "      <td>...</td>\n",
       "      <td>...</td>\n",
       "    </tr>\n",
       "    <tr>\n",
       "      <th>9522</th>\n",
       "      <td>FIN1009523</td>\n",
       "      <td>160017</td>\n",
       "      <td>7/1/2008</td>\n",
       "      <td>160032.0</td>\n",
       "      <td>M</td>\n",
       "      <td>1/18/1970</td>\n",
       "      <td>M</td>\n",
       "      <td>Salaried</td>\n",
       "      <td>Graduate</td>\n",
       "      <td>5/5/2008</td>\n",
       "      <td>...</td>\n",
       "      <td>Probation</td>\n",
       "      <td>M</td>\n",
       "      <td>5/10/1967</td>\n",
       "      <td>0.0</td>\n",
       "      <td>0.0</td>\n",
       "      <td>0.0</td>\n",
       "      <td>0.0</td>\n",
       "      <td>0.0</td>\n",
       "      <td>0.0</td>\n",
       "      <td>0</td>\n",
       "    </tr>\n",
       "    <tr>\n",
       "      <th>9523</th>\n",
       "      <td>FIN1009524</td>\n",
       "      <td>848101</td>\n",
       "      <td>7/1/2008</td>\n",
       "      <td>848302.0</td>\n",
       "      <td>M</td>\n",
       "      <td>9/11/1956</td>\n",
       "      <td>M</td>\n",
       "      <td>NaN</td>\n",
       "      <td>Graduate</td>\n",
       "      <td>NaN</td>\n",
       "      <td>...</td>\n",
       "      <td>NaN</td>\n",
       "      <td>NaN</td>\n",
       "      <td>NaN</td>\n",
       "      <td>NaN</td>\n",
       "      <td>NaN</td>\n",
       "      <td>NaN</td>\n",
       "      <td>NaN</td>\n",
       "      <td>NaN</td>\n",
       "      <td>NaN</td>\n",
       "      <td>0</td>\n",
       "    </tr>\n",
       "    <tr>\n",
       "      <th>9524</th>\n",
       "      <td>FIN1009525</td>\n",
       "      <td>753012</td>\n",
       "      <td>7/1/2008</td>\n",
       "      <td>753014.0</td>\n",
       "      <td>F</td>\n",
       "      <td>8/7/1975</td>\n",
       "      <td>M</td>\n",
       "      <td>Salaried</td>\n",
       "      <td>Graduate</td>\n",
       "      <td>8/22/2006</td>\n",
       "      <td>...</td>\n",
       "      <td>Confirmation</td>\n",
       "      <td>M</td>\n",
       "      <td>7/22/1970</td>\n",
       "      <td>0.0</td>\n",
       "      <td>0.0</td>\n",
       "      <td>316126.0</td>\n",
       "      <td>9.0</td>\n",
       "      <td>305775.0</td>\n",
       "      <td>8.0</td>\n",
       "      <td>0</td>\n",
       "    </tr>\n",
       "    <tr>\n",
       "      <th>9525</th>\n",
       "      <td>FIN1009526</td>\n",
       "      <td>575003</td>\n",
       "      <td>7/1/2008</td>\n",
       "      <td>571248.0</td>\n",
       "      <td>M</td>\n",
       "      <td>12/23/1986</td>\n",
       "      <td>S</td>\n",
       "      <td>Salaried</td>\n",
       "      <td>Class XII</td>\n",
       "      <td>6/5/2008</td>\n",
       "      <td>...</td>\n",
       "      <td>Probation</td>\n",
       "      <td>M</td>\n",
       "      <td>9/23/1976</td>\n",
       "      <td>0.0</td>\n",
       "      <td>0.0</td>\n",
       "      <td>0.0</td>\n",
       "      <td>0.0</td>\n",
       "      <td>0.0</td>\n",
       "      <td>0.0</td>\n",
       "      <td>0</td>\n",
       "    </tr>\n",
       "    <tr>\n",
       "      <th>9526</th>\n",
       "      <td>FIN1009527</td>\n",
       "      <td>411006</td>\n",
       "      <td>7/1/2008</td>\n",
       "      <td>411006.0</td>\n",
       "      <td>F</td>\n",
       "      <td>2/7/1976</td>\n",
       "      <td>M</td>\n",
       "      <td>Others</td>\n",
       "      <td>Graduate</td>\n",
       "      <td>NaN</td>\n",
       "      <td>...</td>\n",
       "      <td>NaN</td>\n",
       "      <td>NaN</td>\n",
       "      <td>NaN</td>\n",
       "      <td>NaN</td>\n",
       "      <td>NaN</td>\n",
       "      <td>NaN</td>\n",
       "      <td>NaN</td>\n",
       "      <td>NaN</td>\n",
       "      <td>NaN</td>\n",
       "      <td>0</td>\n",
       "    </tr>\n",
       "  </tbody>\n",
       "</table>\n",
       "<p>9527 rows × 23 columns</p>\n",
       "</div>"
      ],
      "text/plain": [
       "              ID  Office_PIN Application_Receipt_Date  Applicant_City_PIN  \\\n",
       "0     FIN1000001      842001                4/16/2007            844120.0   \n",
       "1     FIN1000002      842001                4/16/2007            844111.0   \n",
       "2     FIN1000003      800001                4/16/2007            844101.0   \n",
       "3     FIN1000004      814112                4/16/2007            814112.0   \n",
       "4     FIN1000005      814112                4/16/2007            815351.0   \n",
       "...          ...         ...                      ...                 ...   \n",
       "9522  FIN1009523      160017                 7/1/2008            160032.0   \n",
       "9523  FIN1009524      848101                 7/1/2008            848302.0   \n",
       "9524  FIN1009525      753012                 7/1/2008            753014.0   \n",
       "9525  FIN1009526      575003                 7/1/2008            571248.0   \n",
       "9526  FIN1009527      411006                 7/1/2008            411006.0   \n",
       "\n",
       "     Applicant_Gender Applicant_BirthDate Applicant_Marital_Status  \\\n",
       "0                   M          12/19/1971                        M   \n",
       "1                   M           2/17/1983                        S   \n",
       "2                   M           1/16/1966                        M   \n",
       "3                   M            2/3/1988                        S   \n",
       "4                   M            7/4/1985                        M   \n",
       "...               ...                 ...                      ...   \n",
       "9522                M           1/18/1970                        M   \n",
       "9523                M           9/11/1956                        M   \n",
       "9524                F            8/7/1975                        M   \n",
       "9525                M          12/23/1986                        S   \n",
       "9526                F            2/7/1976                        M   \n",
       "\n",
       "     Applicant_Occupation Applicant_Qualification Manager_DOJ  ...  \\\n",
       "0                  Others                Graduate  11/10/2005  ...   \n",
       "1                  Others               Class XII  11/10/2005  ...   \n",
       "2                Business               Class XII   5/27/2006  ...   \n",
       "3                Salaried               Class XII   8/21/2003  ...   \n",
       "4                  Others               Class XII    5/8/2006  ...   \n",
       "...                   ...                     ...         ...  ...   \n",
       "9522             Salaried                Graduate    5/5/2008  ...   \n",
       "9523                  NaN                Graduate         NaN  ...   \n",
       "9524             Salaried                Graduate   8/22/2006  ...   \n",
       "9525             Salaried               Class XII    6/5/2008  ...   \n",
       "9526               Others                Graduate         NaN  ...   \n",
       "\n",
       "     Manager_Status Manager_Gender  Manager_DoB Manager_Num_Application  \\\n",
       "0      Confirmation              M    2/17/1978                     2.0   \n",
       "1      Confirmation              M    2/17/1978                     2.0   \n",
       "2      Confirmation              M     3/3/1969                     0.0   \n",
       "3      Confirmation              F    8/14/1978                     0.0   \n",
       "4      Confirmation              M     2/7/1971                     2.0   \n",
       "...             ...            ...          ...                     ...   \n",
       "9522      Probation              M    5/10/1967                     0.0   \n",
       "9523            NaN            NaN          NaN                     NaN   \n",
       "9524   Confirmation              M    7/22/1970                     0.0   \n",
       "9525      Probation              M    9/23/1976                     0.0   \n",
       "9526            NaN            NaN          NaN                     NaN   \n",
       "\n",
       "     Manager_Num_Coded Manager_Business  Manager_Num_Products  \\\n",
       "0                  1.0         335249.0                  28.0   \n",
       "1                  1.0         335249.0                  28.0   \n",
       "2                  0.0         357184.0                  24.0   \n",
       "3                  0.0         318356.0                  22.0   \n",
       "4                  1.0         230402.0                  17.0   \n",
       "...                ...              ...                   ...   \n",
       "9522               0.0              0.0                   0.0   \n",
       "9523               NaN              NaN                   NaN   \n",
       "9524               0.0         316126.0                   9.0   \n",
       "9525               0.0              0.0                   0.0   \n",
       "9526               NaN              NaN                   NaN   \n",
       "\n",
       "      Manager_Business2  Manager_Num_Products2  Business_Sourced  \n",
       "0              335249.0                   28.0                 0  \n",
       "1              335249.0                   28.0                 1  \n",
       "2              357184.0                   24.0                 0  \n",
       "3              318356.0                   22.0                 0  \n",
       "4              230402.0                   17.0                 0  \n",
       "...                 ...                    ...               ...  \n",
       "9522                0.0                    0.0                 0  \n",
       "9523                NaN                    NaN                 0  \n",
       "9524           305775.0                    8.0                 0  \n",
       "9525                0.0                    0.0                 0  \n",
       "9526                NaN                    NaN                 0  \n",
       "\n",
       "[9527 rows x 23 columns]"
      ]
     },
     "execution_count": 3,
     "metadata": {},
     "output_type": "execute_result"
    }
   ],
   "source": [
    "d_train"
   ]
  },
  {
   "cell_type": "code",
   "execution_count": 4,
   "id": "eaa909ab",
   "metadata": {},
   "outputs": [
    {
     "data": {
      "text/html": [
       "<div>\n",
       "<style scoped>\n",
       "    .dataframe tbody tr th:only-of-type {\n",
       "        vertical-align: middle;\n",
       "    }\n",
       "\n",
       "    .dataframe tbody tr th {\n",
       "        vertical-align: top;\n",
       "    }\n",
       "\n",
       "    .dataframe thead th {\n",
       "        text-align: right;\n",
       "    }\n",
       "</style>\n",
       "<table border=\"1\" class=\"dataframe\">\n",
       "  <thead>\n",
       "    <tr style=\"text-align: right;\">\n",
       "      <th></th>\n",
       "      <th>ID</th>\n",
       "      <th>Office_PIN</th>\n",
       "      <th>Application_Receipt_Date</th>\n",
       "      <th>Applicant_City_PIN</th>\n",
       "      <th>Applicant_Gender</th>\n",
       "      <th>Applicant_BirthDate</th>\n",
       "      <th>Applicant_Marital_Status</th>\n",
       "      <th>Applicant_Occupation</th>\n",
       "      <th>Applicant_Qualification</th>\n",
       "      <th>Manager_DOJ</th>\n",
       "      <th>...</th>\n",
       "      <th>Manager_Grade</th>\n",
       "      <th>Manager_Status</th>\n",
       "      <th>Manager_Gender</th>\n",
       "      <th>Manager_DoB</th>\n",
       "      <th>Manager_Num_Application</th>\n",
       "      <th>Manager_Num_Coded</th>\n",
       "      <th>Manager_Business</th>\n",
       "      <th>Manager_Num_Products</th>\n",
       "      <th>Manager_Business2</th>\n",
       "      <th>Manager_Num_Products2</th>\n",
       "    </tr>\n",
       "  </thead>\n",
       "  <tbody>\n",
       "    <tr>\n",
       "      <th>0</th>\n",
       "      <td>FIN1009528</td>\n",
       "      <td>284001</td>\n",
       "      <td>7/2/2008</td>\n",
       "      <td>284001.0</td>\n",
       "      <td>M</td>\n",
       "      <td>8/5/1982</td>\n",
       "      <td>S</td>\n",
       "      <td>Salaried</td>\n",
       "      <td>Graduate</td>\n",
       "      <td>5/26/2008</td>\n",
       "      <td>...</td>\n",
       "      <td>2.0</td>\n",
       "      <td>Probation</td>\n",
       "      <td>F</td>\n",
       "      <td>10/14/1978</td>\n",
       "      <td>1.0</td>\n",
       "      <td>0.0</td>\n",
       "      <td>0.0</td>\n",
       "      <td>0.0</td>\n",
       "      <td>0.0</td>\n",
       "      <td>0.0</td>\n",
       "    </tr>\n",
       "    <tr>\n",
       "      <th>1</th>\n",
       "      <td>FIN1009529</td>\n",
       "      <td>800001</td>\n",
       "      <td>7/2/2008</td>\n",
       "      <td>800026.0</td>\n",
       "      <td>M</td>\n",
       "      <td>3/11/1968</td>\n",
       "      <td>M</td>\n",
       "      <td>Salaried</td>\n",
       "      <td>Graduate</td>\n",
       "      <td>6/24/2008</td>\n",
       "      <td>...</td>\n",
       "      <td>2.0</td>\n",
       "      <td>Probation</td>\n",
       "      <td>M</td>\n",
       "      <td>3/3/1971</td>\n",
       "      <td>2.0</td>\n",
       "      <td>0.0</td>\n",
       "      <td>0.0</td>\n",
       "      <td>0.0</td>\n",
       "      <td>0.0</td>\n",
       "      <td>0.0</td>\n",
       "    </tr>\n",
       "    <tr>\n",
       "      <th>2</th>\n",
       "      <td>FIN1009530</td>\n",
       "      <td>800001</td>\n",
       "      <td>7/2/2008</td>\n",
       "      <td>NaN</td>\n",
       "      <td>M</td>\n",
       "      <td>12/16/1984</td>\n",
       "      <td>S</td>\n",
       "      <td>NaN</td>\n",
       "      <td>Graduate</td>\n",
       "      <td>NaN</td>\n",
       "      <td>...</td>\n",
       "      <td>NaN</td>\n",
       "      <td>NaN</td>\n",
       "      <td>NaN</td>\n",
       "      <td>NaN</td>\n",
       "      <td>NaN</td>\n",
       "      <td>NaN</td>\n",
       "      <td>NaN</td>\n",
       "      <td>NaN</td>\n",
       "      <td>NaN</td>\n",
       "      <td>NaN</td>\n",
       "    </tr>\n",
       "    <tr>\n",
       "      <th>3</th>\n",
       "      <td>FIN1009531</td>\n",
       "      <td>800001</td>\n",
       "      <td>7/2/2008</td>\n",
       "      <td>844112.0</td>\n",
       "      <td>M</td>\n",
       "      <td>6/7/1971</td>\n",
       "      <td>S</td>\n",
       "      <td>Salaried</td>\n",
       "      <td>Graduate</td>\n",
       "      <td>NaN</td>\n",
       "      <td>...</td>\n",
       "      <td>NaN</td>\n",
       "      <td>NaN</td>\n",
       "      <td>NaN</td>\n",
       "      <td>NaN</td>\n",
       "      <td>NaN</td>\n",
       "      <td>NaN</td>\n",
       "      <td>NaN</td>\n",
       "      <td>NaN</td>\n",
       "      <td>NaN</td>\n",
       "      <td>NaN</td>\n",
       "    </tr>\n",
       "    <tr>\n",
       "      <th>4</th>\n",
       "      <td>FIN1009532</td>\n",
       "      <td>533101</td>\n",
       "      <td>7/2/2008</td>\n",
       "      <td>533102.0</td>\n",
       "      <td>M</td>\n",
       "      <td>7/22/1978</td>\n",
       "      <td>S</td>\n",
       "      <td>NaN</td>\n",
       "      <td>Masters of Business Administration</td>\n",
       "      <td>12/4/2007</td>\n",
       "      <td>...</td>\n",
       "      <td>3.0</td>\n",
       "      <td>Confirmation</td>\n",
       "      <td>M</td>\n",
       "      <td>6/23/1977</td>\n",
       "      <td>4.0</td>\n",
       "      <td>1.0</td>\n",
       "      <td>97352.0</td>\n",
       "      <td>3.0</td>\n",
       "      <td>97352.0</td>\n",
       "      <td>3.0</td>\n",
       "    </tr>\n",
       "    <tr>\n",
       "      <th>...</th>\n",
       "      <td>...</td>\n",
       "      <td>...</td>\n",
       "      <td>...</td>\n",
       "      <td>...</td>\n",
       "      <td>...</td>\n",
       "      <td>...</td>\n",
       "      <td>...</td>\n",
       "      <td>...</td>\n",
       "      <td>...</td>\n",
       "      <td>...</td>\n",
       "      <td>...</td>\n",
       "      <td>...</td>\n",
       "      <td>...</td>\n",
       "      <td>...</td>\n",
       "      <td>...</td>\n",
       "      <td>...</td>\n",
       "      <td>...</td>\n",
       "      <td>...</td>\n",
       "      <td>...</td>\n",
       "      <td>...</td>\n",
       "      <td>...</td>\n",
       "    </tr>\n",
       "    <tr>\n",
       "      <th>5040</th>\n",
       "      <td>FIN1014568</td>\n",
       "      <td>691008</td>\n",
       "      <td>1/1/2009</td>\n",
       "      <td>691601.0</td>\n",
       "      <td>F</td>\n",
       "      <td>5/21/1966</td>\n",
       "      <td>M</td>\n",
       "      <td>Others</td>\n",
       "      <td>Graduate</td>\n",
       "      <td>12/2/2008</td>\n",
       "      <td>...</td>\n",
       "      <td>3.0</td>\n",
       "      <td>Probation</td>\n",
       "      <td>M</td>\n",
       "      <td>5/27/1978</td>\n",
       "      <td>0.0</td>\n",
       "      <td>0.0</td>\n",
       "      <td>0.0</td>\n",
       "      <td>0.0</td>\n",
       "      <td>0.0</td>\n",
       "      <td>0.0</td>\n",
       "    </tr>\n",
       "    <tr>\n",
       "      <th>5041</th>\n",
       "      <td>FIN1014569</td>\n",
       "      <td>691008</td>\n",
       "      <td>1/1/2009</td>\n",
       "      <td>691601.0</td>\n",
       "      <td>M</td>\n",
       "      <td>12/2/1949</td>\n",
       "      <td>M</td>\n",
       "      <td>Others</td>\n",
       "      <td>Graduate</td>\n",
       "      <td>12/2/2008</td>\n",
       "      <td>...</td>\n",
       "      <td>3.0</td>\n",
       "      <td>Probation</td>\n",
       "      <td>M</td>\n",
       "      <td>5/27/1978</td>\n",
       "      <td>0.0</td>\n",
       "      <td>0.0</td>\n",
       "      <td>0.0</td>\n",
       "      <td>0.0</td>\n",
       "      <td>0.0</td>\n",
       "      <td>0.0</td>\n",
       "    </tr>\n",
       "    <tr>\n",
       "      <th>5042</th>\n",
       "      <td>FIN1014570</td>\n",
       "      <td>691008</td>\n",
       "      <td>1/1/2009</td>\n",
       "      <td>691005.0</td>\n",
       "      <td>M</td>\n",
       "      <td>5/20/1977</td>\n",
       "      <td>M</td>\n",
       "      <td>Business</td>\n",
       "      <td>Class XII</td>\n",
       "      <td>12/2/2008</td>\n",
       "      <td>...</td>\n",
       "      <td>3.0</td>\n",
       "      <td>Probation</td>\n",
       "      <td>M</td>\n",
       "      <td>5/27/1978</td>\n",
       "      <td>0.0</td>\n",
       "      <td>0.0</td>\n",
       "      <td>0.0</td>\n",
       "      <td>0.0</td>\n",
       "      <td>0.0</td>\n",
       "      <td>0.0</td>\n",
       "    </tr>\n",
       "    <tr>\n",
       "      <th>5043</th>\n",
       "      <td>FIN1014571</td>\n",
       "      <td>208001</td>\n",
       "      <td>1/1/2009</td>\n",
       "      <td>208022.0</td>\n",
       "      <td>M</td>\n",
       "      <td>7/22/1985</td>\n",
       "      <td>M</td>\n",
       "      <td>NaN</td>\n",
       "      <td>Graduate</td>\n",
       "      <td>9/25/2008</td>\n",
       "      <td>...</td>\n",
       "      <td>3.0</td>\n",
       "      <td>Probation</td>\n",
       "      <td>M</td>\n",
       "      <td>6/26/1978</td>\n",
       "      <td>4.0</td>\n",
       "      <td>1.0</td>\n",
       "      <td>15347.0</td>\n",
       "      <td>1.0</td>\n",
       "      <td>15347.0</td>\n",
       "      <td>1.0</td>\n",
       "    </tr>\n",
       "    <tr>\n",
       "      <th>5044</th>\n",
       "      <td>FIN1014572</td>\n",
       "      <td>122002</td>\n",
       "      <td>1/1/2009</td>\n",
       "      <td>122001.0</td>\n",
       "      <td>M</td>\n",
       "      <td>5/12/1985</td>\n",
       "      <td>M</td>\n",
       "      <td>NaN</td>\n",
       "      <td>Graduate</td>\n",
       "      <td>12/19/2008</td>\n",
       "      <td>...</td>\n",
       "      <td>3.0</td>\n",
       "      <td>Probation</td>\n",
       "      <td>M</td>\n",
       "      <td>12/29/1983</td>\n",
       "      <td>0.0</td>\n",
       "      <td>0.0</td>\n",
       "      <td>0.0</td>\n",
       "      <td>0.0</td>\n",
       "      <td>0.0</td>\n",
       "      <td>0.0</td>\n",
       "    </tr>\n",
       "  </tbody>\n",
       "</table>\n",
       "<p>5045 rows × 22 columns</p>\n",
       "</div>"
      ],
      "text/plain": [
       "              ID  Office_PIN Application_Receipt_Date  Applicant_City_PIN  \\\n",
       "0     FIN1009528      284001                 7/2/2008            284001.0   \n",
       "1     FIN1009529      800001                 7/2/2008            800026.0   \n",
       "2     FIN1009530      800001                 7/2/2008                 NaN   \n",
       "3     FIN1009531      800001                 7/2/2008            844112.0   \n",
       "4     FIN1009532      533101                 7/2/2008            533102.0   \n",
       "...          ...         ...                      ...                 ...   \n",
       "5040  FIN1014568      691008                 1/1/2009            691601.0   \n",
       "5041  FIN1014569      691008                 1/1/2009            691601.0   \n",
       "5042  FIN1014570      691008                 1/1/2009            691005.0   \n",
       "5043  FIN1014571      208001                 1/1/2009            208022.0   \n",
       "5044  FIN1014572      122002                 1/1/2009            122001.0   \n",
       "\n",
       "     Applicant_Gender Applicant_BirthDate Applicant_Marital_Status  \\\n",
       "0                   M            8/5/1982                        S   \n",
       "1                   M           3/11/1968                        M   \n",
       "2                   M          12/16/1984                        S   \n",
       "3                   M            6/7/1971                        S   \n",
       "4                   M           7/22/1978                        S   \n",
       "...               ...                 ...                      ...   \n",
       "5040                F           5/21/1966                        M   \n",
       "5041                M           12/2/1949                        M   \n",
       "5042                M           5/20/1977                        M   \n",
       "5043                M           7/22/1985                        M   \n",
       "5044                M           5/12/1985                        M   \n",
       "\n",
       "     Applicant_Occupation             Applicant_Qualification Manager_DOJ  \\\n",
       "0                Salaried                            Graduate   5/26/2008   \n",
       "1                Salaried                            Graduate   6/24/2008   \n",
       "2                     NaN                            Graduate         NaN   \n",
       "3                Salaried                            Graduate         NaN   \n",
       "4                     NaN  Masters of Business Administration   12/4/2007   \n",
       "...                   ...                                 ...         ...   \n",
       "5040               Others                            Graduate   12/2/2008   \n",
       "5041               Others                            Graduate   12/2/2008   \n",
       "5042             Business                           Class XII   12/2/2008   \n",
       "5043                  NaN                            Graduate   9/25/2008   \n",
       "5044                  NaN                            Graduate  12/19/2008   \n",
       "\n",
       "      ... Manager_Grade Manager_Status  Manager_Gender Manager_DoB  \\\n",
       "0     ...           2.0      Probation               F  10/14/1978   \n",
       "1     ...           2.0      Probation               M    3/3/1971   \n",
       "2     ...           NaN            NaN             NaN         NaN   \n",
       "3     ...           NaN            NaN             NaN         NaN   \n",
       "4     ...           3.0   Confirmation               M   6/23/1977   \n",
       "...   ...           ...            ...             ...         ...   \n",
       "5040  ...           3.0      Probation               M   5/27/1978   \n",
       "5041  ...           3.0      Probation               M   5/27/1978   \n",
       "5042  ...           3.0      Probation               M   5/27/1978   \n",
       "5043  ...           3.0      Probation               M   6/26/1978   \n",
       "5044  ...           3.0      Probation               M  12/29/1983   \n",
       "\n",
       "     Manager_Num_Application Manager_Num_Coded  Manager_Business  \\\n",
       "0                        1.0               0.0               0.0   \n",
       "1                        2.0               0.0               0.0   \n",
       "2                        NaN               NaN               NaN   \n",
       "3                        NaN               NaN               NaN   \n",
       "4                        4.0               1.0           97352.0   \n",
       "...                      ...               ...               ...   \n",
       "5040                     0.0               0.0               0.0   \n",
       "5041                     0.0               0.0               0.0   \n",
       "5042                     0.0               0.0               0.0   \n",
       "5043                     4.0               1.0           15347.0   \n",
       "5044                     0.0               0.0               0.0   \n",
       "\n",
       "      Manager_Num_Products  Manager_Business2  Manager_Num_Products2  \n",
       "0                      0.0                0.0                    0.0  \n",
       "1                      0.0                0.0                    0.0  \n",
       "2                      NaN                NaN                    NaN  \n",
       "3                      NaN                NaN                    NaN  \n",
       "4                      3.0            97352.0                    3.0  \n",
       "...                    ...                ...                    ...  \n",
       "5040                   0.0                0.0                    0.0  \n",
       "5041                   0.0                0.0                    0.0  \n",
       "5042                   0.0                0.0                    0.0  \n",
       "5043                   1.0            15347.0                    1.0  \n",
       "5044                   0.0                0.0                    0.0  \n",
       "\n",
       "[5045 rows x 22 columns]"
      ]
     },
     "execution_count": 4,
     "metadata": {},
     "output_type": "execute_result"
    }
   ],
   "source": [
    "d_test"
   ]
  },
  {
   "cell_type": "code",
   "execution_count": 5,
   "id": "08c38867",
   "metadata": {},
   "outputs": [
    {
     "data": {
      "text/plain": [
       "(9527, 23)"
      ]
     },
     "execution_count": 5,
     "metadata": {},
     "output_type": "execute_result"
    }
   ],
   "source": [
    "d_train.shape"
   ]
  },
  {
   "cell_type": "code",
   "execution_count": 6,
   "id": "8f5ad774",
   "metadata": {},
   "outputs": [
    {
     "data": {
      "text/plain": [
       "(5045, 22)"
      ]
     },
     "execution_count": 6,
     "metadata": {},
     "output_type": "execute_result"
    }
   ],
   "source": [
    "d_test.shape"
   ]
  },
  {
   "cell_type": "code",
   "execution_count": 7,
   "id": "eda354e6",
   "metadata": {},
   "outputs": [
    {
     "data": {
      "text/plain": [
       "ID                              object\n",
       "Office_PIN                       int64\n",
       "Application_Receipt_Date        object\n",
       "Applicant_City_PIN             float64\n",
       "Applicant_Gender                object\n",
       "Applicant_BirthDate             object\n",
       "Applicant_Marital_Status        object\n",
       "Applicant_Occupation            object\n",
       "Applicant_Qualification         object\n",
       "Manager_DOJ                     object\n",
       "Manager_Joining_Designation     object\n",
       "Manager_Current_Designation     object\n",
       "Manager_Grade                  float64\n",
       "Manager_Status                  object\n",
       "Manager_Gender                  object\n",
       "Manager_DoB                     object\n",
       "Manager_Num_Application        float64\n",
       "Manager_Num_Coded              float64\n",
       "Manager_Business               float64\n",
       "Manager_Num_Products           float64\n",
       "Manager_Business2              float64\n",
       "Manager_Num_Products2          float64\n",
       "dtype: object"
      ]
     },
     "execution_count": 7,
     "metadata": {},
     "output_type": "execute_result"
    }
   ],
   "source": [
    "d_test.dtypes"
   ]
  },
  {
   "cell_type": "code",
   "execution_count": 8,
   "id": "8bfcc80a",
   "metadata": {},
   "outputs": [
    {
     "data": {
      "text/plain": [
       "ID                              object\n",
       "Office_PIN                       int64\n",
       "Application_Receipt_Date        object\n",
       "Applicant_City_PIN             float64\n",
       "Applicant_Gender                object\n",
       "Applicant_BirthDate             object\n",
       "Applicant_Marital_Status        object\n",
       "Applicant_Occupation            object\n",
       "Applicant_Qualification         object\n",
       "Manager_DOJ                     object\n",
       "Manager_Joining_Designation     object\n",
       "Manager_Current_Designation     object\n",
       "Manager_Grade                  float64\n",
       "Manager_Status                  object\n",
       "Manager_Gender                  object\n",
       "Manager_DoB                     object\n",
       "Manager_Num_Application        float64\n",
       "Manager_Num_Coded              float64\n",
       "Manager_Business               float64\n",
       "Manager_Num_Products           float64\n",
       "Manager_Business2              float64\n",
       "Manager_Num_Products2          float64\n",
       "dtype: object"
      ]
     },
     "execution_count": 8,
     "metadata": {},
     "output_type": "execute_result"
    }
   ],
   "source": [
    "d_test.dtypes"
   ]
  },
  {
   "cell_type": "code",
   "execution_count": 9,
   "id": "b67146b6",
   "metadata": {},
   "outputs": [
    {
     "data": {
      "text/html": [
       "<div>\n",
       "<style scoped>\n",
       "    .dataframe tbody tr th:only-of-type {\n",
       "        vertical-align: middle;\n",
       "    }\n",
       "\n",
       "    .dataframe tbody tr th {\n",
       "        vertical-align: top;\n",
       "    }\n",
       "\n",
       "    .dataframe thead th {\n",
       "        text-align: right;\n",
       "    }\n",
       "</style>\n",
       "<table border=\"1\" class=\"dataframe\">\n",
       "  <thead>\n",
       "    <tr style=\"text-align: right;\">\n",
       "      <th></th>\n",
       "      <th>ID</th>\n",
       "      <th>Application_Receipt_Date</th>\n",
       "      <th>Applicant_Gender</th>\n",
       "      <th>Applicant_BirthDate</th>\n",
       "      <th>Applicant_Marital_Status</th>\n",
       "      <th>Applicant_Occupation</th>\n",
       "      <th>Applicant_Qualification</th>\n",
       "      <th>Manager_DOJ</th>\n",
       "      <th>Manager_Joining_Designation</th>\n",
       "      <th>Manager_Current_Designation</th>\n",
       "      <th>Manager_Status</th>\n",
       "      <th>Manager_Gender</th>\n",
       "      <th>Manager_DoB</th>\n",
       "    </tr>\n",
       "  </thead>\n",
       "  <tbody>\n",
       "    <tr>\n",
       "      <th>count</th>\n",
       "      <td>9527</td>\n",
       "      <td>9527</td>\n",
       "      <td>9460</td>\n",
       "      <td>9454</td>\n",
       "      <td>9454</td>\n",
       "      <td>8306</td>\n",
       "      <td>9441</td>\n",
       "      <td>8844</td>\n",
       "      <td>8844</td>\n",
       "      <td>8844</td>\n",
       "      <td>8844</td>\n",
       "      <td>8844</td>\n",
       "      <td>8844</td>\n",
       "    </tr>\n",
       "    <tr>\n",
       "      <th>unique</th>\n",
       "      <td>9527</td>\n",
       "      <td>357</td>\n",
       "      <td>2</td>\n",
       "      <td>5836</td>\n",
       "      <td>4</td>\n",
       "      <td>5</td>\n",
       "      <td>11</td>\n",
       "      <td>646</td>\n",
       "      <td>8</td>\n",
       "      <td>5</td>\n",
       "      <td>2</td>\n",
       "      <td>2</td>\n",
       "      <td>1245</td>\n",
       "    </tr>\n",
       "    <tr>\n",
       "      <th>top</th>\n",
       "      <td>FIN1006524</td>\n",
       "      <td>5/9/2007</td>\n",
       "      <td>M</td>\n",
       "      <td>1/3/1978</td>\n",
       "      <td>M</td>\n",
       "      <td>Salaried</td>\n",
       "      <td>Class XII</td>\n",
       "      <td>7/9/2007</td>\n",
       "      <td>Level 1</td>\n",
       "      <td>Level 2</td>\n",
       "      <td>Confirmation</td>\n",
       "      <td>M</td>\n",
       "      <td>2/11/1961</td>\n",
       "    </tr>\n",
       "    <tr>\n",
       "      <th>freq</th>\n",
       "      <td>1</td>\n",
       "      <td>165</td>\n",
       "      <td>7179</td>\n",
       "      <td>24</td>\n",
       "      <td>6177</td>\n",
       "      <td>3787</td>\n",
       "      <td>5806</td>\n",
       "      <td>106</td>\n",
       "      <td>4632</td>\n",
       "      <td>3208</td>\n",
       "      <td>5277</td>\n",
       "      <td>7627</td>\n",
       "      <td>45</td>\n",
       "    </tr>\n",
       "  </tbody>\n",
       "</table>\n",
       "</div>"
      ],
      "text/plain": [
       "                ID Application_Receipt_Date Applicant_Gender  \\\n",
       "count         9527                     9527             9460   \n",
       "unique        9527                      357                2   \n",
       "top     FIN1006524                 5/9/2007                M   \n",
       "freq             1                      165             7179   \n",
       "\n",
       "       Applicant_BirthDate Applicant_Marital_Status Applicant_Occupation  \\\n",
       "count                 9454                     9454                 8306   \n",
       "unique                5836                        4                    5   \n",
       "top               1/3/1978                        M             Salaried   \n",
       "freq                    24                     6177                 3787   \n",
       "\n",
       "       Applicant_Qualification Manager_DOJ Manager_Joining_Designation  \\\n",
       "count                     9441        8844                        8844   \n",
       "unique                      11         646                           8   \n",
       "top                  Class XII    7/9/2007                     Level 1   \n",
       "freq                      5806         106                        4632   \n",
       "\n",
       "       Manager_Current_Designation Manager_Status Manager_Gender Manager_DoB  \n",
       "count                         8844           8844           8844        8844  \n",
       "unique                           5              2              2        1245  \n",
       "top                        Level 2   Confirmation              M   2/11/1961  \n",
       "freq                          3208           5277           7627          45  "
      ]
     },
     "execution_count": 9,
     "metadata": {},
     "output_type": "execute_result"
    }
   ],
   "source": [
    "d_train.describe(include='object')"
   ]
  },
  {
   "cell_type": "code",
   "execution_count": 10,
   "id": "ed8db656",
   "metadata": {},
   "outputs": [
    {
     "data": {
      "text/html": [
       "<div>\n",
       "<style scoped>\n",
       "    .dataframe tbody tr th:only-of-type {\n",
       "        vertical-align: middle;\n",
       "    }\n",
       "\n",
       "    .dataframe tbody tr th {\n",
       "        vertical-align: top;\n",
       "    }\n",
       "\n",
       "    .dataframe thead th {\n",
       "        text-align: right;\n",
       "    }\n",
       "</style>\n",
       "<table border=\"1\" class=\"dataframe\">\n",
       "  <thead>\n",
       "    <tr style=\"text-align: right;\">\n",
       "      <th></th>\n",
       "      <th>ID</th>\n",
       "      <th>Application_Receipt_Date</th>\n",
       "      <th>Applicant_Gender</th>\n",
       "      <th>Applicant_BirthDate</th>\n",
       "      <th>Applicant_Marital_Status</th>\n",
       "      <th>Applicant_Occupation</th>\n",
       "      <th>Applicant_Qualification</th>\n",
       "      <th>Manager_DOJ</th>\n",
       "      <th>Manager_Joining_Designation</th>\n",
       "      <th>Manager_Current_Designation</th>\n",
       "      <th>Manager_Status</th>\n",
       "      <th>Manager_Gender</th>\n",
       "      <th>Manager_DoB</th>\n",
       "    </tr>\n",
       "  </thead>\n",
       "  <tbody>\n",
       "    <tr>\n",
       "      <th>count</th>\n",
       "      <td>5045</td>\n",
       "      <td>5045</td>\n",
       "      <td>5023</td>\n",
       "      <td>5022</td>\n",
       "      <td>5015</td>\n",
       "      <td>4041</td>\n",
       "      <td>5001</td>\n",
       "      <td>4221</td>\n",
       "      <td>4221</td>\n",
       "      <td>4221</td>\n",
       "      <td>4221</td>\n",
       "      <td>4221</td>\n",
       "      <td>4221</td>\n",
       "    </tr>\n",
       "    <tr>\n",
       "      <th>unique</th>\n",
       "      <td>5045</td>\n",
       "      <td>143</td>\n",
       "      <td>2</td>\n",
       "      <td>3792</td>\n",
       "      <td>4</td>\n",
       "      <td>5</td>\n",
       "      <td>8</td>\n",
       "      <td>465</td>\n",
       "      <td>6</td>\n",
       "      <td>5</td>\n",
       "      <td>2</td>\n",
       "      <td>2</td>\n",
       "      <td>895</td>\n",
       "    </tr>\n",
       "    <tr>\n",
       "      <th>top</th>\n",
       "      <td>FIN1014198</td>\n",
       "      <td>7/21/2008</td>\n",
       "      <td>M</td>\n",
       "      <td>1/2/1973</td>\n",
       "      <td>M</td>\n",
       "      <td>Salaried</td>\n",
       "      <td>Graduate</td>\n",
       "      <td>8/4/2008</td>\n",
       "      <td>Level 2</td>\n",
       "      <td>Level 3</td>\n",
       "      <td>Probation</td>\n",
       "      <td>M</td>\n",
       "      <td>5/6/1972</td>\n",
       "    </tr>\n",
       "    <tr>\n",
       "      <th>freq</th>\n",
       "      <td>1</td>\n",
       "      <td>273</td>\n",
       "      <td>3900</td>\n",
       "      <td>11</td>\n",
       "      <td>4089</td>\n",
       "      <td>2560</td>\n",
       "      <td>3375</td>\n",
       "      <td>150</td>\n",
       "      <td>1441</td>\n",
       "      <td>1530</td>\n",
       "      <td>2292</td>\n",
       "      <td>3694</td>\n",
       "      <td>32</td>\n",
       "    </tr>\n",
       "  </tbody>\n",
       "</table>\n",
       "</div>"
      ],
      "text/plain": [
       "                ID Application_Receipt_Date Applicant_Gender  \\\n",
       "count         5045                     5045             5023   \n",
       "unique        5045                      143                2   \n",
       "top     FIN1014198                7/21/2008                M   \n",
       "freq             1                      273             3900   \n",
       "\n",
       "       Applicant_BirthDate Applicant_Marital_Status Applicant_Occupation  \\\n",
       "count                 5022                     5015                 4041   \n",
       "unique                3792                        4                    5   \n",
       "top               1/2/1973                        M             Salaried   \n",
       "freq                    11                     4089                 2560   \n",
       "\n",
       "       Applicant_Qualification Manager_DOJ Manager_Joining_Designation  \\\n",
       "count                     5001        4221                        4221   \n",
       "unique                       8         465                           6   \n",
       "top                   Graduate    8/4/2008                     Level 2   \n",
       "freq                      3375         150                        1441   \n",
       "\n",
       "       Manager_Current_Designation Manager_Status Manager_Gender Manager_DoB  \n",
       "count                         4221           4221           4221        4221  \n",
       "unique                           5              2              2         895  \n",
       "top                        Level 3      Probation              M    5/6/1972  \n",
       "freq                          1530           2292           3694          32  "
      ]
     },
     "execution_count": 10,
     "metadata": {},
     "output_type": "execute_result"
    }
   ],
   "source": [
    "d_test.describe(include='object')"
   ]
  },
  {
   "cell_type": "code",
   "execution_count": 11,
   "id": "9cedcf38",
   "metadata": {},
   "outputs": [
    {
     "data": {
      "text/html": [
       "<div>\n",
       "<style scoped>\n",
       "    .dataframe tbody tr th:only-of-type {\n",
       "        vertical-align: middle;\n",
       "    }\n",
       "\n",
       "    .dataframe tbody tr th {\n",
       "        vertical-align: top;\n",
       "    }\n",
       "\n",
       "    .dataframe thead th {\n",
       "        text-align: right;\n",
       "    }\n",
       "</style>\n",
       "<table border=\"1\" class=\"dataframe\">\n",
       "  <thead>\n",
       "    <tr style=\"text-align: right;\">\n",
       "      <th></th>\n",
       "      <th>Office_PIN</th>\n",
       "      <th>Applicant_City_PIN</th>\n",
       "      <th>Manager_Grade</th>\n",
       "      <th>Manager_Num_Application</th>\n",
       "      <th>Manager_Num_Coded</th>\n",
       "      <th>Manager_Business</th>\n",
       "      <th>Manager_Num_Products</th>\n",
       "      <th>Manager_Business2</th>\n",
       "      <th>Manager_Num_Products2</th>\n",
       "      <th>Business_Sourced</th>\n",
       "    </tr>\n",
       "  </thead>\n",
       "  <tbody>\n",
       "    <tr>\n",
       "      <th>count</th>\n",
       "      <td>9527.000000</td>\n",
       "      <td>9430.000000</td>\n",
       "      <td>8844.000000</td>\n",
       "      <td>8844.000000</td>\n",
       "      <td>8844.000000</td>\n",
       "      <td>8.844000e+03</td>\n",
       "      <td>8844.000000</td>\n",
       "      <td>8.844000e+03</td>\n",
       "      <td>8844.000000</td>\n",
       "      <td>9527.00000</td>\n",
       "    </tr>\n",
       "    <tr>\n",
       "      <th>mean</th>\n",
       "      <td>452894.372205</td>\n",
       "      <td>456784.547296</td>\n",
       "      <td>3.264134</td>\n",
       "      <td>1.939733</td>\n",
       "      <td>0.758933</td>\n",
       "      <td>1.843710e+05</td>\n",
       "      <td>7.152307</td>\n",
       "      <td>1.829263e+05</td>\n",
       "      <td>7.131275</td>\n",
       "      <td>0.34292</td>\n",
       "    </tr>\n",
       "    <tr>\n",
       "      <th>std</th>\n",
       "      <td>235690.618252</td>\n",
       "      <td>239291.081207</td>\n",
       "      <td>1.137449</td>\n",
       "      <td>2.150529</td>\n",
       "      <td>1.188644</td>\n",
       "      <td>2.747163e+05</td>\n",
       "      <td>8.439351</td>\n",
       "      <td>2.718021e+05</td>\n",
       "      <td>8.423597</td>\n",
       "      <td>0.47471</td>\n",
       "    </tr>\n",
       "    <tr>\n",
       "      <th>min</th>\n",
       "      <td>110005.000000</td>\n",
       "      <td>110001.000000</td>\n",
       "      <td>1.000000</td>\n",
       "      <td>0.000000</td>\n",
       "      <td>0.000000</td>\n",
       "      <td>-2.652890e+05</td>\n",
       "      <td>0.000000</td>\n",
       "      <td>-2.652890e+05</td>\n",
       "      <td>0.000000</td>\n",
       "      <td>0.00000</td>\n",
       "    </tr>\n",
       "    <tr>\n",
       "      <th>25%</th>\n",
       "      <td>226001.000000</td>\n",
       "      <td>226020.000000</td>\n",
       "      <td>2.000000</td>\n",
       "      <td>0.000000</td>\n",
       "      <td>0.000000</td>\n",
       "      <td>0.000000e+00</td>\n",
       "      <td>0.000000</td>\n",
       "      <td>0.000000e+00</td>\n",
       "      <td>0.000000</td>\n",
       "      <td>0.00000</td>\n",
       "    </tr>\n",
       "    <tr>\n",
       "      <th>50%</th>\n",
       "      <td>416001.000000</td>\n",
       "      <td>422005.500000</td>\n",
       "      <td>3.000000</td>\n",
       "      <td>1.000000</td>\n",
       "      <td>0.000000</td>\n",
       "      <td>1.021780e+05</td>\n",
       "      <td>5.000000</td>\n",
       "      <td>1.017140e+05</td>\n",
       "      <td>5.000000</td>\n",
       "      <td>0.00000</td>\n",
       "    </tr>\n",
       "    <tr>\n",
       "      <th>75%</th>\n",
       "      <td>695014.000000</td>\n",
       "      <td>695017.000000</td>\n",
       "      <td>4.000000</td>\n",
       "      <td>3.000000</td>\n",
       "      <td>1.000000</td>\n",
       "      <td>2.471165e+05</td>\n",
       "      <td>11.000000</td>\n",
       "      <td>2.464612e+05</td>\n",
       "      <td>11.000000</td>\n",
       "      <td>1.00000</td>\n",
       "    </tr>\n",
       "    <tr>\n",
       "      <th>max</th>\n",
       "      <td>851101.000000</td>\n",
       "      <td>995657.000000</td>\n",
       "      <td>10.000000</td>\n",
       "      <td>22.000000</td>\n",
       "      <td>9.000000</td>\n",
       "      <td>3.578265e+06</td>\n",
       "      <td>101.000000</td>\n",
       "      <td>3.578265e+06</td>\n",
       "      <td>101.000000</td>\n",
       "      <td>1.00000</td>\n",
       "    </tr>\n",
       "  </tbody>\n",
       "</table>\n",
       "</div>"
      ],
      "text/plain": [
       "          Office_PIN  Applicant_City_PIN  Manager_Grade  \\\n",
       "count    9527.000000         9430.000000    8844.000000   \n",
       "mean   452894.372205       456784.547296       3.264134   \n",
       "std    235690.618252       239291.081207       1.137449   \n",
       "min    110005.000000       110001.000000       1.000000   \n",
       "25%    226001.000000       226020.000000       2.000000   \n",
       "50%    416001.000000       422005.500000       3.000000   \n",
       "75%    695014.000000       695017.000000       4.000000   \n",
       "max    851101.000000       995657.000000      10.000000   \n",
       "\n",
       "       Manager_Num_Application  Manager_Num_Coded  Manager_Business  \\\n",
       "count              8844.000000        8844.000000      8.844000e+03   \n",
       "mean                  1.939733           0.758933      1.843710e+05   \n",
       "std                   2.150529           1.188644      2.747163e+05   \n",
       "min                   0.000000           0.000000     -2.652890e+05   \n",
       "25%                   0.000000           0.000000      0.000000e+00   \n",
       "50%                   1.000000           0.000000      1.021780e+05   \n",
       "75%                   3.000000           1.000000      2.471165e+05   \n",
       "max                  22.000000           9.000000      3.578265e+06   \n",
       "\n",
       "       Manager_Num_Products  Manager_Business2  Manager_Num_Products2  \\\n",
       "count           8844.000000       8.844000e+03            8844.000000   \n",
       "mean               7.152307       1.829263e+05               7.131275   \n",
       "std                8.439351       2.718021e+05               8.423597   \n",
       "min                0.000000      -2.652890e+05               0.000000   \n",
       "25%                0.000000       0.000000e+00               0.000000   \n",
       "50%                5.000000       1.017140e+05               5.000000   \n",
       "75%               11.000000       2.464612e+05              11.000000   \n",
       "max              101.000000       3.578265e+06             101.000000   \n",
       "\n",
       "       Business_Sourced  \n",
       "count        9527.00000  \n",
       "mean            0.34292  \n",
       "std             0.47471  \n",
       "min             0.00000  \n",
       "25%             0.00000  \n",
       "50%             0.00000  \n",
       "75%             1.00000  \n",
       "max             1.00000  "
      ]
     },
     "execution_count": 11,
     "metadata": {},
     "output_type": "execute_result"
    }
   ],
   "source": [
    "d_train.describe()"
   ]
  },
  {
   "cell_type": "code",
   "execution_count": 12,
   "id": "4fd0c74b",
   "metadata": {},
   "outputs": [
    {
     "data": {
      "text/html": [
       "<div>\n",
       "<style scoped>\n",
       "    .dataframe tbody tr th:only-of-type {\n",
       "        vertical-align: middle;\n",
       "    }\n",
       "\n",
       "    .dataframe tbody tr th {\n",
       "        vertical-align: top;\n",
       "    }\n",
       "\n",
       "    .dataframe thead th {\n",
       "        text-align: right;\n",
       "    }\n",
       "</style>\n",
       "<table border=\"1\" class=\"dataframe\">\n",
       "  <thead>\n",
       "    <tr style=\"text-align: right;\">\n",
       "      <th></th>\n",
       "      <th>Office_PIN</th>\n",
       "      <th>Applicant_City_PIN</th>\n",
       "      <th>Manager_Grade</th>\n",
       "      <th>Manager_Num_Application</th>\n",
       "      <th>Manager_Num_Coded</th>\n",
       "      <th>Manager_Business</th>\n",
       "      <th>Manager_Num_Products</th>\n",
       "      <th>Manager_Business2</th>\n",
       "      <th>Manager_Num_Products2</th>\n",
       "    </tr>\n",
       "  </thead>\n",
       "  <tbody>\n",
       "    <tr>\n",
       "      <th>count</th>\n",
       "      <td>5045.000000</td>\n",
       "      <td>5011.000000</td>\n",
       "      <td>4221.000000</td>\n",
       "      <td>4221.000000</td>\n",
       "      <td>4221.000000</td>\n",
       "      <td>4.221000e+03</td>\n",
       "      <td>4221.000000</td>\n",
       "      <td>4.221000e+03</td>\n",
       "      <td>4221.000000</td>\n",
       "    </tr>\n",
       "    <tr>\n",
       "      <th>mean</th>\n",
       "      <td>431478.138751</td>\n",
       "      <td>433049.851527</td>\n",
       "      <td>3.352760</td>\n",
       "      <td>2.521204</td>\n",
       "      <td>1.104951</td>\n",
       "      <td>1.115425e+05</td>\n",
       "      <td>3.864250</td>\n",
       "      <td>9.895073e+04</td>\n",
       "      <td>3.495143</td>\n",
       "    </tr>\n",
       "    <tr>\n",
       "      <th>std</th>\n",
       "      <td>230425.779147</td>\n",
       "      <td>231655.574011</td>\n",
       "      <td>0.994504</td>\n",
       "      <td>2.491566</td>\n",
       "      <td>1.473985</td>\n",
       "      <td>1.640698e+05</td>\n",
       "      <td>4.688678</td>\n",
       "      <td>1.469193e+05</td>\n",
       "      <td>4.241165</td>\n",
       "    </tr>\n",
       "    <tr>\n",
       "      <th>min</th>\n",
       "      <td>110005.000000</td>\n",
       "      <td>110001.000000</td>\n",
       "      <td>2.000000</td>\n",
       "      <td>0.000000</td>\n",
       "      <td>0.000000</td>\n",
       "      <td>-3.196900e+04</td>\n",
       "      <td>0.000000</td>\n",
       "      <td>-3.196900e+04</td>\n",
       "      <td>0.000000</td>\n",
       "    </tr>\n",
       "    <tr>\n",
       "      <th>25%</th>\n",
       "      <td>221010.000000</td>\n",
       "      <td>224141.000000</td>\n",
       "      <td>3.000000</td>\n",
       "      <td>0.000000</td>\n",
       "      <td>0.000000</td>\n",
       "      <td>0.000000e+00</td>\n",
       "      <td>0.000000</td>\n",
       "      <td>0.000000e+00</td>\n",
       "      <td>0.000000</td>\n",
       "    </tr>\n",
       "    <tr>\n",
       "      <th>50%</th>\n",
       "      <td>400705.000000</td>\n",
       "      <td>411005.000000</td>\n",
       "      <td>3.000000</td>\n",
       "      <td>2.000000</td>\n",
       "      <td>1.000000</td>\n",
       "      <td>5.002600e+04</td>\n",
       "      <td>2.000000</td>\n",
       "      <td>4.653700e+04</td>\n",
       "      <td>2.000000</td>\n",
       "    </tr>\n",
       "    <tr>\n",
       "      <th>75%</th>\n",
       "      <td>641018.000000</td>\n",
       "      <td>641002.000000</td>\n",
       "      <td>4.000000</td>\n",
       "      <td>4.000000</td>\n",
       "      <td>2.000000</td>\n",
       "      <td>1.757620e+05</td>\n",
       "      <td>7.000000</td>\n",
       "      <td>1.537820e+05</td>\n",
       "      <td>6.000000</td>\n",
       "    </tr>\n",
       "    <tr>\n",
       "      <th>max</th>\n",
       "      <td>851101.000000</td>\n",
       "      <td>884112.000000</td>\n",
       "      <td>8.000000</td>\n",
       "      <td>17.000000</td>\n",
       "      <td>10.000000</td>\n",
       "      <td>2.196480e+06</td>\n",
       "      <td>31.000000</td>\n",
       "      <td>2.196480e+06</td>\n",
       "      <td>30.000000</td>\n",
       "    </tr>\n",
       "  </tbody>\n",
       "</table>\n",
       "</div>"
      ],
      "text/plain": [
       "          Office_PIN  Applicant_City_PIN  Manager_Grade  \\\n",
       "count    5045.000000         5011.000000    4221.000000   \n",
       "mean   431478.138751       433049.851527       3.352760   \n",
       "std    230425.779147       231655.574011       0.994504   \n",
       "min    110005.000000       110001.000000       2.000000   \n",
       "25%    221010.000000       224141.000000       3.000000   \n",
       "50%    400705.000000       411005.000000       3.000000   \n",
       "75%    641018.000000       641002.000000       4.000000   \n",
       "max    851101.000000       884112.000000       8.000000   \n",
       "\n",
       "       Manager_Num_Application  Manager_Num_Coded  Manager_Business  \\\n",
       "count              4221.000000        4221.000000      4.221000e+03   \n",
       "mean                  2.521204           1.104951      1.115425e+05   \n",
       "std                   2.491566           1.473985      1.640698e+05   \n",
       "min                   0.000000           0.000000     -3.196900e+04   \n",
       "25%                   0.000000           0.000000      0.000000e+00   \n",
       "50%                   2.000000           1.000000      5.002600e+04   \n",
       "75%                   4.000000           2.000000      1.757620e+05   \n",
       "max                  17.000000          10.000000      2.196480e+06   \n",
       "\n",
       "       Manager_Num_Products  Manager_Business2  Manager_Num_Products2  \n",
       "count           4221.000000       4.221000e+03            4221.000000  \n",
       "mean               3.864250       9.895073e+04               3.495143  \n",
       "std                4.688678       1.469193e+05               4.241165  \n",
       "min                0.000000      -3.196900e+04               0.000000  \n",
       "25%                0.000000       0.000000e+00               0.000000  \n",
       "50%                2.000000       4.653700e+04               2.000000  \n",
       "75%                7.000000       1.537820e+05               6.000000  \n",
       "max               31.000000       2.196480e+06              30.000000  "
      ]
     },
     "execution_count": 12,
     "metadata": {},
     "output_type": "execute_result"
    }
   ],
   "source": [
    "d_test.describe()"
   ]
  },
  {
   "cell_type": "markdown",
   "id": "c7e63cb1",
   "metadata": {},
   "source": [
    "# Exploratory Data Analysis"
   ]
  },
  {
   "cell_type": "code",
   "execution_count": 13,
   "id": "4e256f90",
   "metadata": {},
   "outputs": [
    {
     "data": {
      "text/plain": [
       "ID                                0\n",
       "Office_PIN                        0\n",
       "Application_Receipt_Date          0\n",
       "Applicant_City_PIN               97\n",
       "Applicant_Gender                 67\n",
       "Applicant_BirthDate              73\n",
       "Applicant_Marital_Status         73\n",
       "Applicant_Occupation           1221\n",
       "Applicant_Qualification          86\n",
       "Manager_DOJ                     683\n",
       "Manager_Joining_Designation     683\n",
       "Manager_Current_Designation     683\n",
       "Manager_Grade                   683\n",
       "Manager_Status                  683\n",
       "Manager_Gender                  683\n",
       "Manager_DoB                     683\n",
       "Manager_Num_Application         683\n",
       "Manager_Num_Coded               683\n",
       "Manager_Business                683\n",
       "Manager_Num_Products            683\n",
       "Manager_Business2               683\n",
       "Manager_Num_Products2           683\n",
       "Business_Sourced                  0\n",
       "dtype: int64"
      ]
     },
     "execution_count": 13,
     "metadata": {},
     "output_type": "execute_result"
    }
   ],
   "source": [
    "d_train.isnull().sum()"
   ]
  },
  {
   "cell_type": "code",
   "execution_count": 14,
   "id": "6498efea",
   "metadata": {},
   "outputs": [
    {
     "data": {
      "text/plain": [
       "ID                                0\n",
       "Office_PIN                        0\n",
       "Application_Receipt_Date          0\n",
       "Applicant_City_PIN               34\n",
       "Applicant_Gender                 22\n",
       "Applicant_BirthDate              23\n",
       "Applicant_Marital_Status         30\n",
       "Applicant_Occupation           1004\n",
       "Applicant_Qualification          44\n",
       "Manager_DOJ                     824\n",
       "Manager_Joining_Designation     824\n",
       "Manager_Current_Designation     824\n",
       "Manager_Grade                   824\n",
       "Manager_Status                  824\n",
       "Manager_Gender                  824\n",
       "Manager_DoB                     824\n",
       "Manager_Num_Application         824\n",
       "Manager_Num_Coded               824\n",
       "Manager_Business                824\n",
       "Manager_Num_Products            824\n",
       "Manager_Business2               824\n",
       "Manager_Num_Products2           824\n",
       "dtype: int64"
      ]
     },
     "execution_count": 14,
     "metadata": {},
     "output_type": "execute_result"
    }
   ],
   "source": [
    "d_test.isnull().sum()"
   ]
  },
  {
   "cell_type": "code",
   "execution_count": 15,
   "id": "1789ff6d",
   "metadata": {},
   "outputs": [
    {
     "data": {
      "text/plain": [
       "array(['Others', 'Business', 'Salaried', 'Self Employed', 'Student', nan],\n",
       "      dtype=object)"
      ]
     },
     "execution_count": 15,
     "metadata": {},
     "output_type": "execute_result"
    }
   ],
   "source": [
    "d_train.Applicant_Occupation.unique()"
   ]
  },
  {
   "cell_type": "code",
   "execution_count": 16,
   "id": "c69d3ff5",
   "metadata": {},
   "outputs": [],
   "source": [
    "d_train.Applicant_Occupation.fillna(\"Others\",inplace=True)"
   ]
  },
  {
   "cell_type": "code",
   "execution_count": 17,
   "id": "e93b0f08",
   "metadata": {},
   "outputs": [
    {
     "data": {
      "text/plain": [
       "array(['Others', 'Business', 'Salaried', 'Self Employed', 'Student'],\n",
       "      dtype=object)"
      ]
     },
     "execution_count": 17,
     "metadata": {},
     "output_type": "execute_result"
    }
   ],
   "source": [
    "d_train.Applicant_Occupation.unique()"
   ]
  },
  {
   "cell_type": "code",
   "execution_count": 18,
   "id": "83fac75d",
   "metadata": {},
   "outputs": [
    {
     "data": {
      "text/plain": [
       "0"
      ]
     },
     "execution_count": 18,
     "metadata": {},
     "output_type": "execute_result"
    }
   ],
   "source": [
    "d_train.Applicant_Occupation.isnull().sum()"
   ]
  },
  {
   "cell_type": "code",
   "execution_count": 19,
   "id": "14ee8aec",
   "metadata": {},
   "outputs": [
    {
     "data": {
      "text/plain": [
       "array(['M', 'S', nan, 'W', 'D'], dtype=object)"
      ]
     },
     "execution_count": 19,
     "metadata": {},
     "output_type": "execute_result"
    }
   ],
   "source": [
    "d_train.Applicant_Marital_Status.unique()"
   ]
  },
  {
   "cell_type": "code",
   "execution_count": 20,
   "id": "1874a5fd",
   "metadata": {},
   "outputs": [],
   "source": [
    "d_train.Applicant_Marital_Status.fillna(\"Applicant_Marital_StatusMissing\",inplace=True)"
   ]
  },
  {
   "cell_type": "code",
   "execution_count": 21,
   "id": "e0ff7371",
   "metadata": {},
   "outputs": [
    {
     "data": {
      "text/plain": [
       "array(['M', 'S', 'Applicant_Marital_StatusMissing', 'W', 'D'],\n",
       "      dtype=object)"
      ]
     },
     "execution_count": 21,
     "metadata": {},
     "output_type": "execute_result"
    }
   ],
   "source": [
    "d_train.Applicant_Marital_Status.unique()"
   ]
  },
  {
   "cell_type": "code",
   "execution_count": 22,
   "id": "e73d6d7f",
   "metadata": {},
   "outputs": [
    {
     "data": {
      "text/plain": [
       "array(['M', 'F', nan], dtype=object)"
      ]
     },
     "execution_count": 22,
     "metadata": {},
     "output_type": "execute_result"
    }
   ],
   "source": [
    "d_train.Applicant_Gender.unique()"
   ]
  },
  {
   "cell_type": "code",
   "execution_count": 23,
   "id": "48f9897d",
   "metadata": {},
   "outputs": [],
   "source": [
    "d_train.Applicant_Gender.fillna(\"Applicant_GenderMissing\",inplace=True)"
   ]
  },
  {
   "cell_type": "code",
   "execution_count": 24,
   "id": "05c54f2c",
   "metadata": {},
   "outputs": [
    {
     "data": {
      "text/plain": [
       "array(['M', 'F', 'Applicant_GenderMissing'], dtype=object)"
      ]
     },
     "execution_count": 24,
     "metadata": {},
     "output_type": "execute_result"
    }
   ],
   "source": [
    "d_train.Applicant_Gender.unique()"
   ]
  },
  {
   "cell_type": "code",
   "execution_count": 25,
   "id": "3c25188d",
   "metadata": {},
   "outputs": [],
   "source": [
    "d_train.Applicant_Qualification.fillna(\"Others\",inplace=True)"
   ]
  },
  {
   "cell_type": "code",
   "execution_count": 26,
   "id": "6a7b0ab8",
   "metadata": {},
   "outputs": [
    {
     "data": {
      "text/plain": [
       "array(['Graduate', 'Class XII', 'Class X',\n",
       "       'Masters of Business Administration', 'Others',\n",
       "       'Associate/Fellow of Institute of Company Secretories of India',\n",
       "       'Associate / Fellow of Institute of Chartered Accountans of India',\n",
       "       'Associate/Fellow of Insurance Institute of India',\n",
       "       'Associate/Fellow of Acturial Society of India',\n",
       "       'Certified Associateship of Indian Institute of Bankers',\n",
       "       'Professional Qualification in Marketing'], dtype=object)"
      ]
     },
     "execution_count": 26,
     "metadata": {},
     "output_type": "execute_result"
    }
   ],
   "source": [
    "d_train.Applicant_Qualification.unique()"
   ]
  },
  {
   "cell_type": "code",
   "execution_count": 27,
   "id": "07b181cd",
   "metadata": {},
   "outputs": [],
   "source": [
    "d_train.loc[(d_train['Applicant_Qualification']=='Associate/Fellow of Institute of Company Secretories of India' )\n",
    "        | (d_train['Applicant_Qualification']==\n",
    "        'Associate/Fellow of Institute of Institute of Costs and Works Accountants of India'),'Applicant_Qualification'] ='Associate / Fellow of Institute of Chartered Accountans of India'"
   ]
  },
  {
   "cell_type": "code",
   "execution_count": 28,
   "id": "76002db1",
   "metadata": {},
   "outputs": [
    {
     "data": {
      "text/plain": [
       "array(['Graduate', 'Class XII', 'Class X',\n",
       "       'Masters of Business Administration', 'Others',\n",
       "       'Associate / Fellow of Institute of Chartered Accountans of India',\n",
       "       'Associate/Fellow of Insurance Institute of India',\n",
       "       'Associate/Fellow of Acturial Society of India',\n",
       "       'Certified Associateship of Indian Institute of Bankers',\n",
       "       'Professional Qualification in Marketing'], dtype=object)"
      ]
     },
     "execution_count": 28,
     "metadata": {},
     "output_type": "execute_result"
    }
   ],
   "source": [
    "d_train.Applicant_Qualification.unique()"
   ]
  },
  {
   "cell_type": "code",
   "execution_count": 29,
   "id": "a9185a0a",
   "metadata": {},
   "outputs": [],
   "source": [
    "d_train.Manager_Gender.fillna(\"Manager_GenderMissing\",inplace=True)"
   ]
  },
  {
   "cell_type": "code",
   "execution_count": 30,
   "id": "b972448e",
   "metadata": {},
   "outputs": [
    {
     "data": {
      "text/plain": [
       "array(['M', 'F', 'Manager_GenderMissing'], dtype=object)"
      ]
     },
     "execution_count": 30,
     "metadata": {},
     "output_type": "execute_result"
    }
   ],
   "source": [
    "d_train.Manager_Gender.unique()"
   ]
  },
  {
   "cell_type": "code",
   "execution_count": 31,
   "id": "b1f1fbf4",
   "metadata": {},
   "outputs": [],
   "source": [
    "d_train.Manager_Status.fillna(\"Manager_StatusMissing\",inplace=True)"
   ]
  },
  {
   "cell_type": "code",
   "execution_count": 32,
   "id": "5b376110",
   "metadata": {},
   "outputs": [
    {
     "data": {
      "text/plain": [
       "array(['Confirmation', 'Manager_StatusMissing', 'Probation'], dtype=object)"
      ]
     },
     "execution_count": 32,
     "metadata": {},
     "output_type": "execute_result"
    }
   ],
   "source": [
    "d_train.Manager_Status.unique()"
   ]
  },
  {
   "cell_type": "code",
   "execution_count": 33,
   "id": "48197c2c",
   "metadata": {},
   "outputs": [],
   "source": [
    "d_train['Applicant_Age'] = pd.to_numeric(((pd.to_datetime(d_train['Application_Receipt_Date'])-(pd.to_datetime(d_train['Applicant_BirthDate'])))/ np.timedelta64(1, 'D'))/365)"
   ]
  },
  {
   "cell_type": "code",
   "execution_count": 34,
   "id": "26f79772",
   "metadata": {},
   "outputs": [
    {
     "data": {
      "text/plain": [
       "dtype('float64')"
      ]
     },
     "execution_count": 34,
     "metadata": {},
     "output_type": "execute_result"
    }
   ],
   "source": [
    "d_train['Applicant_Age'].dtypes"
   ]
  },
  {
   "cell_type": "code",
   "execution_count": 35,
   "id": "bffb2858",
   "metadata": {},
   "outputs": [],
   "source": [
    "d_train['Manager_Experience'] = pd.to_numeric(((pd.to_datetime(d_train['Application_Receipt_Date'])-(pd.to_datetime(d_train['Manager_DOJ'])))/ np.timedelta64(1, 'D'))/365)"
   ]
  },
  {
   "cell_type": "code",
   "execution_count": 36,
   "id": "31216e63",
   "metadata": {},
   "outputs": [
    {
     "data": {
      "text/plain": [
       "dtype('float64')"
      ]
     },
     "execution_count": 36,
     "metadata": {},
     "output_type": "execute_result"
    }
   ],
   "source": [
    "d_train['Manager_Experience'].dtypes"
   ]
  },
  {
   "cell_type": "code",
   "execution_count": 37,
   "id": "a76d0e56",
   "metadata": {},
   "outputs": [],
   "source": [
    "d_train['Manager_Age'] = pd.to_numeric(((pd.to_datetime(d_train['Application_Receipt_Date'])-(pd.to_datetime(d_train['Manager_DoB'])))/ np.timedelta64(1, 'D'))/365)"
   ]
  },
  {
   "cell_type": "code",
   "execution_count": 38,
   "id": "2523eed3",
   "metadata": {},
   "outputs": [
    {
     "data": {
      "text/plain": [
       "dtype('float64')"
      ]
     },
     "execution_count": 38,
     "metadata": {},
     "output_type": "execute_result"
    }
   ],
   "source": [
    "d_train['Manager_Age'].dtypes"
   ]
  },
  {
   "cell_type": "code",
   "execution_count": 39,
   "id": "bfc182c6",
   "metadata": {},
   "outputs": [
    {
     "data": {
      "text/plain": [
       "73"
      ]
     },
     "execution_count": 39,
     "metadata": {},
     "output_type": "execute_result"
    }
   ],
   "source": [
    "d_train['Applicant_Age'].isnull().sum()"
   ]
  },
  {
   "cell_type": "code",
   "execution_count": 40,
   "id": "eaac9cfb",
   "metadata": {},
   "outputs": [],
   "source": [
    "d_train['Manager_Joining_Designation']=d_train['Manager_Joining_Designation'].map(lambda x:float(str(x)[-1]) if (str(x)[-1]!='n')& (str(x)[-1]!='r') else float('nan'))\n",
    "d_train['Manager_Current_Designation']=d_train['Manager_Current_Designation'].map(lambda x:float(str(x)[-1]) if (str(x)[-1]!='n')& (str(x)[-1]!='r') else float('nan'))\n"
   ]
  },
  {
   "cell_type": "code",
   "execution_count": 41,
   "id": "99d23553",
   "metadata": {},
   "outputs": [
    {
     "data": {
      "text/plain": [
       "0       1.0\n",
       "1       1.0\n",
       "2       1.0\n",
       "3       1.0\n",
       "4       1.0\n",
       "       ... \n",
       "9522    2.0\n",
       "9523    NaN\n",
       "9524    2.0\n",
       "9525    3.0\n",
       "9526    NaN\n",
       "Name: Manager_Joining_Designation, Length: 9527, dtype: float64"
      ]
     },
     "execution_count": 41,
     "metadata": {},
     "output_type": "execute_result"
    }
   ],
   "source": [
    "d_train['Manager_Joining_Designation']"
   ]
  },
  {
   "cell_type": "code",
   "execution_count": 42,
   "id": "257ea582",
   "metadata": {},
   "outputs": [
    {
     "data": {
      "text/plain": [
       "0       2.0\n",
       "1       2.0\n",
       "2       1.0\n",
       "3       3.0\n",
       "4       1.0\n",
       "       ... \n",
       "9522    2.0\n",
       "9523    NaN\n",
       "9524    2.0\n",
       "9525    3.0\n",
       "9526    NaN\n",
       "Name: Manager_Current_Designation, Length: 9527, dtype: float64"
      ]
     },
     "execution_count": 42,
     "metadata": {},
     "output_type": "execute_result"
    }
   ],
   "source": [
    "d_train['Manager_Current_Designation']"
   ]
  },
  {
   "cell_type": "code",
   "execution_count": 43,
   "id": "e9226f53",
   "metadata": {},
   "outputs": [],
   "source": [
    "d_train['Manager_Promotion']=d_train['Manager_Current_Designation']-d_train['Manager_Joining_Designation']"
   ]
  },
  {
   "cell_type": "code",
   "execution_count": 44,
   "id": "33756523",
   "metadata": {},
   "outputs": [
    {
     "data": {
      "text/plain": [
       "0       1.0\n",
       "1       1.0\n",
       "2       0.0\n",
       "3       2.0\n",
       "4       0.0\n",
       "       ... \n",
       "9522    0.0\n",
       "9523    NaN\n",
       "9524    0.0\n",
       "9525    0.0\n",
       "9526    NaN\n",
       "Name: Manager_Promotion, Length: 9527, dtype: float64"
      ]
     },
     "execution_count": 44,
     "metadata": {},
     "output_type": "execute_result"
    }
   ],
   "source": [
    "d_train['Manager_Promotion']"
   ]
  },
  {
   "cell_type": "code",
   "execution_count": 45,
   "id": "4d56310b",
   "metadata": {},
   "outputs": [],
   "source": [
    "d_train['PinDifference'] =abs(d_train['Office_PIN']-d_train['Applicant_City_PIN'])"
   ]
  },
  {
   "cell_type": "code",
   "execution_count": 46,
   "id": "7881089e",
   "metadata": {},
   "outputs": [
    {
     "data": {
      "text/plain": [
       "0        2119.0\n",
       "1        2110.0\n",
       "2       44100.0\n",
       "3           0.0\n",
       "4        1239.0\n",
       "         ...   \n",
       "9522       15.0\n",
       "9523      201.0\n",
       "9524        2.0\n",
       "9525     3755.0\n",
       "9526        0.0\n",
       "Name: PinDifference, Length: 9527, dtype: float64"
      ]
     },
     "execution_count": 46,
     "metadata": {},
     "output_type": "execute_result"
    }
   ],
   "source": [
    "d_train['PinDifference']"
   ]
  },
  {
   "cell_type": "code",
   "execution_count": 47,
   "id": "064491b9",
   "metadata": {},
   "outputs": [],
   "source": [
    "#Test dataset\n",
    "d_test.Applicant_Occupation.fillna(\"Others\",inplace=True)"
   ]
  },
  {
   "cell_type": "code",
   "execution_count": 48,
   "id": "17afb76b",
   "metadata": {},
   "outputs": [],
   "source": [
    "d_test.Applicant_Marital_Status.fillna(\"Applicant_Marital_StatusMissing\",inplace=True)"
   ]
  },
  {
   "cell_type": "code",
   "execution_count": 49,
   "id": "8f50e0b6",
   "metadata": {},
   "outputs": [],
   "source": [
    "d_test.Applicant_Gender.fillna(\"Applicant_GenderMissing\",inplace=True)"
   ]
  },
  {
   "cell_type": "code",
   "execution_count": 50,
   "id": "867b91c3",
   "metadata": {},
   "outputs": [],
   "source": [
    "d_train.Applicant_Qualification.fillna(\"Others\",inplace=True)"
   ]
  },
  {
   "cell_type": "code",
   "execution_count": 51,
   "id": "60e78d75",
   "metadata": {},
   "outputs": [],
   "source": [
    "d_test.loc[(d_test['Applicant_Qualification']=='Associate/Fellow of Institute of Company Secretories of India' )\n",
    "        | (d_test['Applicant_Qualification']==\n",
    "        'Associate/Fellow of Institute of Institute of Costs and Works Accountants of India'),'Applicant_Qualification'] ='Associate / Fellow of Institute of Chartered Accountans of India'"
   ]
  },
  {
   "cell_type": "code",
   "execution_count": 52,
   "id": "d0714425",
   "metadata": {},
   "outputs": [],
   "source": [
    "d_test.Manager_Gender.fillna(\"Manager_GenderMissing\",inplace=True)"
   ]
  },
  {
   "cell_type": "code",
   "execution_count": 53,
   "id": "0901f55d",
   "metadata": {},
   "outputs": [],
   "source": [
    "d_test.Manager_Status.fillna(\"Manager_StatusMissing\",inplace=True)"
   ]
  },
  {
   "cell_type": "code",
   "execution_count": 54,
   "id": "1949ab11",
   "metadata": {},
   "outputs": [],
   "source": [
    "d_test['Applicant_Age'] = pd.to_numeric(((pd.to_datetime(d_test['Application_Receipt_Date'])-(pd.to_datetime(d_test['Applicant_BirthDate'])))/ np.timedelta64(1, 'D'))/365)"
   ]
  },
  {
   "cell_type": "code",
   "execution_count": 55,
   "id": "9ecc2b4b",
   "metadata": {},
   "outputs": [],
   "source": [
    "d_test['Manager_Experience'] = pd.to_numeric(((pd.to_datetime(d_test['Application_Receipt_Date'])-(pd.to_datetime(d_test['Manager_DOJ'])))/ np.timedelta64(1, 'D'))/365)"
   ]
  },
  {
   "cell_type": "code",
   "execution_count": 56,
   "id": "117815af",
   "metadata": {},
   "outputs": [],
   "source": [
    "d_test['Manager_Age'] = pd.to_numeric(((pd.to_datetime(d_test['Application_Receipt_Date'])-(pd.to_datetime(d_test['Manager_DoB'])))/ np.timedelta64(1, 'D'))/365)"
   ]
  },
  {
   "cell_type": "code",
   "execution_count": 57,
   "id": "e78d2237",
   "metadata": {},
   "outputs": [],
   "source": [
    "d_test['Manager_Joining_Designation']=d_test['Manager_Joining_Designation'].map(lambda x:float(str(x)[-1]) if (str(x)[-1]!='n')& (str(x)[-1]!='r') else float('nan'))\n",
    "d_test['Manager_Current_Designation']=d_test['Manager_Current_Designation'].map(lambda x:float(str(x)[-1]) if (str(x)[-1]!='n')& (str(x)[-1]!='r') else float('nan'))\n"
   ]
  },
  {
   "cell_type": "code",
   "execution_count": 58,
   "id": "91874087",
   "metadata": {},
   "outputs": [],
   "source": [
    "d_test['Manager_Promotion']=d_test['Manager_Current_Designation']-d_test['Manager_Joining_Designation']"
   ]
  },
  {
   "cell_type": "code",
   "execution_count": 59,
   "id": "21245428",
   "metadata": {},
   "outputs": [],
   "source": [
    "d_test['PinDifference'] =abs(d_test['Office_PIN']-d_test['Applicant_City_PIN'])"
   ]
  },
  {
   "cell_type": "code",
   "execution_count": 60,
   "id": "0dd942a9",
   "metadata": {},
   "outputs": [
    {
     "data": {
      "text/plain": [
       "ID                               0\n",
       "Office_PIN                       0\n",
       "Application_Receipt_Date         0\n",
       "Applicant_City_PIN              34\n",
       "Applicant_Gender                 0\n",
       "Applicant_BirthDate             23\n",
       "Applicant_Marital_Status         0\n",
       "Applicant_Occupation             0\n",
       "Applicant_Qualification         44\n",
       "Manager_DOJ                    824\n",
       "Manager_Joining_Designation    824\n",
       "Manager_Current_Designation    824\n",
       "Manager_Grade                  824\n",
       "Manager_Status                   0\n",
       "Manager_Gender                   0\n",
       "Manager_DoB                    824\n",
       "Manager_Num_Application        824\n",
       "Manager_Num_Coded              824\n",
       "Manager_Business               824\n",
       "Manager_Num_Products           824\n",
       "Manager_Business2              824\n",
       "Manager_Num_Products2          824\n",
       "Applicant_Age                   23\n",
       "Manager_Experience             824\n",
       "Manager_Age                    824\n",
       "Manager_Promotion              824\n",
       "PinDifference                   34\n",
       "dtype: int64"
      ]
     },
     "execution_count": 60,
     "metadata": {},
     "output_type": "execute_result"
    }
   ],
   "source": [
    "d_test.isnull().sum()"
   ]
  },
  {
   "cell_type": "code",
   "execution_count": 61,
   "id": "c690fa66",
   "metadata": {},
   "outputs": [],
   "source": [
    "train_one_hot_encode = d_train[['Applicant_Gender','Applicant_Marital_Status','Applicant_Occupation', 'Applicant_Qualification' ,\n",
    "                         'Manager_Gender','Manager_Status']]"
   ]
  },
  {
   "cell_type": "code",
   "execution_count": null,
   "id": "ed4f972f",
   "metadata": {},
   "outputs": [],
   "source": []
  },
  {
   "cell_type": "code",
   "execution_count": 62,
   "id": "4adab01c",
   "metadata": {},
   "outputs": [],
   "source": [
    "train_encoded = pd.get_dummies(train_one_hot_encode,drop_first=True)"
   ]
  },
  {
   "cell_type": "code",
   "execution_count": 63,
   "id": "d8fe1a31",
   "metadata": {},
   "outputs": [
    {
     "data": {
      "text/plain": [
       "(9527, 23)"
      ]
     },
     "execution_count": 63,
     "metadata": {},
     "output_type": "execute_result"
    }
   ],
   "source": [
    "train_encoded.shape"
   ]
  },
  {
   "cell_type": "code",
   "execution_count": 64,
   "id": "9f6084a1",
   "metadata": {},
   "outputs": [],
   "source": [
    "train_data = pd.concat([d_train,train_one_hot_encode],axis=1)"
   ]
  },
  {
   "cell_type": "code",
   "execution_count": 65,
   "id": "f408b482",
   "metadata": {},
   "outputs": [
    {
     "data": {
      "text/plain": [
       "(9527, 34)"
      ]
     },
     "execution_count": 65,
     "metadata": {},
     "output_type": "execute_result"
    }
   ],
   "source": [
    "train_data.shape"
   ]
  },
  {
   "cell_type": "code",
   "execution_count": 66,
   "id": "4cd51c50",
   "metadata": {},
   "outputs": [],
   "source": [
    "train_data = train_data.drop(train_one_hot_encode,1)"
   ]
  },
  {
   "cell_type": "code",
   "execution_count": 67,
   "id": "93a92b6f",
   "metadata": {},
   "outputs": [
    {
     "data": {
      "text/plain": [
       "(9527, 22)"
      ]
     },
     "execution_count": 67,
     "metadata": {},
     "output_type": "execute_result"
    }
   ],
   "source": [
    "train_data.shape"
   ]
  },
  {
   "cell_type": "code",
   "execution_count": 68,
   "id": "2edf1589",
   "metadata": {},
   "outputs": [],
   "source": [
    "test_one_hot_encode = d_test[['Applicant_Gender','Applicant_Marital_Status','Applicant_Occupation', 'Applicant_Qualification' ,\n",
    "                         'Manager_Gender','Manager_Status']]"
   ]
  },
  {
   "cell_type": "code",
   "execution_count": 69,
   "id": "055ad1e5",
   "metadata": {},
   "outputs": [],
   "source": [
    "test_encoded = pd.get_dummies(test_one_hot_encode,drop_first=True)"
   ]
  },
  {
   "cell_type": "code",
   "execution_count": 70,
   "id": "24261114",
   "metadata": {},
   "outputs": [
    {
     "data": {
      "text/plain": [
       "(5045, 20)"
      ]
     },
     "execution_count": 70,
     "metadata": {},
     "output_type": "execute_result"
    }
   ],
   "source": [
    "test_encoded.shape"
   ]
  },
  {
   "cell_type": "code",
   "execution_count": 71,
   "id": "d484544c",
   "metadata": {},
   "outputs": [],
   "source": [
    "test_data = pd.concat([d_test,test_one_hot_encode],axis=1)"
   ]
  },
  {
   "cell_type": "code",
   "execution_count": 72,
   "id": "8590b1fc",
   "metadata": {},
   "outputs": [
    {
     "data": {
      "text/plain": [
       "(5045, 33)"
      ]
     },
     "execution_count": 72,
     "metadata": {},
     "output_type": "execute_result"
    }
   ],
   "source": [
    "test_data.shape"
   ]
  },
  {
   "cell_type": "code",
   "execution_count": 73,
   "id": "2c9940f6",
   "metadata": {},
   "outputs": [],
   "source": [
    "test_data = test_data.drop(test_one_hot_encode,1)"
   ]
  },
  {
   "cell_type": "code",
   "execution_count": 74,
   "id": "d6b765e7",
   "metadata": {},
   "outputs": [
    {
     "data": {
      "text/plain": [
       "(5045, 21)"
      ]
     },
     "execution_count": 74,
     "metadata": {},
     "output_type": "execute_result"
    }
   ],
   "source": [
    "test_data.shape"
   ]
  },
  {
   "cell_type": "code",
   "execution_count": 75,
   "id": "c8a52828",
   "metadata": {},
   "outputs": [],
   "source": [
    "train_data = train_data.fillna(-1)"
   ]
  },
  {
   "cell_type": "code",
   "execution_count": 76,
   "id": "3f227476",
   "metadata": {},
   "outputs": [],
   "source": [
    "test_data = test_data.fillna(-1)"
   ]
  },
  {
   "cell_type": "code",
   "execution_count": 77,
   "id": "bedf237f",
   "metadata": {},
   "outputs": [
    {
     "data": {
      "text/plain": [
       "ID                             0\n",
       "Office_PIN                     0\n",
       "Application_Receipt_Date       0\n",
       "Applicant_City_PIN             0\n",
       "Applicant_BirthDate            0\n",
       "Manager_DOJ                    0\n",
       "Manager_Joining_Designation    0\n",
       "Manager_Current_Designation    0\n",
       "Manager_Grade                  0\n",
       "Manager_DoB                    0\n",
       "Manager_Num_Application        0\n",
       "Manager_Num_Coded              0\n",
       "Manager_Business               0\n",
       "Manager_Num_Products           0\n",
       "Manager_Business2              0\n",
       "Manager_Num_Products2          0\n",
       "Business_Sourced               0\n",
       "Applicant_Age                  0\n",
       "Manager_Experience             0\n",
       "Manager_Age                    0\n",
       "Manager_Promotion              0\n",
       "PinDifference                  0\n",
       "dtype: int64"
      ]
     },
     "execution_count": 77,
     "metadata": {},
     "output_type": "execute_result"
    }
   ],
   "source": [
    "train_data.isnull().sum()"
   ]
  },
  {
   "cell_type": "code",
   "execution_count": 78,
   "id": "66bb5cb3",
   "metadata": {},
   "outputs": [
    {
     "data": {
      "text/plain": [
       "ID                             0\n",
       "Office_PIN                     0\n",
       "Application_Receipt_Date       0\n",
       "Applicant_City_PIN             0\n",
       "Applicant_BirthDate            0\n",
       "Manager_DOJ                    0\n",
       "Manager_Joining_Designation    0\n",
       "Manager_Current_Designation    0\n",
       "Manager_Grade                  0\n",
       "Manager_DoB                    0\n",
       "Manager_Num_Application        0\n",
       "Manager_Num_Coded              0\n",
       "Manager_Business               0\n",
       "Manager_Num_Products           0\n",
       "Manager_Business2              0\n",
       "Manager_Num_Products2          0\n",
       "Applicant_Age                  0\n",
       "Manager_Experience             0\n",
       "Manager_Age                    0\n",
       "Manager_Promotion              0\n",
       "PinDifference                  0\n",
       "dtype: int64"
      ]
     },
     "execution_count": 78,
     "metadata": {},
     "output_type": "execute_result"
    }
   ],
   "source": [
    "test_data.isnull().sum()"
   ]
  },
  {
   "cell_type": "code",
   "execution_count": 79,
   "id": "1726db6f",
   "metadata": {},
   "outputs": [],
   "source": [
    "train_data = train_data.drop(['Applicant_City_PIN','Applicant_BirthDate','Application_Receipt_Date','Manager_Business2','Manager_DOJ',\n",
    "                      'Manager_DoB','Manager_Num_Products'],axis=1)"
   ]
  },
  {
   "cell_type": "code",
   "execution_count": 80,
   "id": "db6352c5",
   "metadata": {},
   "outputs": [],
   "source": [
    "test_data = test_data.drop(['Applicant_City_PIN','Applicant_BirthDate','Application_Receipt_Date','Manager_Business2','Manager_DOJ',\n",
    "                      'Manager_DoB','Manager_Num_Products'],axis=1)"
   ]
  },
  {
   "cell_type": "code",
   "execution_count": 81,
   "id": "70558c29",
   "metadata": {},
   "outputs": [],
   "source": [
    "ntrain_data = train_data.drop(['ID'],axis=1)"
   ]
  },
  {
   "cell_type": "markdown",
   "id": "04a96fd2",
   "metadata": {},
   "source": [
    "# Model Building"
   ]
  },
  {
   "cell_type": "code",
   "execution_count": 82,
   "id": "6042ecbe",
   "metadata": {},
   "outputs": [],
   "source": [
    "train_a=ntrain_data[:7621]\n",
    "train_b=ntrain_data[7621:]"
   ]
  },
  {
   "cell_type": "code",
   "execution_count": 83,
   "id": "8a09b63f",
   "metadata": {},
   "outputs": [
    {
     "name": "stdout",
     "output_type": "stream",
     "text": [
      "(7621, 14)\n",
      "(1906, 14)\n"
     ]
    }
   ],
   "source": [
    "print(train_a.shape)\n",
    "print(train_b.shape)"
   ]
  },
  {
   "cell_type": "code",
   "execution_count": 84,
   "id": "986521c0",
   "metadata": {},
   "outputs": [],
   "source": [
    "x_train = train_a.drop(['Business_Sourced'],axis=1 )\n",
    "y_train = train_a.Business_Sourced.copy()\n",
    "x_test = train_b.drop(['Business_Sourced'],axis=1 )\n",
    "y_test = train_b.Business_Sourced.copy()"
   ]
  },
  {
   "cell_type": "code",
   "execution_count": 85,
   "id": "d18d20bf",
   "metadata": {},
   "outputs": [],
   "source": [
    "from sklearn.tree import DecisionTreeRegressor\n",
    "from sklearn.ensemble import RandomForestClassifier\n",
    "\n",
    "#reg = DecisionTreeRegressor(random_state=0)\n",
    "\n",
    "from sklearn.ensemble import GradientBoostingClassifier\n",
    "clf=GradientBoostingClassifier(n_estimators=100, learning_rate=1.0,max_depth=1, random_state=0).fit(x_train, y_train)\n",
    "#clf = RandomForestClassifier(n_estimators=500)\n",
    "clf.fit(x_train,y_train)\n",
    "pred = clf.predict(x_test)"
   ]
  },
  {
   "cell_type": "code",
   "execution_count": 86,
   "id": "4bf4b1c3",
   "metadata": {},
   "outputs": [
    {
     "name": "stdout",
     "output_type": "stream",
     "text": [
      "0.5198134622976708\n"
     ]
    }
   ],
   "source": [
    "from sklearn.metrics import roc_auc_score\n",
    "from sklearn.metrics import roc_curve\n",
    "dt_roc_auc = roc_auc_score(y_test, pred)\n",
    "print(dt_roc_auc)"
   ]
  },
  {
   "cell_type": "code",
   "execution_count": 87,
   "id": "19cf3568",
   "metadata": {},
   "outputs": [
    {
     "name": "stdout",
     "output_type": "stream",
     "text": [
      "Accuracy Score =  0.6841621834404934\n"
     ]
    }
   ],
   "source": [
    "\n",
    "from sklearn.ensemble import GradientBoostingClassifier\n",
    "clf2 = GradientBoostingClassifier(n_estimators=100, learning_rate=1.0,max_depth=1, random_state=0).fit(x_train, y_train)\n",
    "\n",
    "pred2 = clf2.predict(x_train)\n",
    "\n",
    "from sklearn.metrics import accuracy_score\n",
    "print(\"Accuracy Score = \",accuracy_score(y_train, pred2))"
   ]
  },
  {
   "cell_type": "code",
   "execution_count": 95,
   "id": "7ebd05da",
   "metadata": {},
   "outputs": [
    {
     "data": {
      "text/plain": [
       "(0.734680488124918, 0.5650577124868835)"
      ]
     },
     "execution_count": 95,
     "metadata": {},
     "output_type": "execute_result"
    }
   ],
   "source": [
    "#Random Forest\n",
    "\n",
    " \n",
    "\n",
    "from sklearn.ensemble import RandomForestClassifier as rf\n",
    "rf_model = rf(ccp_alpha=0, criterion='entropy', max_depth=10,\n",
    "                       max_leaf_nodes=97, random_state=10,class_weight='balanced')\n",
    "\n",
    " \n",
    "\n",
    "# fitting the model\n",
    "rf_model.fit(x_train,y_train)\n",
    "\n",
    " \n",
    "\n",
    "# make training prediction\n",
    "train_yhat = rf_model.predict(x_train)\n",
    "train_score = accuracy_score(y_train, train_yhat)\n",
    "\n",
    " \n",
    "\n",
    "# make test prediction\n",
    "test_yhat = rf_model.predict(x_test)\n",
    "test_score = accuracy_score(y_test, test_yhat)\n",
    "\n",
    " \n",
    "\n",
    "train_score, test_score"
   ]
  },
  {
   "cell_type": "code",
   "execution_count": 94,
   "id": "5be64b82",
   "metadata": {},
   "outputs": [
    {
     "name": "stdout",
     "output_type": "stream",
     "text": [
      "0.5413423758765251\n"
     ]
    }
   ],
   "source": [
    "print(roc_auc_score(y_test,test_yhat))"
   ]
  }
 ],
 "metadata": {
  "kernelspec": {
   "display_name": "Python 3",
   "language": "python",
   "name": "python3"
  },
  "language_info": {
   "codemirror_mode": {
    "name": "ipython",
    "version": 3
   },
   "file_extension": ".py",
   "mimetype": "text/x-python",
   "name": "python",
   "nbconvert_exporter": "python",
   "pygments_lexer": "ipython3",
   "version": "3.8.8"
  }
 },
 "nbformat": 4,
 "nbformat_minor": 5
}
