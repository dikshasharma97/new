{
 "cells": [
  {
   "cell_type": "code",
   "execution_count": 1,
   "id": "bc2ae8ab",
   "metadata": {},
   "outputs": [],
   "source": [
    "import pandas as pd\n",
    "from sklearn.preprocessing import LabelEncoder\n",
    "import numpy as np\n",
    "from sklearn.preprocessing import OneHotEncoder\n",
    "from sklearn.preprocessing import StandardScaler\n",
    "from scipy import stats\n",
    "from sklearn.preprocessing import PowerTransformer\n"
   ]
  },
  {
   "cell_type": "code",
   "execution_count": 2,
   "id": "dea83486",
   "metadata": {},
   "outputs": [],
   "source": [
    "data=pd.read_csv(\"C:/Users/diksha.sharma/Downloads/train_dK8Auve (2).csv\")"
   ]
  },
  {
   "cell_type": "code",
   "execution_count": 3,
   "id": "9c7da2fd",
   "metadata": {},
   "outputs": [
    {
     "data": {
      "text/plain": [
       "98"
      ]
     },
     "execution_count": 3,
     "metadata": {},
     "output_type": "execute_result"
    }
   ],
   "source": [
    "data.Office_PIN.nunique()"
   ]
  },
  {
   "cell_type": "code",
   "execution_count": 4,
   "id": "faa23532",
   "metadata": {},
   "outputs": [],
   "source": [
    "data=data.drop('ID',axis=1)"
   ]
  },
  {
   "cell_type": "code",
   "execution_count": 5,
   "id": "6a054d1c",
   "metadata": {},
   "outputs": [
    {
     "data": {
      "text/html": [
       "<div>\n",
       "<style scoped>\n",
       "    .dataframe tbody tr th:only-of-type {\n",
       "        vertical-align: middle;\n",
       "    }\n",
       "\n",
       "    .dataframe tbody tr th {\n",
       "        vertical-align: top;\n",
       "    }\n",
       "\n",
       "    .dataframe thead th {\n",
       "        text-align: right;\n",
       "    }\n",
       "</style>\n",
       "<table border=\"1\" class=\"dataframe\">\n",
       "  <thead>\n",
       "    <tr style=\"text-align: right;\">\n",
       "      <th></th>\n",
       "      <th>Office_PIN</th>\n",
       "      <th>Application_Receipt_Date</th>\n",
       "      <th>Applicant_City_PIN</th>\n",
       "      <th>Applicant_Gender</th>\n",
       "      <th>Applicant_BirthDate</th>\n",
       "      <th>Applicant_Marital_Status</th>\n",
       "      <th>Applicant_Occupation</th>\n",
       "      <th>Applicant_Qualification</th>\n",
       "      <th>Manager_DOJ</th>\n",
       "      <th>Manager_Joining_Designation</th>\n",
       "      <th>...</th>\n",
       "      <th>Manager_Status</th>\n",
       "      <th>Manager_Gender</th>\n",
       "      <th>Manager_DoB</th>\n",
       "      <th>Manager_Num_Application</th>\n",
       "      <th>Manager_Num_Coded</th>\n",
       "      <th>Manager_Business</th>\n",
       "      <th>Manager_Num_Products</th>\n",
       "      <th>Manager_Business2</th>\n",
       "      <th>Manager_Num_Products2</th>\n",
       "      <th>Business_Sourced</th>\n",
       "    </tr>\n",
       "  </thead>\n",
       "  <tbody>\n",
       "    <tr>\n",
       "      <th>0</th>\n",
       "      <td>842001</td>\n",
       "      <td>4/16/2007</td>\n",
       "      <td>844120.0</td>\n",
       "      <td>M</td>\n",
       "      <td>12/19/1971</td>\n",
       "      <td>M</td>\n",
       "      <td>Others</td>\n",
       "      <td>Graduate</td>\n",
       "      <td>11/10/2005</td>\n",
       "      <td>Level 1</td>\n",
       "      <td>...</td>\n",
       "      <td>Confirmation</td>\n",
       "      <td>M</td>\n",
       "      <td>2/17/1978</td>\n",
       "      <td>2.0</td>\n",
       "      <td>1.0</td>\n",
       "      <td>335249.0</td>\n",
       "      <td>28.0</td>\n",
       "      <td>335249.0</td>\n",
       "      <td>28.0</td>\n",
       "      <td>0</td>\n",
       "    </tr>\n",
       "    <tr>\n",
       "      <th>1</th>\n",
       "      <td>842001</td>\n",
       "      <td>4/16/2007</td>\n",
       "      <td>844111.0</td>\n",
       "      <td>M</td>\n",
       "      <td>2/17/1983</td>\n",
       "      <td>S</td>\n",
       "      <td>Others</td>\n",
       "      <td>Class XII</td>\n",
       "      <td>11/10/2005</td>\n",
       "      <td>Level 1</td>\n",
       "      <td>...</td>\n",
       "      <td>Confirmation</td>\n",
       "      <td>M</td>\n",
       "      <td>2/17/1978</td>\n",
       "      <td>2.0</td>\n",
       "      <td>1.0</td>\n",
       "      <td>335249.0</td>\n",
       "      <td>28.0</td>\n",
       "      <td>335249.0</td>\n",
       "      <td>28.0</td>\n",
       "      <td>1</td>\n",
       "    </tr>\n",
       "    <tr>\n",
       "      <th>2</th>\n",
       "      <td>800001</td>\n",
       "      <td>4/16/2007</td>\n",
       "      <td>844101.0</td>\n",
       "      <td>M</td>\n",
       "      <td>1/16/1966</td>\n",
       "      <td>M</td>\n",
       "      <td>Business</td>\n",
       "      <td>Class XII</td>\n",
       "      <td>5/27/2006</td>\n",
       "      <td>Level 1</td>\n",
       "      <td>...</td>\n",
       "      <td>Confirmation</td>\n",
       "      <td>M</td>\n",
       "      <td>3/3/1969</td>\n",
       "      <td>0.0</td>\n",
       "      <td>0.0</td>\n",
       "      <td>357184.0</td>\n",
       "      <td>24.0</td>\n",
       "      <td>357184.0</td>\n",
       "      <td>24.0</td>\n",
       "      <td>0</td>\n",
       "    </tr>\n",
       "    <tr>\n",
       "      <th>3</th>\n",
       "      <td>814112</td>\n",
       "      <td>4/16/2007</td>\n",
       "      <td>814112.0</td>\n",
       "      <td>M</td>\n",
       "      <td>2/3/1988</td>\n",
       "      <td>S</td>\n",
       "      <td>Salaried</td>\n",
       "      <td>Class XII</td>\n",
       "      <td>8/21/2003</td>\n",
       "      <td>Level 1</td>\n",
       "      <td>...</td>\n",
       "      <td>Confirmation</td>\n",
       "      <td>F</td>\n",
       "      <td>8/14/1978</td>\n",
       "      <td>0.0</td>\n",
       "      <td>0.0</td>\n",
       "      <td>318356.0</td>\n",
       "      <td>22.0</td>\n",
       "      <td>318356.0</td>\n",
       "      <td>22.0</td>\n",
       "      <td>0</td>\n",
       "    </tr>\n",
       "    <tr>\n",
       "      <th>4</th>\n",
       "      <td>814112</td>\n",
       "      <td>4/16/2007</td>\n",
       "      <td>815351.0</td>\n",
       "      <td>M</td>\n",
       "      <td>7/4/1985</td>\n",
       "      <td>M</td>\n",
       "      <td>Others</td>\n",
       "      <td>Class XII</td>\n",
       "      <td>5/8/2006</td>\n",
       "      <td>Level 1</td>\n",
       "      <td>...</td>\n",
       "      <td>Confirmation</td>\n",
       "      <td>M</td>\n",
       "      <td>2/7/1971</td>\n",
       "      <td>2.0</td>\n",
       "      <td>1.0</td>\n",
       "      <td>230402.0</td>\n",
       "      <td>17.0</td>\n",
       "      <td>230402.0</td>\n",
       "      <td>17.0</td>\n",
       "      <td>0</td>\n",
       "    </tr>\n",
       "    <tr>\n",
       "      <th>...</th>\n",
       "      <td>...</td>\n",
       "      <td>...</td>\n",
       "      <td>...</td>\n",
       "      <td>...</td>\n",
       "      <td>...</td>\n",
       "      <td>...</td>\n",
       "      <td>...</td>\n",
       "      <td>...</td>\n",
       "      <td>...</td>\n",
       "      <td>...</td>\n",
       "      <td>...</td>\n",
       "      <td>...</td>\n",
       "      <td>...</td>\n",
       "      <td>...</td>\n",
       "      <td>...</td>\n",
       "      <td>...</td>\n",
       "      <td>...</td>\n",
       "      <td>...</td>\n",
       "      <td>...</td>\n",
       "      <td>...</td>\n",
       "      <td>...</td>\n",
       "    </tr>\n",
       "    <tr>\n",
       "      <th>9522</th>\n",
       "      <td>160017</td>\n",
       "      <td>7/1/2008</td>\n",
       "      <td>160032.0</td>\n",
       "      <td>M</td>\n",
       "      <td>1/18/1970</td>\n",
       "      <td>M</td>\n",
       "      <td>Salaried</td>\n",
       "      <td>Graduate</td>\n",
       "      <td>5/5/2008</td>\n",
       "      <td>Level 2</td>\n",
       "      <td>...</td>\n",
       "      <td>Probation</td>\n",
       "      <td>M</td>\n",
       "      <td>5/10/1967</td>\n",
       "      <td>0.0</td>\n",
       "      <td>0.0</td>\n",
       "      <td>0.0</td>\n",
       "      <td>0.0</td>\n",
       "      <td>0.0</td>\n",
       "      <td>0.0</td>\n",
       "      <td>0</td>\n",
       "    </tr>\n",
       "    <tr>\n",
       "      <th>9523</th>\n",
       "      <td>848101</td>\n",
       "      <td>7/1/2008</td>\n",
       "      <td>848302.0</td>\n",
       "      <td>M</td>\n",
       "      <td>9/11/1956</td>\n",
       "      <td>M</td>\n",
       "      <td>NaN</td>\n",
       "      <td>Graduate</td>\n",
       "      <td>NaN</td>\n",
       "      <td>NaN</td>\n",
       "      <td>...</td>\n",
       "      <td>NaN</td>\n",
       "      <td>NaN</td>\n",
       "      <td>NaN</td>\n",
       "      <td>NaN</td>\n",
       "      <td>NaN</td>\n",
       "      <td>NaN</td>\n",
       "      <td>NaN</td>\n",
       "      <td>NaN</td>\n",
       "      <td>NaN</td>\n",
       "      <td>0</td>\n",
       "    </tr>\n",
       "    <tr>\n",
       "      <th>9524</th>\n",
       "      <td>753012</td>\n",
       "      <td>7/1/2008</td>\n",
       "      <td>753014.0</td>\n",
       "      <td>F</td>\n",
       "      <td>8/7/1975</td>\n",
       "      <td>M</td>\n",
       "      <td>Salaried</td>\n",
       "      <td>Graduate</td>\n",
       "      <td>8/22/2006</td>\n",
       "      <td>Level 2</td>\n",
       "      <td>...</td>\n",
       "      <td>Confirmation</td>\n",
       "      <td>M</td>\n",
       "      <td>7/22/1970</td>\n",
       "      <td>0.0</td>\n",
       "      <td>0.0</td>\n",
       "      <td>316126.0</td>\n",
       "      <td>9.0</td>\n",
       "      <td>305775.0</td>\n",
       "      <td>8.0</td>\n",
       "      <td>0</td>\n",
       "    </tr>\n",
       "    <tr>\n",
       "      <th>9525</th>\n",
       "      <td>575003</td>\n",
       "      <td>7/1/2008</td>\n",
       "      <td>571248.0</td>\n",
       "      <td>M</td>\n",
       "      <td>12/23/1986</td>\n",
       "      <td>S</td>\n",
       "      <td>Salaried</td>\n",
       "      <td>Class XII</td>\n",
       "      <td>6/5/2008</td>\n",
       "      <td>Level 3</td>\n",
       "      <td>...</td>\n",
       "      <td>Probation</td>\n",
       "      <td>M</td>\n",
       "      <td>9/23/1976</td>\n",
       "      <td>0.0</td>\n",
       "      <td>0.0</td>\n",
       "      <td>0.0</td>\n",
       "      <td>0.0</td>\n",
       "      <td>0.0</td>\n",
       "      <td>0.0</td>\n",
       "      <td>0</td>\n",
       "    </tr>\n",
       "    <tr>\n",
       "      <th>9526</th>\n",
       "      <td>411006</td>\n",
       "      <td>7/1/2008</td>\n",
       "      <td>411006.0</td>\n",
       "      <td>F</td>\n",
       "      <td>2/7/1976</td>\n",
       "      <td>M</td>\n",
       "      <td>Others</td>\n",
       "      <td>Graduate</td>\n",
       "      <td>NaN</td>\n",
       "      <td>NaN</td>\n",
       "      <td>...</td>\n",
       "      <td>NaN</td>\n",
       "      <td>NaN</td>\n",
       "      <td>NaN</td>\n",
       "      <td>NaN</td>\n",
       "      <td>NaN</td>\n",
       "      <td>NaN</td>\n",
       "      <td>NaN</td>\n",
       "      <td>NaN</td>\n",
       "      <td>NaN</td>\n",
       "      <td>0</td>\n",
       "    </tr>\n",
       "  </tbody>\n",
       "</table>\n",
       "<p>9527 rows × 22 columns</p>\n",
       "</div>"
      ],
      "text/plain": [
       "      Office_PIN Application_Receipt_Date  Applicant_City_PIN  \\\n",
       "0         842001                4/16/2007            844120.0   \n",
       "1         842001                4/16/2007            844111.0   \n",
       "2         800001                4/16/2007            844101.0   \n",
       "3         814112                4/16/2007            814112.0   \n",
       "4         814112                4/16/2007            815351.0   \n",
       "...          ...                      ...                 ...   \n",
       "9522      160017                 7/1/2008            160032.0   \n",
       "9523      848101                 7/1/2008            848302.0   \n",
       "9524      753012                 7/1/2008            753014.0   \n",
       "9525      575003                 7/1/2008            571248.0   \n",
       "9526      411006                 7/1/2008            411006.0   \n",
       "\n",
       "     Applicant_Gender Applicant_BirthDate Applicant_Marital_Status  \\\n",
       "0                   M          12/19/1971                        M   \n",
       "1                   M           2/17/1983                        S   \n",
       "2                   M           1/16/1966                        M   \n",
       "3                   M            2/3/1988                        S   \n",
       "4                   M            7/4/1985                        M   \n",
       "...               ...                 ...                      ...   \n",
       "9522                M           1/18/1970                        M   \n",
       "9523                M           9/11/1956                        M   \n",
       "9524                F            8/7/1975                        M   \n",
       "9525                M          12/23/1986                        S   \n",
       "9526                F            2/7/1976                        M   \n",
       "\n",
       "     Applicant_Occupation Applicant_Qualification Manager_DOJ  \\\n",
       "0                  Others                Graduate  11/10/2005   \n",
       "1                  Others               Class XII  11/10/2005   \n",
       "2                Business               Class XII   5/27/2006   \n",
       "3                Salaried               Class XII   8/21/2003   \n",
       "4                  Others               Class XII    5/8/2006   \n",
       "...                   ...                     ...         ...   \n",
       "9522             Salaried                Graduate    5/5/2008   \n",
       "9523                  NaN                Graduate         NaN   \n",
       "9524             Salaried                Graduate   8/22/2006   \n",
       "9525             Salaried               Class XII    6/5/2008   \n",
       "9526               Others                Graduate         NaN   \n",
       "\n",
       "     Manager_Joining_Designation  ... Manager_Status  Manager_Gender  \\\n",
       "0                        Level 1  ...   Confirmation               M   \n",
       "1                        Level 1  ...   Confirmation               M   \n",
       "2                        Level 1  ...   Confirmation               M   \n",
       "3                        Level 1  ...   Confirmation               F   \n",
       "4                        Level 1  ...   Confirmation               M   \n",
       "...                          ...  ...            ...             ...   \n",
       "9522                     Level 2  ...      Probation               M   \n",
       "9523                         NaN  ...            NaN             NaN   \n",
       "9524                     Level 2  ...   Confirmation               M   \n",
       "9525                     Level 3  ...      Probation               M   \n",
       "9526                         NaN  ...            NaN             NaN   \n",
       "\n",
       "     Manager_DoB Manager_Num_Application Manager_Num_Coded  Manager_Business  \\\n",
       "0      2/17/1978                     2.0               1.0          335249.0   \n",
       "1      2/17/1978                     2.0               1.0          335249.0   \n",
       "2       3/3/1969                     0.0               0.0          357184.0   \n",
       "3      8/14/1978                     0.0               0.0          318356.0   \n",
       "4       2/7/1971                     2.0               1.0          230402.0   \n",
       "...          ...                     ...               ...               ...   \n",
       "9522   5/10/1967                     0.0               0.0               0.0   \n",
       "9523         NaN                     NaN               NaN               NaN   \n",
       "9524   7/22/1970                     0.0               0.0          316126.0   \n",
       "9525   9/23/1976                     0.0               0.0               0.0   \n",
       "9526         NaN                     NaN               NaN               NaN   \n",
       "\n",
       "      Manager_Num_Products  Manager_Business2  Manager_Num_Products2  \\\n",
       "0                     28.0           335249.0                   28.0   \n",
       "1                     28.0           335249.0                   28.0   \n",
       "2                     24.0           357184.0                   24.0   \n",
       "3                     22.0           318356.0                   22.0   \n",
       "4                     17.0           230402.0                   17.0   \n",
       "...                    ...                ...                    ...   \n",
       "9522                   0.0                0.0                    0.0   \n",
       "9523                   NaN                NaN                    NaN   \n",
       "9524                   9.0           305775.0                    8.0   \n",
       "9525                   0.0                0.0                    0.0   \n",
       "9526                   NaN                NaN                    NaN   \n",
       "\n",
       "      Business_Sourced  \n",
       "0                    0  \n",
       "1                    1  \n",
       "2                    0  \n",
       "3                    0  \n",
       "4                    0  \n",
       "...                ...  \n",
       "9522                 0  \n",
       "9523                 0  \n",
       "9524                 0  \n",
       "9525                 0  \n",
       "9526                 0  \n",
       "\n",
       "[9527 rows x 22 columns]"
      ]
     },
     "execution_count": 5,
     "metadata": {},
     "output_type": "execute_result"
    }
   ],
   "source": [
    "data"
   ]
  },
  {
   "cell_type": "code",
   "execution_count": 6,
   "id": "98a8f15a",
   "metadata": {},
   "outputs": [],
   "source": [
    "data.Applicant_Occupation.fillna(\"Others\",inplace=True)\n",
    "data.Applicant_Marital_Status.fillna(\"Applicant_Marital_StatusMissing\",inplace=True)\n",
    "data.Applicant_Gender.fillna(\"Applicant_GenderMissing\",inplace=True)\n",
    "data.Applicant_Qualification.fillna(\"Others\",inplace=True)\n",
    "data.Manager_Gender.fillna(\"Manager_GenderMissing\",inplace=True)\n",
    "data.Manager_Status.fillna(\"Manager_StatusMissing\",inplace=True)"
   ]
  },
  {
   "cell_type": "code",
   "execution_count": 7,
   "id": "7c5a69b5",
   "metadata": {},
   "outputs": [],
   "source": [
    "data['Application_Receipt_Date'] = pd.to_datetime(data['Application_Receipt_Date'], format =  '%m/%d/%Y')\n",
    "data['Applicant_BirthDate'] = pd.to_datetime(data['Applicant_BirthDate'], format =  '%m/%d/%Y')\n",
    "data['Manager_DoB'] = pd.to_datetime(data['Manager_DoB'], format =  '%m/%d/%Y')\n",
    "data['Manager_DOJ'] = pd.to_datetime(data['Manager_DOJ'], format =  '%m/%d/%Y')"
   ]
  },
  {
   "cell_type": "code",
   "execution_count": 8,
   "id": "6a59b251",
   "metadata": {},
   "outputs": [],
   "source": [
    "data['Application_Receipt_Date_year'] = data['Application_Receipt_Date'].dt.year\n",
    "data['Application_Receipt_Date_month'] = data['Application_Receipt_Date'].dt.month\n",
    "\n",
    "data['Application_Receipt_Date_day'] = data['Application_Receipt_Date'].dt.day\n",
    "data['Applicant_BirthDate_year'] = data['Applicant_BirthDate'].dt.year\n",
    "data['Applicant_BirthDate_month'] = data['Applicant_BirthDate'].dt.month\n",
    "\n",
    "data['Applicant_BirthDate_day'] = data['Applicant_BirthDate'].dt.day\n",
    "\n"
   ]
  },
  {
   "cell_type": "code",
   "execution_count": 9,
   "id": "85133523",
   "metadata": {},
   "outputs": [],
   "source": [
    "data['Manager_Joining_Designation']=data['Manager_Joining_Designation'].map(lambda x:float(str(x)[-1]) if (str(x)[-1]!='n')& (str(x)[-1]!='r') else float('nan'))\n",
    "data['Manager_Current_Designation']=data['Manager_Current_Designation'].map(lambda x:float(str(x)[-1]) if (str(x)[-1]!='n')& (str(x)[-1]!='r') else float('nan'))\n"
   ]
  },
  {
   "cell_type": "code",
   "execution_count": 10,
   "id": "a460f522",
   "metadata": {},
   "outputs": [],
   "source": [
    "data['Manager_Promotion']=data['Manager_Current_Designation']-data['Manager_Joining_Designation']"
   ]
  },
  {
   "cell_type": "code",
   "execution_count": 11,
   "id": "8013d2c2",
   "metadata": {},
   "outputs": [],
   "source": [
    "data['PinDifference'] =abs(data['Office_PIN']-data['Applicant_City_PIN'])"
   ]
  },
  {
   "cell_type": "code",
   "execution_count": 12,
   "id": "a97d099e",
   "metadata": {},
   "outputs": [
    {
     "data": {
      "text/plain": [
       "Index(['Office_PIN', 'Application_Receipt_Date', 'Applicant_City_PIN',\n",
       "       'Applicant_Gender', 'Applicant_BirthDate', 'Applicant_Marital_Status',\n",
       "       'Applicant_Occupation', 'Applicant_Qualification', 'Manager_DOJ',\n",
       "       'Manager_Joining_Designation', 'Manager_Current_Designation',\n",
       "       'Manager_Grade', 'Manager_Status', 'Manager_Gender', 'Manager_DoB',\n",
       "       'Manager_Num_Application', 'Manager_Num_Coded', 'Manager_Business',\n",
       "       'Manager_Num_Products', 'Manager_Business2', 'Manager_Num_Products2',\n",
       "       'Business_Sourced', 'Application_Receipt_Date_year',\n",
       "       'Application_Receipt_Date_month', 'Application_Receipt_Date_day',\n",
       "       'Applicant_BirthDate_year', 'Applicant_BirthDate_month',\n",
       "       'Applicant_BirthDate_day', 'Manager_Promotion', 'PinDifference'],\n",
       "      dtype='object')"
      ]
     },
     "execution_count": 12,
     "metadata": {},
     "output_type": "execute_result"
    }
   ],
   "source": [
    "data.columns"
   ]
  },
  {
   "cell_type": "code",
   "execution_count": 13,
   "id": "8b9e1a4f",
   "metadata": {},
   "outputs": [],
   "source": [
    "import datetime as dt\n",
    "\n",
    "#data['Manager_age'] = (np.floor((pd.to_datetime(data['Manager_DoB']) - pd.to_datetime(data['Manager_DOJ'])).dt.days / 365.25)).astype(int)\n",
    "data['Manager_age']=abs(data['Application_Receipt_Date'].dt.year - data['Manager_DoB'].dt.year)\n",
    "data['Applicant_age']=abs(data['Application_Receipt_Date'].dt.year - data['Applicant_BirthDate'].dt.year)\n"
   ]
  },
  {
   "cell_type": "code",
   "execution_count": 14,
   "id": "8bd43214",
   "metadata": {},
   "outputs": [],
   "source": [
    "for column in data:\n",
    "    if data[column].dtype == \"float64\" or data[column].dtype == \"int64\":\n",
    "        data[column].fillna(data[column].median(), inplace=True)"
   ]
  },
  {
   "cell_type": "code",
   "execution_count": 15,
   "id": "7f7f7dde",
   "metadata": {},
   "outputs": [],
   "source": [
    "data=data.drop(columns=['Application_Receipt_Date','Applicant_BirthDate','Applicant_Qualification','Manager_DoB','Manager_DOJ'])"
   ]
  },
  {
   "cell_type": "code",
   "execution_count": 16,
   "id": "4f72156d",
   "metadata": {},
   "outputs": [
    {
     "data": {
      "text/plain": [
       "(9527, 27)"
      ]
     },
     "execution_count": 16,
     "metadata": {},
     "output_type": "execute_result"
    }
   ],
   "source": [
    "data.shape"
   ]
  },
  {
   "cell_type": "code",
   "execution_count": 17,
   "id": "ecb2d9a8",
   "metadata": {},
   "outputs": [
    {
     "data": {
      "text/plain": [
       "Index(['Office_PIN', 'Applicant_City_PIN', 'Applicant_Gender',\n",
       "       'Applicant_Marital_Status', 'Applicant_Occupation',\n",
       "       'Manager_Joining_Designation', 'Manager_Current_Designation',\n",
       "       'Manager_Grade', 'Manager_Status', 'Manager_Gender',\n",
       "       'Manager_Num_Application', 'Manager_Num_Coded', 'Manager_Business',\n",
       "       'Manager_Num_Products', 'Manager_Business2', 'Manager_Num_Products2',\n",
       "       'Business_Sourced', 'Application_Receipt_Date_year',\n",
       "       'Application_Receipt_Date_month', 'Application_Receipt_Date_day',\n",
       "       'Applicant_BirthDate_year', 'Applicant_BirthDate_month',\n",
       "       'Applicant_BirthDate_day', 'Manager_Promotion', 'PinDifference',\n",
       "       'Manager_age', 'Applicant_age'],\n",
       "      dtype='object')"
      ]
     },
     "execution_count": 17,
     "metadata": {},
     "output_type": "execute_result"
    }
   ],
   "source": [
    "data.columns"
   ]
  },
  {
   "cell_type": "code",
   "execution_count": 18,
   "id": "d1169518",
   "metadata": {},
   "outputs": [],
   "source": [
    "target=data['Business_Sourced']"
   ]
  },
  {
   "cell_type": "code",
   "execution_count": 19,
   "id": "2eba7b96",
   "metadata": {},
   "outputs": [],
   "source": [
    "num=data[['Manager_Business','Manager_Num_Products','Manager_Business2','Manager_Num_Products2','Application_Receipt_Date_year','Application_Receipt_Date_month','Application_Receipt_Date_day','Applicant_BirthDate_year','Applicant_BirthDate_month','Applicant_BirthDate_day','Manager_age','Applicant_age']]"
   ]
  },
  {
   "cell_type": "code",
   "execution_count": 20,
   "id": "8fc87479",
   "metadata": {},
   "outputs": [],
   "source": [
    "label=data[['Office_PIN','Applicant_City_PIN','Manager_Grade','Manager_Num_Coded','Manager_Num_Application','Manager_Current_Designation','PinDifference','Manager_Promotion']]"
   ]
  },
  {
   "cell_type": "code",
   "execution_count": 21,
   "id": "e09012c4",
   "metadata": {},
   "outputs": [],
   "source": [
    "from sklearn import preprocessing\n",
    "label_encode=label.apply(LabelEncoder().fit_transform)"
   ]
  },
  {
   "cell_type": "code",
   "execution_count": 22,
   "id": "0a19d3d9",
   "metadata": {},
   "outputs": [
    {
     "data": {
      "text/plain": [
       "(9527, 8)"
      ]
     },
     "execution_count": 22,
     "metadata": {},
     "output_type": "execute_result"
    }
   ],
   "source": [
    "label_encode.shape\n"
   ]
  },
  {
   "cell_type": "code",
   "execution_count": null,
   "id": "50a99129",
   "metadata": {},
   "outputs": [],
   "source": []
  },
  {
   "cell_type": "code",
   "execution_count": 23,
   "id": "6050fd0c",
   "metadata": {},
   "outputs": [],
   "source": [
    "one_hot=data[['Applicant_Gender','Applicant_Marital_Status','Applicant_Occupation','Manager_Joining_Designation','Manager_Status','Manager_Gender']]"
   ]
  },
  {
   "cell_type": "code",
   "execution_count": 24,
   "id": "7083c10a",
   "metadata": {},
   "outputs": [],
   "source": [
    "enc = pd.get_dummies(one_hot,drop_first=True)"
   ]
  },
  {
   "cell_type": "code",
   "execution_count": 25,
   "id": "8e9f72eb",
   "metadata": {},
   "outputs": [
    {
     "data": {
      "text/plain": [
       "(9527, 15)"
      ]
     },
     "execution_count": 25,
     "metadata": {},
     "output_type": "execute_result"
    }
   ],
   "source": [
    "enc.shape"
   ]
  },
  {
   "cell_type": "code",
   "execution_count": 26,
   "id": "525d6d36",
   "metadata": {},
   "outputs": [],
   "source": [
    "data_s=pd.concat([label_encode,enc,num],axis=1)"
   ]
  },
  {
   "cell_type": "code",
   "execution_count": 27,
   "id": "f7064e0d",
   "metadata": {},
   "outputs": [
    {
     "data": {
      "text/plain": [
       "Index(['Office_PIN', 'Applicant_City_PIN', 'Manager_Grade',\n",
       "       'Manager_Num_Coded', 'Manager_Num_Application',\n",
       "       'Manager_Current_Designation', 'PinDifference', 'Manager_Promotion',\n",
       "       'Manager_Joining_Designation', 'Applicant_Gender_F',\n",
       "       'Applicant_Gender_M', 'Applicant_Marital_Status_D',\n",
       "       'Applicant_Marital_Status_M', 'Applicant_Marital_Status_S',\n",
       "       'Applicant_Marital_Status_W', 'Applicant_Occupation_Others',\n",
       "       'Applicant_Occupation_Salaried', 'Applicant_Occupation_Self Employed',\n",
       "       'Applicant_Occupation_Student', 'Manager_Status_Manager_StatusMissing',\n",
       "       'Manager_Status_Probation', 'Manager_Gender_M',\n",
       "       'Manager_Gender_Manager_GenderMissing', 'Manager_Business',\n",
       "       'Manager_Num_Products', 'Manager_Business2', 'Manager_Num_Products2',\n",
       "       'Application_Receipt_Date_year', 'Application_Receipt_Date_month',\n",
       "       'Application_Receipt_Date_day', 'Applicant_BirthDate_year',\n",
       "       'Applicant_BirthDate_month', 'Applicant_BirthDate_day', 'Manager_age',\n",
       "       'Applicant_age'],\n",
       "      dtype='object')"
      ]
     },
     "execution_count": 27,
     "metadata": {},
     "output_type": "execute_result"
    }
   ],
   "source": [
    "data_s.columns"
   ]
  },
  {
   "cell_type": "code",
   "execution_count": null,
   "id": "596e1e7f",
   "metadata": {},
   "outputs": [],
   "source": []
  },
  {
   "cell_type": "code",
   "execution_count": null,
   "id": "d5e3a34c",
   "metadata": {},
   "outputs": [],
   "source": []
  },
  {
   "cell_type": "code",
   "execution_count": null,
   "id": "91148e9e",
   "metadata": {},
   "outputs": [],
   "source": []
  },
  {
   "cell_type": "code",
   "execution_count": 28,
   "id": "bc67ec10",
   "metadata": {},
   "outputs": [
    {
     "data": {
      "text/plain": [
       "array([[ 1.59283687,  1.716606  , -0.22331872, ...,  0.65612471,\n",
       "        -0.91231644,  0.33880714],\n",
       "       [ 1.59283687,  1.70885082, -0.22331872, ...,  0.42085428,\n",
       "        -0.91231644, -0.82769752],\n",
       "       [ 1.20788109,  1.70552718, -1.1340882 , ...,  0.30321906,\n",
       "         0.57120778,  0.82485074],\n",
       "       ...,\n",
       "       [ 1.13788913,  1.2490797 , -0.22331872, ..., -0.75549788,\n",
       "         0.57120778,  0.04718097],\n",
       "       [ 0.64794541,  0.48353309,  0.68745075, ...,  1.12666557,\n",
       "        -0.41780837, -1.02211496],\n",
       "       [-0.05197419, -0.22108001, -0.22331872, ..., -0.75549788,\n",
       "        -0.08813632, -0.05002775]])"
      ]
     },
     "execution_count": 28,
     "metadata": {},
     "output_type": "execute_result"
    }
   ],
   "source": [
    "scaler= StandardScaler()\n",
    "x=scaler.fit_transform(data_s)\n",
    "x"
   ]
  },
  {
   "cell_type": "code",
   "execution_count": 29,
   "id": "8d98080f",
   "metadata": {},
   "outputs": [
    {
     "data": {
      "text/plain": [
       "(9527, 35)"
      ]
     },
     "execution_count": 29,
     "metadata": {},
     "output_type": "execute_result"
    }
   ],
   "source": [
    "x.shape"
   ]
  },
  {
   "cell_type": "code",
   "execution_count": 30,
   "id": "931480db",
   "metadata": {},
   "outputs": [],
   "source": [
    "from sklearn.model_selection import train_test_split\n",
    "X_train, X_test, y_train, y_test = train_test_split(x, target, test_size=0.3, random_state=0)"
   ]
  },
  {
   "cell_type": "code",
   "execution_count": 31,
   "id": "bfc19b77",
   "metadata": {},
   "outputs": [],
   "source": [
    "from sklearn import svm\n",
    "clf = svm.SVC(probability=True,class_weight='balanced')\n",
    "clf.fit(X_train , y_train)\n",
    "# sig_clf = CalibratedClassifierCV(clf, method=\"sigmoid\")\n",
    "# sig_clf.fit(train_x_onehotCoding, train_y)\n",
    "y_pred = clf.predict(X_test)"
   ]
  },
  {
   "cell_type": "code",
   "execution_count": 32,
   "id": "8b078ffc",
   "metadata": {},
   "outputs": [
    {
     "name": "stdout",
     "output_type": "stream",
     "text": [
      "0.5822818276989208\n"
     ]
    }
   ],
   "source": [
    "from sklearn.metrics import roc_auc_score\n",
    "from sklearn.metrics import roc_curve\n",
    "import matplotlib.pyplot as plt \n",
    "logit_roc_auc = roc_auc_score(y_test, y_pred)\n",
    "print(logit_roc_auc)"
   ]
  },
  {
   "cell_type": "code",
   "execution_count": 33,
   "id": "5240e637",
   "metadata": {},
   "outputs": [
    {
     "name": "stdout",
     "output_type": "stream",
     "text": [
      "0.5810417909460243\n"
     ]
    }
   ],
   "source": [
    "#Random forest\n",
    "from sklearn.ensemble import RandomForestClassifier as rf\n",
    "rf_model = rf(ccp_alpha=0, criterion='entropy', max_depth=10,\n",
    "                       max_leaf_nodes=97, random_state=10,class_weight='balanced')\n",
    "\n",
    " \n",
    "\n",
    "# fitting the model\n",
    "rf_model.fit(X_train,y_train)\n",
    "\n",
    " \n",
    "\n",
    "# make training prediction\n",
    "train_yhat = rf_model.predict(X_train)\n",
    "train_score = roc_auc_score(y_train, train_yhat)\n",
    "\n",
    " \n",
    "\n",
    "# make test prediction\n",
    "test_yhat = rf_model.predict(X_test)\n",
    "test_score = roc_auc_score(y_test, test_yhat)\n",
    "\n",
    " \n",
    "\n",
    "train_score, test_score\n",
    "print(roc_auc_score(y_test,test_yhat))"
   ]
  },
  {
   "cell_type": "code",
   "execution_count": 34,
   "id": "f05851c6",
   "metadata": {},
   "outputs": [],
   "source": [
    "from sklearn.tree import DecisionTreeRegressor\n",
    "from sklearn.ensemble import RandomForestClassifier\n",
    "\n",
    "#reg = DecisionTreeRegressor(random_state=0)\n",
    "\n",
    "from sklearn.ensemble import GradientBoostingClassifier\n",
    "grad=GradientBoostingClassifier(n_estimators=100, learning_rate=1.0,max_depth=1, random_state=0).fit(X_train, y_train)\n",
    "#clf = RandomForestClassifier(n_estimators=500)\n",
    "grad.fit(X_train,y_train)\n",
    "pred2 = grad.predict(X_test)"
   ]
  },
  {
   "cell_type": "code",
   "execution_count": 35,
   "id": "c30b8894",
   "metadata": {},
   "outputs": [
    {
     "name": "stdout",
     "output_type": "stream",
     "text": [
      "0.5223324002821563\n"
     ]
    }
   ],
   "source": [
    "from sklearn.metrics import roc_auc_score\n",
    "from sklearn.metrics import roc_curve\n",
    "dt_roc_auc = roc_auc_score(y_test, pred2)\n",
    "print(dt_roc_auc)"
   ]
  },
  {
   "cell_type": "code",
   "execution_count": 36,
   "id": "2a24c286",
   "metadata": {},
   "outputs": [
    {
     "name": "stderr",
     "output_type": "stream",
     "text": [
      "C:\\Anaconda\\lib\\site-packages\\xgboost\\sklearn.py:888: UserWarning: The use of label encoder in XGBClassifier is deprecated and will be removed in a future release. To remove this warning, do the following: 1) Pass option use_label_encoder=False when constructing XGBClassifier object; and 2) Encode your labels (y) as integers starting with 0, i.e. 0, 1, 2, ..., [num_class - 1].\n",
      "  warnings.warn(label_encoder_deprecation_msg, UserWarning)\n"
     ]
    }
   ],
   "source": [
    "from xgboost import XGBClassifier\n",
    "model = XGBClassifier(max_depth= 8, n_estimators = 1000, eta = 0.01, eval_metric= \"auc\" )\n",
    "model.fit(X_train,y_train)\n",
    "y_predict = model.predict_proba(X_test)"
   ]
  },
  {
   "cell_type": "code",
   "execution_count": 39,
   "id": "4d5edeff",
   "metadata": {},
   "outputs": [
    {
     "ename": "ValueError",
     "evalue": "y should be a 1d array, got an array of shape (2859, 2) instead.",
     "output_type": "error",
     "traceback": [
      "\u001b[1;31m---------------------------------------------------------------------------\u001b[0m",
      "\u001b[1;31mValueError\u001b[0m                                Traceback (most recent call last)",
      "\u001b[1;32m<ipython-input-39-ebfbaaa07bec>\u001b[0m in \u001b[0;36m<module>\u001b[1;34m\u001b[0m\n\u001b[0;32m      1\u001b[0m \u001b[1;32mfrom\u001b[0m \u001b[0msklearn\u001b[0m\u001b[1;33m.\u001b[0m\u001b[0mmetrics\u001b[0m \u001b[1;32mimport\u001b[0m \u001b[0mroc_auc_score\u001b[0m\u001b[1;33m\u001b[0m\u001b[1;33m\u001b[0m\u001b[0m\n\u001b[0;32m      2\u001b[0m \u001b[1;32mfrom\u001b[0m \u001b[0msklearn\u001b[0m\u001b[1;33m.\u001b[0m\u001b[0mmetrics\u001b[0m \u001b[1;32mimport\u001b[0m \u001b[0mroc_curve\u001b[0m\u001b[1;33m\u001b[0m\u001b[1;33m\u001b[0m\u001b[0m\n\u001b[1;32m----> 3\u001b[1;33m \u001b[0mdt_roc_auc\u001b[0m \u001b[1;33m=\u001b[0m \u001b[0mroc_auc_score\u001b[0m\u001b[1;33m(\u001b[0m\u001b[0my_test\u001b[0m\u001b[1;33m,\u001b[0m \u001b[0my_predict\u001b[0m\u001b[1;33m)\u001b[0m\u001b[1;33m\u001b[0m\u001b[1;33m\u001b[0m\u001b[0m\n\u001b[0m\u001b[0;32m      4\u001b[0m \u001b[0mprint\u001b[0m\u001b[1;33m(\u001b[0m\u001b[0mdt_roc_auc\u001b[0m\u001b[1;33m)\u001b[0m\u001b[1;33m\u001b[0m\u001b[1;33m\u001b[0m\u001b[0m\n",
      "\u001b[1;32mC:\\Anaconda\\lib\\site-packages\\sklearn\\utils\\validation.py\u001b[0m in \u001b[0;36minner_f\u001b[1;34m(*args, **kwargs)\u001b[0m\n\u001b[0;32m     61\u001b[0m             \u001b[0mextra_args\u001b[0m \u001b[1;33m=\u001b[0m \u001b[0mlen\u001b[0m\u001b[1;33m(\u001b[0m\u001b[0margs\u001b[0m\u001b[1;33m)\u001b[0m \u001b[1;33m-\u001b[0m \u001b[0mlen\u001b[0m\u001b[1;33m(\u001b[0m\u001b[0mall_args\u001b[0m\u001b[1;33m)\u001b[0m\u001b[1;33m\u001b[0m\u001b[1;33m\u001b[0m\u001b[0m\n\u001b[0;32m     62\u001b[0m             \u001b[1;32mif\u001b[0m \u001b[0mextra_args\u001b[0m \u001b[1;33m<=\u001b[0m \u001b[1;36m0\u001b[0m\u001b[1;33m:\u001b[0m\u001b[1;33m\u001b[0m\u001b[1;33m\u001b[0m\u001b[0m\n\u001b[1;32m---> 63\u001b[1;33m                 \u001b[1;32mreturn\u001b[0m \u001b[0mf\u001b[0m\u001b[1;33m(\u001b[0m\u001b[1;33m*\u001b[0m\u001b[0margs\u001b[0m\u001b[1;33m,\u001b[0m \u001b[1;33m**\u001b[0m\u001b[0mkwargs\u001b[0m\u001b[1;33m)\u001b[0m\u001b[1;33m\u001b[0m\u001b[1;33m\u001b[0m\u001b[0m\n\u001b[0m\u001b[0;32m     64\u001b[0m \u001b[1;33m\u001b[0m\u001b[0m\n\u001b[0;32m     65\u001b[0m             \u001b[1;31m# extra_args > 0\u001b[0m\u001b[1;33m\u001b[0m\u001b[1;33m\u001b[0m\u001b[1;33m\u001b[0m\u001b[0m\n",
      "\u001b[1;32mC:\\Anaconda\\lib\\site-packages\\sklearn\\metrics\\_ranking.py\u001b[0m in \u001b[0;36mroc_auc_score\u001b[1;34m(y_true, y_score, average, sample_weight, max_fpr, multi_class, labels)\u001b[0m\n\u001b[0;32m    540\u001b[0m         \u001b[0mlabels\u001b[0m \u001b[1;33m=\u001b[0m \u001b[0mnp\u001b[0m\u001b[1;33m.\u001b[0m\u001b[0munique\u001b[0m\u001b[1;33m(\u001b[0m\u001b[0my_true\u001b[0m\u001b[1;33m)\u001b[0m\u001b[1;33m\u001b[0m\u001b[1;33m\u001b[0m\u001b[0m\n\u001b[0;32m    541\u001b[0m         \u001b[0my_true\u001b[0m \u001b[1;33m=\u001b[0m \u001b[0mlabel_binarize\u001b[0m\u001b[1;33m(\u001b[0m\u001b[0my_true\u001b[0m\u001b[1;33m,\u001b[0m \u001b[0mclasses\u001b[0m\u001b[1;33m=\u001b[0m\u001b[0mlabels\u001b[0m\u001b[1;33m)\u001b[0m\u001b[1;33m[\u001b[0m\u001b[1;33m:\u001b[0m\u001b[1;33m,\u001b[0m \u001b[1;36m0\u001b[0m\u001b[1;33m]\u001b[0m\u001b[1;33m\u001b[0m\u001b[1;33m\u001b[0m\u001b[0m\n\u001b[1;32m--> 542\u001b[1;33m         return _average_binary_score(partial(_binary_roc_auc_score,\n\u001b[0m\u001b[0;32m    543\u001b[0m                                              max_fpr=max_fpr),\n\u001b[0;32m    544\u001b[0m                                      \u001b[0my_true\u001b[0m\u001b[1;33m,\u001b[0m \u001b[0my_score\u001b[0m\u001b[1;33m,\u001b[0m \u001b[0maverage\u001b[0m\u001b[1;33m,\u001b[0m\u001b[1;33m\u001b[0m\u001b[1;33m\u001b[0m\u001b[0m\n",
      "\u001b[1;32mC:\\Anaconda\\lib\\site-packages\\sklearn\\metrics\\_base.py\u001b[0m in \u001b[0;36m_average_binary_score\u001b[1;34m(binary_metric, y_true, y_score, average, sample_weight)\u001b[0m\n\u001b[0;32m     75\u001b[0m \u001b[1;33m\u001b[0m\u001b[0m\n\u001b[0;32m     76\u001b[0m     \u001b[1;32mif\u001b[0m \u001b[0my_type\u001b[0m \u001b[1;33m==\u001b[0m \u001b[1;34m\"binary\"\u001b[0m\u001b[1;33m:\u001b[0m\u001b[1;33m\u001b[0m\u001b[1;33m\u001b[0m\u001b[0m\n\u001b[1;32m---> 77\u001b[1;33m         \u001b[1;32mreturn\u001b[0m \u001b[0mbinary_metric\u001b[0m\u001b[1;33m(\u001b[0m\u001b[0my_true\u001b[0m\u001b[1;33m,\u001b[0m \u001b[0my_score\u001b[0m\u001b[1;33m,\u001b[0m \u001b[0msample_weight\u001b[0m\u001b[1;33m=\u001b[0m\u001b[0msample_weight\u001b[0m\u001b[1;33m)\u001b[0m\u001b[1;33m\u001b[0m\u001b[1;33m\u001b[0m\u001b[0m\n\u001b[0m\u001b[0;32m     78\u001b[0m \u001b[1;33m\u001b[0m\u001b[0m\n\u001b[0;32m     79\u001b[0m     \u001b[0mcheck_consistent_length\u001b[0m\u001b[1;33m(\u001b[0m\u001b[0my_true\u001b[0m\u001b[1;33m,\u001b[0m \u001b[0my_score\u001b[0m\u001b[1;33m,\u001b[0m \u001b[0msample_weight\u001b[0m\u001b[1;33m)\u001b[0m\u001b[1;33m\u001b[0m\u001b[1;33m\u001b[0m\u001b[0m\n",
      "\u001b[1;32mC:\\Anaconda\\lib\\site-packages\\sklearn\\metrics\\_ranking.py\u001b[0m in \u001b[0;36m_binary_roc_auc_score\u001b[1;34m(y_true, y_score, sample_weight, max_fpr)\u001b[0m\n\u001b[0;32m    328\u001b[0m                          \"is not defined in that case.\")\n\u001b[0;32m    329\u001b[0m \u001b[1;33m\u001b[0m\u001b[0m\n\u001b[1;32m--> 330\u001b[1;33m     fpr, tpr, _ = roc_curve(y_true, y_score,\n\u001b[0m\u001b[0;32m    331\u001b[0m                             sample_weight=sample_weight)\n\u001b[0;32m    332\u001b[0m     \u001b[1;32mif\u001b[0m \u001b[0mmax_fpr\u001b[0m \u001b[1;32mis\u001b[0m \u001b[1;32mNone\u001b[0m \u001b[1;32mor\u001b[0m \u001b[0mmax_fpr\u001b[0m \u001b[1;33m==\u001b[0m \u001b[1;36m1\u001b[0m\u001b[1;33m:\u001b[0m\u001b[1;33m\u001b[0m\u001b[1;33m\u001b[0m\u001b[0m\n",
      "\u001b[1;32mC:\\Anaconda\\lib\\site-packages\\sklearn\\utils\\validation.py\u001b[0m in \u001b[0;36minner_f\u001b[1;34m(*args, **kwargs)\u001b[0m\n\u001b[0;32m     61\u001b[0m             \u001b[0mextra_args\u001b[0m \u001b[1;33m=\u001b[0m \u001b[0mlen\u001b[0m\u001b[1;33m(\u001b[0m\u001b[0margs\u001b[0m\u001b[1;33m)\u001b[0m \u001b[1;33m-\u001b[0m \u001b[0mlen\u001b[0m\u001b[1;33m(\u001b[0m\u001b[0mall_args\u001b[0m\u001b[1;33m)\u001b[0m\u001b[1;33m\u001b[0m\u001b[1;33m\u001b[0m\u001b[0m\n\u001b[0;32m     62\u001b[0m             \u001b[1;32mif\u001b[0m \u001b[0mextra_args\u001b[0m \u001b[1;33m<=\u001b[0m \u001b[1;36m0\u001b[0m\u001b[1;33m:\u001b[0m\u001b[1;33m\u001b[0m\u001b[1;33m\u001b[0m\u001b[0m\n\u001b[1;32m---> 63\u001b[1;33m                 \u001b[1;32mreturn\u001b[0m \u001b[0mf\u001b[0m\u001b[1;33m(\u001b[0m\u001b[1;33m*\u001b[0m\u001b[0margs\u001b[0m\u001b[1;33m,\u001b[0m \u001b[1;33m**\u001b[0m\u001b[0mkwargs\u001b[0m\u001b[1;33m)\u001b[0m\u001b[1;33m\u001b[0m\u001b[1;33m\u001b[0m\u001b[0m\n\u001b[0m\u001b[0;32m     64\u001b[0m \u001b[1;33m\u001b[0m\u001b[0m\n\u001b[0;32m     65\u001b[0m             \u001b[1;31m# extra_args > 0\u001b[0m\u001b[1;33m\u001b[0m\u001b[1;33m\u001b[0m\u001b[1;33m\u001b[0m\u001b[0m\n",
      "\u001b[1;32mC:\\Anaconda\\lib\\site-packages\\sklearn\\metrics\\_ranking.py\u001b[0m in \u001b[0;36mroc_curve\u001b[1;34m(y_true, y_score, pos_label, sample_weight, drop_intermediate)\u001b[0m\n\u001b[0;32m    911\u001b[0m \u001b[1;33m\u001b[0m\u001b[0m\n\u001b[0;32m    912\u001b[0m     \"\"\"\n\u001b[1;32m--> 913\u001b[1;33m     fps, tps, thresholds = _binary_clf_curve(\n\u001b[0m\u001b[0;32m    914\u001b[0m         y_true, y_score, pos_label=pos_label, sample_weight=sample_weight)\n\u001b[0;32m    915\u001b[0m \u001b[1;33m\u001b[0m\u001b[0m\n",
      "\u001b[1;32mC:\\Anaconda\\lib\\site-packages\\sklearn\\metrics\\_ranking.py\u001b[0m in \u001b[0;36m_binary_clf_curve\u001b[1;34m(y_true, y_score, pos_label, sample_weight)\u001b[0m\n\u001b[0;32m    693\u001b[0m     \u001b[0mcheck_consistent_length\u001b[0m\u001b[1;33m(\u001b[0m\u001b[0my_true\u001b[0m\u001b[1;33m,\u001b[0m \u001b[0my_score\u001b[0m\u001b[1;33m,\u001b[0m \u001b[0msample_weight\u001b[0m\u001b[1;33m)\u001b[0m\u001b[1;33m\u001b[0m\u001b[1;33m\u001b[0m\u001b[0m\n\u001b[0;32m    694\u001b[0m     \u001b[0my_true\u001b[0m \u001b[1;33m=\u001b[0m \u001b[0mcolumn_or_1d\u001b[0m\u001b[1;33m(\u001b[0m\u001b[0my_true\u001b[0m\u001b[1;33m)\u001b[0m\u001b[1;33m\u001b[0m\u001b[1;33m\u001b[0m\u001b[0m\n\u001b[1;32m--> 695\u001b[1;33m     \u001b[0my_score\u001b[0m \u001b[1;33m=\u001b[0m \u001b[0mcolumn_or_1d\u001b[0m\u001b[1;33m(\u001b[0m\u001b[0my_score\u001b[0m\u001b[1;33m)\u001b[0m\u001b[1;33m\u001b[0m\u001b[1;33m\u001b[0m\u001b[0m\n\u001b[0m\u001b[0;32m    696\u001b[0m     \u001b[0massert_all_finite\u001b[0m\u001b[1;33m(\u001b[0m\u001b[0my_true\u001b[0m\u001b[1;33m)\u001b[0m\u001b[1;33m\u001b[0m\u001b[1;33m\u001b[0m\u001b[0m\n\u001b[0;32m    697\u001b[0m     \u001b[0massert_all_finite\u001b[0m\u001b[1;33m(\u001b[0m\u001b[0my_score\u001b[0m\u001b[1;33m)\u001b[0m\u001b[1;33m\u001b[0m\u001b[1;33m\u001b[0m\u001b[0m\n",
      "\u001b[1;32mC:\\Anaconda\\lib\\site-packages\\sklearn\\utils\\validation.py\u001b[0m in \u001b[0;36minner_f\u001b[1;34m(*args, **kwargs)\u001b[0m\n\u001b[0;32m     61\u001b[0m             \u001b[0mextra_args\u001b[0m \u001b[1;33m=\u001b[0m \u001b[0mlen\u001b[0m\u001b[1;33m(\u001b[0m\u001b[0margs\u001b[0m\u001b[1;33m)\u001b[0m \u001b[1;33m-\u001b[0m \u001b[0mlen\u001b[0m\u001b[1;33m(\u001b[0m\u001b[0mall_args\u001b[0m\u001b[1;33m)\u001b[0m\u001b[1;33m\u001b[0m\u001b[1;33m\u001b[0m\u001b[0m\n\u001b[0;32m     62\u001b[0m             \u001b[1;32mif\u001b[0m \u001b[0mextra_args\u001b[0m \u001b[1;33m<=\u001b[0m \u001b[1;36m0\u001b[0m\u001b[1;33m:\u001b[0m\u001b[1;33m\u001b[0m\u001b[1;33m\u001b[0m\u001b[0m\n\u001b[1;32m---> 63\u001b[1;33m                 \u001b[1;32mreturn\u001b[0m \u001b[0mf\u001b[0m\u001b[1;33m(\u001b[0m\u001b[1;33m*\u001b[0m\u001b[0margs\u001b[0m\u001b[1;33m,\u001b[0m \u001b[1;33m**\u001b[0m\u001b[0mkwargs\u001b[0m\u001b[1;33m)\u001b[0m\u001b[1;33m\u001b[0m\u001b[1;33m\u001b[0m\u001b[0m\n\u001b[0m\u001b[0;32m     64\u001b[0m \u001b[1;33m\u001b[0m\u001b[0m\n\u001b[0;32m     65\u001b[0m             \u001b[1;31m# extra_args > 0\u001b[0m\u001b[1;33m\u001b[0m\u001b[1;33m\u001b[0m\u001b[1;33m\u001b[0m\u001b[0m\n",
      "\u001b[1;32mC:\\Anaconda\\lib\\site-packages\\sklearn\\utils\\validation.py\u001b[0m in \u001b[0;36mcolumn_or_1d\u001b[1;34m(y, warn)\u001b[0m\n\u001b[0;32m    862\u001b[0m         \u001b[1;32mreturn\u001b[0m \u001b[0mnp\u001b[0m\u001b[1;33m.\u001b[0m\u001b[0mravel\u001b[0m\u001b[1;33m(\u001b[0m\u001b[0my\u001b[0m\u001b[1;33m)\u001b[0m\u001b[1;33m\u001b[0m\u001b[1;33m\u001b[0m\u001b[0m\n\u001b[0;32m    863\u001b[0m \u001b[1;33m\u001b[0m\u001b[0m\n\u001b[1;32m--> 864\u001b[1;33m     raise ValueError(\n\u001b[0m\u001b[0;32m    865\u001b[0m         \u001b[1;34m\"y should be a 1d array, \"\u001b[0m\u001b[1;33m\u001b[0m\u001b[1;33m\u001b[0m\u001b[0m\n\u001b[0;32m    866\u001b[0m         \"got an array of shape {} instead.\".format(shape))\n",
      "\u001b[1;31mValueError\u001b[0m: y should be a 1d array, got an array of shape (2859, 2) instead."
     ]
    }
   ],
   "source": [
    "from sklearn.metrics import roc_auc_score\n",
    "from sklearn.metrics import roc_curve\n",
    "dt_roc_auc = roc_auc_score(y_test, y_predict)\n",
    "print(dt_roc_auc)"
   ]
  },
  {
   "cell_type": "code",
   "execution_count": null,
   "id": "72ad8f96",
   "metadata": {},
   "outputs": [],
   "source": [
    "model.fit(x_train_data,y_train_data)\n",
    "y_predict = model.predict_proba(test)"
   ]
  },
  {
   "cell_type": "code",
   "execution_count": null,
   "id": "6bb03e14",
   "metadata": {},
   "outputs": [],
   "source": [
    "testdata=pd.read_csv(\"C:/Users/diksha.sharma/Downloads/test_UyrvqPb (1).csv\")"
   ]
  },
  {
   "cell_type": "code",
   "execution_count": null,
   "id": "28c81e53",
   "metadata": {},
   "outputs": [],
   "source": [
    "testdata.shape"
   ]
  },
  {
   "cell_type": "code",
   "execution_count": null,
   "id": "c3a04637",
   "metadata": {},
   "outputs": [],
   "source": [
    "testdata.Applicant_Occupation.fillna(\"Others\",inplace=True)\n",
    "testdata.Applicant_Marital_Status.fillna(\"Applicant_Marital_StatusMissing\",inplace=True)\n",
    "testdata.Applicant_Gender.fillna(\"Applicant_GenderMissing\",inplace=True)\n",
    "testdata.Applicant_Qualification.fillna(\"Others\",inplace=True)\n",
    "testdata.Manager_Gender.fillna(\"Manager_GenderMissing\",inplace=True)\n",
    "testdata.Manager_Status.fillna(\"Manager_StatusMissing\",inplace=True)\n"
   ]
  },
  {
   "cell_type": "code",
   "execution_count": null,
   "id": "3a60ea66",
   "metadata": {},
   "outputs": [],
   "source": [
    "testdata['Application_Receipt_Date'] = pd.to_datetime(testdata['Application_Receipt_Date'], format =  '%m/%d/%Y')\n",
    "testdata['Applicant_BirthDate'] = pd.to_datetime(testdata['Applicant_BirthDate'], format =  '%m/%d/%Y')\n",
    "testdata['Manager_DoB'] = pd.to_datetime(testdata['Manager_DoB'], format =  '%m/%d/%Y')\n",
    "testdata['Manager_DOJ'] = pd.to_datetime(testdata['Manager_DOJ'], format =  '%m/%d/%Y')"
   ]
  },
  {
   "cell_type": "code",
   "execution_count": null,
   "id": "440d6e85",
   "metadata": {},
   "outputs": [],
   "source": [
    "testdata['Application_Receipt_Date_year'] = testdata['Application_Receipt_Date'].dt.year\n",
    "testdata['Application_Receipt_Date_month'] = testdata['Application_Receipt_Date'].dt.month\n",
    "\n",
    "testdata['Application_Receipt_Date_day'] = testdata['Application_Receipt_Date'].dt.day\n",
    "testdata['Applicant_BirthDate_year'] = testdata['Applicant_BirthDate'].dt.year\n",
    "testdata['Applicant_BirthDate_month'] = testdata['Applicant_BirthDate'].dt.month\n",
    "\n",
    "testdata['Applicant_BirthDate_day'] = testdata['Applicant_BirthDate'].dt.day\n"
   ]
  },
  {
   "cell_type": "code",
   "execution_count": null,
   "id": "02759afd",
   "metadata": {},
   "outputs": [],
   "source": [
    "testdata['Manager_Joining_Designation']=testdata['Manager_Joining_Designation'].map(lambda x:float(str(x)[-1]) if (str(x)[-1]!='n')& (str(x)[-1]!='r') else float('nan'))\n",
    "testdata['Manager_Current_Designation']=testdata['Manager_Current_Designation'].map(lambda x:float(str(x)[-1]) if (str(x)[-1]!='n')& (str(x)[-1]!='r') else float('nan'))\n"
   ]
  },
  {
   "cell_type": "code",
   "execution_count": null,
   "id": "046a64c3",
   "metadata": {},
   "outputs": [],
   "source": [
    "testdata['Manager_Promotion']=testdata['Manager_Current_Designation']-testdata['Manager_Joining_Designation']"
   ]
  },
  {
   "cell_type": "code",
   "execution_count": null,
   "id": "f3f26dd5",
   "metadata": {},
   "outputs": [],
   "source": [
    "testdata['PinDifference'] =abs(testdata['Office_PIN']-testdata['Applicant_City_PIN'])"
   ]
  },
  {
   "cell_type": "code",
   "execution_count": null,
   "id": "80f1a489",
   "metadata": {},
   "outputs": [],
   "source": [
    "import datetime as dt\n",
    "\n",
    "#data['Manager_age'] = (np.floor((pd.to_datetime(data['Manager_DoB']) - pd.to_datetime(data['Manager_DOJ'])).dt.days / 365.25)).astype(int)\n",
    "testdata['Manager_age']=abs(testdata['Application_Receipt_Date'].dt.year - testdata['Manager_DoB'].dt.year)\n",
    "testdata['Applicant_age']=abs(testdata['Application_Receipt_Date'].dt.year - testdata['Applicant_BirthDate'].dt.year)\n"
   ]
  },
  {
   "cell_type": "code",
   "execution_count": null,
   "id": "6ed79a81",
   "metadata": {},
   "outputs": [],
   "source": [
    "for column in testdata:\n",
    "    if testdata[column].dtype == \"float64\" or testdata[column].dtype == \"int64\":\n",
    "        testdata[column].fillna(testdata[column].median(), inplace=True)\n"
   ]
  },
  {
   "cell_type": "code",
   "execution_count": null,
   "id": "c20fd6ef",
   "metadata": {},
   "outputs": [],
   "source": [
    "testdata=testdata.drop(columns=['Application_Receipt_Date','Applicant_BirthDate','Manager_DoB','Manager_DOJ','Applicant_Qualification'])"
   ]
  },
  {
   "cell_type": "code",
   "execution_count": null,
   "id": "82f11206",
   "metadata": {},
   "outputs": [],
   "source": [
    "test_num=testdata[['Manager_Business','Manager_Num_Products','Manager_Business2','Manager_Num_Products2','Application_Receipt_Date_year','Application_Receipt_Date_month','Application_Receipt_Date_day','Applicant_BirthDate_year','Applicant_BirthDate_month','Applicant_BirthDate_day','Manager_age','Applicant_age']]"
   ]
  },
  {
   "cell_type": "code",
   "execution_count": null,
   "id": "e5a9d25d",
   "metadata": {},
   "outputs": [],
   "source": [
    "test_label=testdata[['Office_PIN','Applicant_City_PIN','Manager_Grade','Manager_Num_Coded','Manager_Num_Application','Manager_Current_Designation','PinDifference','Manager_Promotion']]"
   ]
  },
  {
   "cell_type": "code",
   "execution_count": null,
   "id": "e8c5728f",
   "metadata": {},
   "outputs": [],
   "source": [
    "from sklearn import preprocessing\n",
    "test_label_encode=test_label.apply(LabelEncoder().fit_transform)"
   ]
  },
  {
   "cell_type": "code",
   "execution_count": null,
   "id": "1890482c",
   "metadata": {},
   "outputs": [],
   "source": [
    "test_label_encode.shape"
   ]
  },
  {
   "cell_type": "code",
   "execution_count": null,
   "id": "2c0d6143",
   "metadata": {},
   "outputs": [],
   "source": [
    "test_one_hot=testdata[['Applicant_Gender','Applicant_Marital_Status','Applicant_Occupation','Manager_Joining_Designation','Manager_Status','Manager_Gender']]"
   ]
  },
  {
   "cell_type": "code",
   "execution_count": null,
   "id": "59e0981d",
   "metadata": {},
   "outputs": [],
   "source": [
    "test_enc = pd.get_dummies(test_one_hot,drop_first=True)"
   ]
  },
  {
   "cell_type": "code",
   "execution_count": null,
   "id": "9d7612be",
   "metadata": {},
   "outputs": [],
   "source": [
    "enc.columns"
   ]
  },
  {
   "cell_type": "code",
   "execution_count": null,
   "id": "d626d5c1",
   "metadata": {},
   "outputs": [],
   "source": [
    "data_t=pd.concat([test_label_encode,test_enc,test_num],axis=1)"
   ]
  },
  {
   "cell_type": "code",
   "execution_count": null,
   "id": "e3d716ae",
   "metadata": {},
   "outputs": [],
   "source": [
    "data_t.columns\n"
   ]
  },
  {
   "cell_type": "code",
   "execution_count": null,
   "id": "1c30347d",
   "metadata": {},
   "outputs": [],
   "source": [
    "scaler= StandardScaler()\n",
    "xx=scaler.fit_transform(data_t)\n",
    "xx"
   ]
  },
  {
   "cell_type": "code",
   "execution_count": null,
   "id": "78e333bb",
   "metadata": {},
   "outputs": [],
   "source": [
    "xx.shape"
   ]
  },
  {
   "cell_type": "code",
   "execution_count": null,
   "id": "f5b15fba",
   "metadata": {},
   "outputs": [],
   "source": [
    "y_pred = clf.predict(xx)"
   ]
  },
  {
   "cell_type": "code",
   "execution_count": null,
   "id": "1162ec40",
   "metadata": {},
   "outputs": [],
   "source": [
    "y_pred"
   ]
  },
  {
   "cell_type": "code",
   "execution_count": null,
   "id": "b45f2ddf",
   "metadata": {},
   "outputs": [],
   "source": [
    "final_data=pd.DataFrame()\n",
    "final_data['ID']=testdata['ID']\n",
    "final_data['Business_Sourced']=y_pred\n",
    "final_data"
   ]
  },
  {
   "cell_type": "code",
   "execution_count": null,
   "id": "f3f289d0",
   "metadata": {},
   "outputs": [],
   "source": []
  }
 ],
 "metadata": {
  "kernelspec": {
   "display_name": "Python 3",
   "language": "python",
   "name": "python3"
  },
  "language_info": {
   "codemirror_mode": {
    "name": "ipython",
    "version": 3
   },
   "file_extension": ".py",
   "mimetype": "text/x-python",
   "name": "python",
   "nbconvert_exporter": "python",
   "pygments_lexer": "ipython3",
   "version": "3.8.8"
  }
 },
 "nbformat": 4,
 "nbformat_minor": 5
}
