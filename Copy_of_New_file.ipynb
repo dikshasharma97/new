{
  "nbformat": 4,
  "nbformat_minor": 5,
  "metadata": {
    "colab": {
      "name": "Copy of New_file.ipynb",
      "provenance": [],
      "collapsed_sections": [],
      "include_colab_link": true
    },
    "kernelspec": {
      "display_name": "Python 3",
      "language": "python",
      "name": "python3"
    },
    "language_info": {
      "codemirror_mode": {
        "name": "ipython",
        "version": 3
      },
      "file_extension": ".py",
      "mimetype": "text/x-python",
      "name": "python",
      "nbconvert_exporter": "python",
      "pygments_lexer": "ipython3",
      "version": "3.8.8"
    }
  },
  "cells": [
    {
      "cell_type": "markdown",
      "metadata": {
        "id": "view-in-github",
        "colab_type": "text"
      },
      "source": [
        "<a href=\"https://colab.research.google.com/github/dikshasharma97/new/blob/main/Copy_of_New_file.ipynb\" target=\"_parent\"><img src=\"https://colab.research.google.com/assets/colab-badge.svg\" alt=\"Open In Colab\"/></a>"
      ]
    },
    {
      "cell_type": "code",
      "metadata": {
        "id": "9f004bf0"
      },
      "source": [
        "import pandas as pd\n",
        "import numpy as np\n",
        "import matplotlib.pyplot as plt \n",
        "import seaborn as sns\n",
        "%matplotlib inline"
      ],
      "id": "9f004bf0",
      "execution_count": 1,
      "outputs": []
    },
    {
      "cell_type": "code",
      "metadata": {
        "id": "a0e72b90"
      },
      "source": [
        "d_train = pd.read_csv('/content/train_dK8Auve.csv')\n",
        "d_test = pd.read_csv('/content/test_UyrvqPb.csv')"
      ],
      "id": "a0e72b90",
      "execution_count": 2,
      "outputs": []
    },
    {
      "cell_type": "code",
      "metadata": {
        "colab": {
          "base_uri": "https://localhost:8080/",
          "height": 443
        },
        "id": "1a3d9dbb",
        "outputId": "7d6e1a20-a930-42ce-a1fe-4628afab357f"
      },
      "source": [
        "d_train"
      ],
      "id": "1a3d9dbb",
      "execution_count": 3,
      "outputs": [
        {
          "output_type": "execute_result",
          "data": {
            "text/html": [
              "<div>\n",
              "<style scoped>\n",
              "    .dataframe tbody tr th:only-of-type {\n",
              "        vertical-align: middle;\n",
              "    }\n",
              "\n",
              "    .dataframe tbody tr th {\n",
              "        vertical-align: top;\n",
              "    }\n",
              "\n",
              "    .dataframe thead th {\n",
              "        text-align: right;\n",
              "    }\n",
              "</style>\n",
              "<table border=\"1\" class=\"dataframe\">\n",
              "  <thead>\n",
              "    <tr style=\"text-align: right;\">\n",
              "      <th></th>\n",
              "      <th>ID</th>\n",
              "      <th>Office_PIN</th>\n",
              "      <th>Application_Receipt_Date</th>\n",
              "      <th>Applicant_City_PIN</th>\n",
              "      <th>Applicant_Gender</th>\n",
              "      <th>Applicant_BirthDate</th>\n",
              "      <th>Applicant_Marital_Status</th>\n",
              "      <th>Applicant_Occupation</th>\n",
              "      <th>Applicant_Qualification</th>\n",
              "      <th>Manager_DOJ</th>\n",
              "      <th>Manager_Joining_Designation</th>\n",
              "      <th>Manager_Current_Designation</th>\n",
              "      <th>Manager_Grade</th>\n",
              "      <th>Manager_Status</th>\n",
              "      <th>Manager_Gender</th>\n",
              "      <th>Manager_DoB</th>\n",
              "      <th>Manager_Num_Application</th>\n",
              "      <th>Manager_Num_Coded</th>\n",
              "      <th>Manager_Business</th>\n",
              "      <th>Manager_Num_Products</th>\n",
              "      <th>Manager_Business2</th>\n",
              "      <th>Manager_Num_Products2</th>\n",
              "      <th>Business_Sourced</th>\n",
              "    </tr>\n",
              "  </thead>\n",
              "  <tbody>\n",
              "    <tr>\n",
              "      <th>0</th>\n",
              "      <td>FIN1000001</td>\n",
              "      <td>842001</td>\n",
              "      <td>4/16/2007</td>\n",
              "      <td>844120.0</td>\n",
              "      <td>M</td>\n",
              "      <td>12/19/1971</td>\n",
              "      <td>M</td>\n",
              "      <td>Others</td>\n",
              "      <td>Graduate</td>\n",
              "      <td>11/10/2005</td>\n",
              "      <td>Level 1</td>\n",
              "      <td>Level 2</td>\n",
              "      <td>3.0</td>\n",
              "      <td>Confirmation</td>\n",
              "      <td>M</td>\n",
              "      <td>2/17/1978</td>\n",
              "      <td>2.0</td>\n",
              "      <td>1.0</td>\n",
              "      <td>335249.0</td>\n",
              "      <td>28.0</td>\n",
              "      <td>335249.0</td>\n",
              "      <td>28.0</td>\n",
              "      <td>0</td>\n",
              "    </tr>\n",
              "    <tr>\n",
              "      <th>1</th>\n",
              "      <td>FIN1000002</td>\n",
              "      <td>842001</td>\n",
              "      <td>4/16/2007</td>\n",
              "      <td>844111.0</td>\n",
              "      <td>M</td>\n",
              "      <td>2/17/1983</td>\n",
              "      <td>S</td>\n",
              "      <td>Others</td>\n",
              "      <td>Class XII</td>\n",
              "      <td>11/10/2005</td>\n",
              "      <td>Level 1</td>\n",
              "      <td>Level 2</td>\n",
              "      <td>3.0</td>\n",
              "      <td>Confirmation</td>\n",
              "      <td>M</td>\n",
              "      <td>2/17/1978</td>\n",
              "      <td>2.0</td>\n",
              "      <td>1.0</td>\n",
              "      <td>335249.0</td>\n",
              "      <td>28.0</td>\n",
              "      <td>335249.0</td>\n",
              "      <td>28.0</td>\n",
              "      <td>1</td>\n",
              "    </tr>\n",
              "    <tr>\n",
              "      <th>2</th>\n",
              "      <td>FIN1000003</td>\n",
              "      <td>800001</td>\n",
              "      <td>4/16/2007</td>\n",
              "      <td>844101.0</td>\n",
              "      <td>M</td>\n",
              "      <td>1/16/1966</td>\n",
              "      <td>M</td>\n",
              "      <td>Business</td>\n",
              "      <td>Class XII</td>\n",
              "      <td>5/27/2006</td>\n",
              "      <td>Level 1</td>\n",
              "      <td>Level 1</td>\n",
              "      <td>2.0</td>\n",
              "      <td>Confirmation</td>\n",
              "      <td>M</td>\n",
              "      <td>3/3/1969</td>\n",
              "      <td>0.0</td>\n",
              "      <td>0.0</td>\n",
              "      <td>357184.0</td>\n",
              "      <td>24.0</td>\n",
              "      <td>357184.0</td>\n",
              "      <td>24.0</td>\n",
              "      <td>0</td>\n",
              "    </tr>\n",
              "    <tr>\n",
              "      <th>3</th>\n",
              "      <td>FIN1000004</td>\n",
              "      <td>814112</td>\n",
              "      <td>4/16/2007</td>\n",
              "      <td>814112.0</td>\n",
              "      <td>M</td>\n",
              "      <td>2/3/1988</td>\n",
              "      <td>S</td>\n",
              "      <td>Salaried</td>\n",
              "      <td>Class XII</td>\n",
              "      <td>8/21/2003</td>\n",
              "      <td>Level 1</td>\n",
              "      <td>Level 3</td>\n",
              "      <td>4.0</td>\n",
              "      <td>Confirmation</td>\n",
              "      <td>F</td>\n",
              "      <td>8/14/1978</td>\n",
              "      <td>0.0</td>\n",
              "      <td>0.0</td>\n",
              "      <td>318356.0</td>\n",
              "      <td>22.0</td>\n",
              "      <td>318356.0</td>\n",
              "      <td>22.0</td>\n",
              "      <td>0</td>\n",
              "    </tr>\n",
              "    <tr>\n",
              "      <th>4</th>\n",
              "      <td>FIN1000005</td>\n",
              "      <td>814112</td>\n",
              "      <td>4/16/2007</td>\n",
              "      <td>815351.0</td>\n",
              "      <td>M</td>\n",
              "      <td>7/4/1985</td>\n",
              "      <td>M</td>\n",
              "      <td>Others</td>\n",
              "      <td>Class XII</td>\n",
              "      <td>5/8/2006</td>\n",
              "      <td>Level 1</td>\n",
              "      <td>Level 1</td>\n",
              "      <td>2.0</td>\n",
              "      <td>Confirmation</td>\n",
              "      <td>M</td>\n",
              "      <td>2/7/1971</td>\n",
              "      <td>2.0</td>\n",
              "      <td>1.0</td>\n",
              "      <td>230402.0</td>\n",
              "      <td>17.0</td>\n",
              "      <td>230402.0</td>\n",
              "      <td>17.0</td>\n",
              "      <td>0</td>\n",
              "    </tr>\n",
              "    <tr>\n",
              "      <th>...</th>\n",
              "      <td>...</td>\n",
              "      <td>...</td>\n",
              "      <td>...</td>\n",
              "      <td>...</td>\n",
              "      <td>...</td>\n",
              "      <td>...</td>\n",
              "      <td>...</td>\n",
              "      <td>...</td>\n",
              "      <td>...</td>\n",
              "      <td>...</td>\n",
              "      <td>...</td>\n",
              "      <td>...</td>\n",
              "      <td>...</td>\n",
              "      <td>...</td>\n",
              "      <td>...</td>\n",
              "      <td>...</td>\n",
              "      <td>...</td>\n",
              "      <td>...</td>\n",
              "      <td>...</td>\n",
              "      <td>...</td>\n",
              "      <td>...</td>\n",
              "      <td>...</td>\n",
              "      <td>...</td>\n",
              "    </tr>\n",
              "    <tr>\n",
              "      <th>9522</th>\n",
              "      <td>FIN1009523</td>\n",
              "      <td>160017</td>\n",
              "      <td>7/1/2008</td>\n",
              "      <td>160032.0</td>\n",
              "      <td>M</td>\n",
              "      <td>1/18/1970</td>\n",
              "      <td>M</td>\n",
              "      <td>Salaried</td>\n",
              "      <td>Graduate</td>\n",
              "      <td>5/5/2008</td>\n",
              "      <td>Level 2</td>\n",
              "      <td>Level 2</td>\n",
              "      <td>3.0</td>\n",
              "      <td>Probation</td>\n",
              "      <td>M</td>\n",
              "      <td>5/10/1967</td>\n",
              "      <td>0.0</td>\n",
              "      <td>0.0</td>\n",
              "      <td>0.0</td>\n",
              "      <td>0.0</td>\n",
              "      <td>0.0</td>\n",
              "      <td>0.0</td>\n",
              "      <td>0</td>\n",
              "    </tr>\n",
              "    <tr>\n",
              "      <th>9523</th>\n",
              "      <td>FIN1009524</td>\n",
              "      <td>848101</td>\n",
              "      <td>7/1/2008</td>\n",
              "      <td>848302.0</td>\n",
              "      <td>M</td>\n",
              "      <td>9/11/1956</td>\n",
              "      <td>M</td>\n",
              "      <td>NaN</td>\n",
              "      <td>Graduate</td>\n",
              "      <td>NaN</td>\n",
              "      <td>NaN</td>\n",
              "      <td>NaN</td>\n",
              "      <td>NaN</td>\n",
              "      <td>NaN</td>\n",
              "      <td>NaN</td>\n",
              "      <td>NaN</td>\n",
              "      <td>NaN</td>\n",
              "      <td>NaN</td>\n",
              "      <td>NaN</td>\n",
              "      <td>NaN</td>\n",
              "      <td>NaN</td>\n",
              "      <td>NaN</td>\n",
              "      <td>0</td>\n",
              "    </tr>\n",
              "    <tr>\n",
              "      <th>9524</th>\n",
              "      <td>FIN1009525</td>\n",
              "      <td>753012</td>\n",
              "      <td>7/1/2008</td>\n",
              "      <td>753014.0</td>\n",
              "      <td>F</td>\n",
              "      <td>8/7/1975</td>\n",
              "      <td>M</td>\n",
              "      <td>Salaried</td>\n",
              "      <td>Graduate</td>\n",
              "      <td>8/22/2006</td>\n",
              "      <td>Level 2</td>\n",
              "      <td>Level 2</td>\n",
              "      <td>3.0</td>\n",
              "      <td>Confirmation</td>\n",
              "      <td>M</td>\n",
              "      <td>7/22/1970</td>\n",
              "      <td>0.0</td>\n",
              "      <td>0.0</td>\n",
              "      <td>316126.0</td>\n",
              "      <td>9.0</td>\n",
              "      <td>305775.0</td>\n",
              "      <td>8.0</td>\n",
              "      <td>0</td>\n",
              "    </tr>\n",
              "    <tr>\n",
              "      <th>9525</th>\n",
              "      <td>FIN1009526</td>\n",
              "      <td>575003</td>\n",
              "      <td>7/1/2008</td>\n",
              "      <td>571248.0</td>\n",
              "      <td>M</td>\n",
              "      <td>12/23/1986</td>\n",
              "      <td>S</td>\n",
              "      <td>Salaried</td>\n",
              "      <td>Class XII</td>\n",
              "      <td>6/5/2008</td>\n",
              "      <td>Level 3</td>\n",
              "      <td>Level 3</td>\n",
              "      <td>4.0</td>\n",
              "      <td>Probation</td>\n",
              "      <td>M</td>\n",
              "      <td>9/23/1976</td>\n",
              "      <td>0.0</td>\n",
              "      <td>0.0</td>\n",
              "      <td>0.0</td>\n",
              "      <td>0.0</td>\n",
              "      <td>0.0</td>\n",
              "      <td>0.0</td>\n",
              "      <td>0</td>\n",
              "    </tr>\n",
              "    <tr>\n",
              "      <th>9526</th>\n",
              "      <td>FIN1009527</td>\n",
              "      <td>411006</td>\n",
              "      <td>7/1/2008</td>\n",
              "      <td>411006.0</td>\n",
              "      <td>F</td>\n",
              "      <td>2/7/1976</td>\n",
              "      <td>M</td>\n",
              "      <td>Others</td>\n",
              "      <td>Graduate</td>\n",
              "      <td>NaN</td>\n",
              "      <td>NaN</td>\n",
              "      <td>NaN</td>\n",
              "      <td>NaN</td>\n",
              "      <td>NaN</td>\n",
              "      <td>NaN</td>\n",
              "      <td>NaN</td>\n",
              "      <td>NaN</td>\n",
              "      <td>NaN</td>\n",
              "      <td>NaN</td>\n",
              "      <td>NaN</td>\n",
              "      <td>NaN</td>\n",
              "      <td>NaN</td>\n",
              "      <td>0</td>\n",
              "    </tr>\n",
              "  </tbody>\n",
              "</table>\n",
              "<p>9527 rows × 23 columns</p>\n",
              "</div>"
            ],
            "text/plain": [
              "              ID  Office_PIN  ... Manager_Num_Products2  Business_Sourced\n",
              "0     FIN1000001      842001  ...                  28.0                 0\n",
              "1     FIN1000002      842001  ...                  28.0                 1\n",
              "2     FIN1000003      800001  ...                  24.0                 0\n",
              "3     FIN1000004      814112  ...                  22.0                 0\n",
              "4     FIN1000005      814112  ...                  17.0                 0\n",
              "...          ...         ...  ...                   ...               ...\n",
              "9522  FIN1009523      160017  ...                   0.0                 0\n",
              "9523  FIN1009524      848101  ...                   NaN                 0\n",
              "9524  FIN1009525      753012  ...                   8.0                 0\n",
              "9525  FIN1009526      575003  ...                   0.0                 0\n",
              "9526  FIN1009527      411006  ...                   NaN                 0\n",
              "\n",
              "[9527 rows x 23 columns]"
            ]
          },
          "metadata": {
            "tags": []
          },
          "execution_count": 3
        }
      ]
    },
    {
      "cell_type": "code",
      "metadata": {
        "colab": {
          "base_uri": "https://localhost:8080/",
          "height": 461
        },
        "id": "d59ab6ab",
        "outputId": "a7c376e1-910f-48f9-a52f-61edbfb072fd"
      },
      "source": [
        "d_test"
      ],
      "id": "d59ab6ab",
      "execution_count": 4,
      "outputs": [
        {
          "output_type": "execute_result",
          "data": {
            "text/html": [
              "<div>\n",
              "<style scoped>\n",
              "    .dataframe tbody tr th:only-of-type {\n",
              "        vertical-align: middle;\n",
              "    }\n",
              "\n",
              "    .dataframe tbody tr th {\n",
              "        vertical-align: top;\n",
              "    }\n",
              "\n",
              "    .dataframe thead th {\n",
              "        text-align: right;\n",
              "    }\n",
              "</style>\n",
              "<table border=\"1\" class=\"dataframe\">\n",
              "  <thead>\n",
              "    <tr style=\"text-align: right;\">\n",
              "      <th></th>\n",
              "      <th>ID</th>\n",
              "      <th>Office_PIN</th>\n",
              "      <th>Application_Receipt_Date</th>\n",
              "      <th>Applicant_City_PIN</th>\n",
              "      <th>Applicant_Gender</th>\n",
              "      <th>Applicant_BirthDate</th>\n",
              "      <th>Applicant_Marital_Status</th>\n",
              "      <th>Applicant_Occupation</th>\n",
              "      <th>Applicant_Qualification</th>\n",
              "      <th>Manager_DOJ</th>\n",
              "      <th>Manager_Joining_Designation</th>\n",
              "      <th>Manager_Current_Designation</th>\n",
              "      <th>Manager_Grade</th>\n",
              "      <th>Manager_Status</th>\n",
              "      <th>Manager_Gender</th>\n",
              "      <th>Manager_DoB</th>\n",
              "      <th>Manager_Num_Application</th>\n",
              "      <th>Manager_Num_Coded</th>\n",
              "      <th>Manager_Business</th>\n",
              "      <th>Manager_Num_Products</th>\n",
              "      <th>Manager_Business2</th>\n",
              "      <th>Manager_Num_Products2</th>\n",
              "    </tr>\n",
              "  </thead>\n",
              "  <tbody>\n",
              "    <tr>\n",
              "      <th>0</th>\n",
              "      <td>FIN1009528</td>\n",
              "      <td>284001</td>\n",
              "      <td>7/2/2008</td>\n",
              "      <td>284001.0</td>\n",
              "      <td>M</td>\n",
              "      <td>8/5/1982</td>\n",
              "      <td>S</td>\n",
              "      <td>Salaried</td>\n",
              "      <td>Graduate</td>\n",
              "      <td>5/26/2008</td>\n",
              "      <td>Level 1</td>\n",
              "      <td>Level 1</td>\n",
              "      <td>2.0</td>\n",
              "      <td>Probation</td>\n",
              "      <td>F</td>\n",
              "      <td>10/14/1978</td>\n",
              "      <td>1.0</td>\n",
              "      <td>0.0</td>\n",
              "      <td>0.0</td>\n",
              "      <td>0.0</td>\n",
              "      <td>0.0</td>\n",
              "      <td>0.0</td>\n",
              "    </tr>\n",
              "    <tr>\n",
              "      <th>1</th>\n",
              "      <td>FIN1009529</td>\n",
              "      <td>800001</td>\n",
              "      <td>7/2/2008</td>\n",
              "      <td>800026.0</td>\n",
              "      <td>M</td>\n",
              "      <td>3/11/1968</td>\n",
              "      <td>M</td>\n",
              "      <td>Salaried</td>\n",
              "      <td>Graduate</td>\n",
              "      <td>6/24/2008</td>\n",
              "      <td>Level 1</td>\n",
              "      <td>Level 1</td>\n",
              "      <td>2.0</td>\n",
              "      <td>Probation</td>\n",
              "      <td>M</td>\n",
              "      <td>3/3/1971</td>\n",
              "      <td>2.0</td>\n",
              "      <td>0.0</td>\n",
              "      <td>0.0</td>\n",
              "      <td>0.0</td>\n",
              "      <td>0.0</td>\n",
              "      <td>0.0</td>\n",
              "    </tr>\n",
              "    <tr>\n",
              "      <th>2</th>\n",
              "      <td>FIN1009530</td>\n",
              "      <td>800001</td>\n",
              "      <td>7/2/2008</td>\n",
              "      <td>NaN</td>\n",
              "      <td>M</td>\n",
              "      <td>12/16/1984</td>\n",
              "      <td>S</td>\n",
              "      <td>NaN</td>\n",
              "      <td>Graduate</td>\n",
              "      <td>NaN</td>\n",
              "      <td>NaN</td>\n",
              "      <td>NaN</td>\n",
              "      <td>NaN</td>\n",
              "      <td>NaN</td>\n",
              "      <td>NaN</td>\n",
              "      <td>NaN</td>\n",
              "      <td>NaN</td>\n",
              "      <td>NaN</td>\n",
              "      <td>NaN</td>\n",
              "      <td>NaN</td>\n",
              "      <td>NaN</td>\n",
              "      <td>NaN</td>\n",
              "    </tr>\n",
              "    <tr>\n",
              "      <th>3</th>\n",
              "      <td>FIN1009531</td>\n",
              "      <td>800001</td>\n",
              "      <td>7/2/2008</td>\n",
              "      <td>844112.0</td>\n",
              "      <td>M</td>\n",
              "      <td>6/7/1971</td>\n",
              "      <td>S</td>\n",
              "      <td>Salaried</td>\n",
              "      <td>Graduate</td>\n",
              "      <td>NaN</td>\n",
              "      <td>NaN</td>\n",
              "      <td>NaN</td>\n",
              "      <td>NaN</td>\n",
              "      <td>NaN</td>\n",
              "      <td>NaN</td>\n",
              "      <td>NaN</td>\n",
              "      <td>NaN</td>\n",
              "      <td>NaN</td>\n",
              "      <td>NaN</td>\n",
              "      <td>NaN</td>\n",
              "      <td>NaN</td>\n",
              "      <td>NaN</td>\n",
              "    </tr>\n",
              "    <tr>\n",
              "      <th>4</th>\n",
              "      <td>FIN1009532</td>\n",
              "      <td>533101</td>\n",
              "      <td>7/2/2008</td>\n",
              "      <td>533102.0</td>\n",
              "      <td>M</td>\n",
              "      <td>7/22/1978</td>\n",
              "      <td>S</td>\n",
              "      <td>NaN</td>\n",
              "      <td>Masters of Business Administration</td>\n",
              "      <td>12/4/2007</td>\n",
              "      <td>Level 2</td>\n",
              "      <td>Level 2</td>\n",
              "      <td>3.0</td>\n",
              "      <td>Confirmation</td>\n",
              "      <td>M</td>\n",
              "      <td>6/23/1977</td>\n",
              "      <td>4.0</td>\n",
              "      <td>1.0</td>\n",
              "      <td>97352.0</td>\n",
              "      <td>3.0</td>\n",
              "      <td>97352.0</td>\n",
              "      <td>3.0</td>\n",
              "    </tr>\n",
              "    <tr>\n",
              "      <th>...</th>\n",
              "      <td>...</td>\n",
              "      <td>...</td>\n",
              "      <td>...</td>\n",
              "      <td>...</td>\n",
              "      <td>...</td>\n",
              "      <td>...</td>\n",
              "      <td>...</td>\n",
              "      <td>...</td>\n",
              "      <td>...</td>\n",
              "      <td>...</td>\n",
              "      <td>...</td>\n",
              "      <td>...</td>\n",
              "      <td>...</td>\n",
              "      <td>...</td>\n",
              "      <td>...</td>\n",
              "      <td>...</td>\n",
              "      <td>...</td>\n",
              "      <td>...</td>\n",
              "      <td>...</td>\n",
              "      <td>...</td>\n",
              "      <td>...</td>\n",
              "      <td>...</td>\n",
              "    </tr>\n",
              "    <tr>\n",
              "      <th>5040</th>\n",
              "      <td>FIN1014568</td>\n",
              "      <td>691008</td>\n",
              "      <td>1/1/2009</td>\n",
              "      <td>691601.0</td>\n",
              "      <td>F</td>\n",
              "      <td>5/21/1966</td>\n",
              "      <td>M</td>\n",
              "      <td>Others</td>\n",
              "      <td>Graduate</td>\n",
              "      <td>12/2/2008</td>\n",
              "      <td>Level 2</td>\n",
              "      <td>Level 2</td>\n",
              "      <td>3.0</td>\n",
              "      <td>Probation</td>\n",
              "      <td>M</td>\n",
              "      <td>5/27/1978</td>\n",
              "      <td>0.0</td>\n",
              "      <td>0.0</td>\n",
              "      <td>0.0</td>\n",
              "      <td>0.0</td>\n",
              "      <td>0.0</td>\n",
              "      <td>0.0</td>\n",
              "    </tr>\n",
              "    <tr>\n",
              "      <th>5041</th>\n",
              "      <td>FIN1014569</td>\n",
              "      <td>691008</td>\n",
              "      <td>1/1/2009</td>\n",
              "      <td>691601.0</td>\n",
              "      <td>M</td>\n",
              "      <td>12/2/1949</td>\n",
              "      <td>M</td>\n",
              "      <td>Others</td>\n",
              "      <td>Graduate</td>\n",
              "      <td>12/2/2008</td>\n",
              "      <td>Level 2</td>\n",
              "      <td>Level 2</td>\n",
              "      <td>3.0</td>\n",
              "      <td>Probation</td>\n",
              "      <td>M</td>\n",
              "      <td>5/27/1978</td>\n",
              "      <td>0.0</td>\n",
              "      <td>0.0</td>\n",
              "      <td>0.0</td>\n",
              "      <td>0.0</td>\n",
              "      <td>0.0</td>\n",
              "      <td>0.0</td>\n",
              "    </tr>\n",
              "    <tr>\n",
              "      <th>5042</th>\n",
              "      <td>FIN1014570</td>\n",
              "      <td>691008</td>\n",
              "      <td>1/1/2009</td>\n",
              "      <td>691005.0</td>\n",
              "      <td>M</td>\n",
              "      <td>5/20/1977</td>\n",
              "      <td>M</td>\n",
              "      <td>Business</td>\n",
              "      <td>Class XII</td>\n",
              "      <td>12/2/2008</td>\n",
              "      <td>Level 2</td>\n",
              "      <td>Level 2</td>\n",
              "      <td>3.0</td>\n",
              "      <td>Probation</td>\n",
              "      <td>M</td>\n",
              "      <td>5/27/1978</td>\n",
              "      <td>0.0</td>\n",
              "      <td>0.0</td>\n",
              "      <td>0.0</td>\n",
              "      <td>0.0</td>\n",
              "      <td>0.0</td>\n",
              "      <td>0.0</td>\n",
              "    </tr>\n",
              "    <tr>\n",
              "      <th>5043</th>\n",
              "      <td>FIN1014571</td>\n",
              "      <td>208001</td>\n",
              "      <td>1/1/2009</td>\n",
              "      <td>208022.0</td>\n",
              "      <td>M</td>\n",
              "      <td>7/22/1985</td>\n",
              "      <td>M</td>\n",
              "      <td>NaN</td>\n",
              "      <td>Graduate</td>\n",
              "      <td>9/25/2008</td>\n",
              "      <td>Level 2</td>\n",
              "      <td>Level 2</td>\n",
              "      <td>3.0</td>\n",
              "      <td>Probation</td>\n",
              "      <td>M</td>\n",
              "      <td>6/26/1978</td>\n",
              "      <td>4.0</td>\n",
              "      <td>1.0</td>\n",
              "      <td>15347.0</td>\n",
              "      <td>1.0</td>\n",
              "      <td>15347.0</td>\n",
              "      <td>1.0</td>\n",
              "    </tr>\n",
              "    <tr>\n",
              "      <th>5044</th>\n",
              "      <td>FIN1014572</td>\n",
              "      <td>122002</td>\n",
              "      <td>1/1/2009</td>\n",
              "      <td>122001.0</td>\n",
              "      <td>M</td>\n",
              "      <td>5/12/1985</td>\n",
              "      <td>M</td>\n",
              "      <td>NaN</td>\n",
              "      <td>Graduate</td>\n",
              "      <td>12/19/2008</td>\n",
              "      <td>Level 2</td>\n",
              "      <td>Level 2</td>\n",
              "      <td>3.0</td>\n",
              "      <td>Probation</td>\n",
              "      <td>M</td>\n",
              "      <td>12/29/1983</td>\n",
              "      <td>0.0</td>\n",
              "      <td>0.0</td>\n",
              "      <td>0.0</td>\n",
              "      <td>0.0</td>\n",
              "      <td>0.0</td>\n",
              "      <td>0.0</td>\n",
              "    </tr>\n",
              "  </tbody>\n",
              "</table>\n",
              "<p>5045 rows × 22 columns</p>\n",
              "</div>"
            ],
            "text/plain": [
              "              ID  Office_PIN  ... Manager_Business2  Manager_Num_Products2\n",
              "0     FIN1009528      284001  ...               0.0                    0.0\n",
              "1     FIN1009529      800001  ...               0.0                    0.0\n",
              "2     FIN1009530      800001  ...               NaN                    NaN\n",
              "3     FIN1009531      800001  ...               NaN                    NaN\n",
              "4     FIN1009532      533101  ...           97352.0                    3.0\n",
              "...          ...         ...  ...               ...                    ...\n",
              "5040  FIN1014568      691008  ...               0.0                    0.0\n",
              "5041  FIN1014569      691008  ...               0.0                    0.0\n",
              "5042  FIN1014570      691008  ...               0.0                    0.0\n",
              "5043  FIN1014571      208001  ...           15347.0                    1.0\n",
              "5044  FIN1014572      122002  ...               0.0                    0.0\n",
              "\n",
              "[5045 rows x 22 columns]"
            ]
          },
          "metadata": {
            "tags": []
          },
          "execution_count": 4
        }
      ]
    },
    {
      "cell_type": "code",
      "metadata": {
        "colab": {
          "base_uri": "https://localhost:8080/"
        },
        "id": "8438c8be",
        "outputId": "049ed8f0-9306-408c-a606-60b820f8725c"
      },
      "source": [
        "d_train.shape"
      ],
      "id": "8438c8be",
      "execution_count": 5,
      "outputs": [
        {
          "output_type": "execute_result",
          "data": {
            "text/plain": [
              "(9527, 23)"
            ]
          },
          "metadata": {
            "tags": []
          },
          "execution_count": 5
        }
      ]
    },
    {
      "cell_type": "code",
      "metadata": {
        "colab": {
          "base_uri": "https://localhost:8080/"
        },
        "id": "9e33ed75",
        "outputId": "78f6cc59-84e3-41ee-c032-1d7c101b6a20"
      },
      "source": [
        "d_test.shape"
      ],
      "id": "9e33ed75",
      "execution_count": 6,
      "outputs": [
        {
          "output_type": "execute_result",
          "data": {
            "text/plain": [
              "(5045, 22)"
            ]
          },
          "metadata": {
            "tags": []
          },
          "execution_count": 6
        }
      ]
    },
    {
      "cell_type": "code",
      "metadata": {
        "colab": {
          "base_uri": "https://localhost:8080/"
        },
        "id": "8c6c8c5f",
        "outputId": "9fe9b3a3-2b79-472c-a738-8504a64e6233"
      },
      "source": [
        "d_train.dtypes"
      ],
      "id": "8c6c8c5f",
      "execution_count": 7,
      "outputs": [
        {
          "output_type": "execute_result",
          "data": {
            "text/plain": [
              "ID                              object\n",
              "Office_PIN                       int64\n",
              "Application_Receipt_Date        object\n",
              "Applicant_City_PIN             float64\n",
              "Applicant_Gender                object\n",
              "Applicant_BirthDate             object\n",
              "Applicant_Marital_Status        object\n",
              "Applicant_Occupation            object\n",
              "Applicant_Qualification         object\n",
              "Manager_DOJ                     object\n",
              "Manager_Joining_Designation     object\n",
              "Manager_Current_Designation     object\n",
              "Manager_Grade                  float64\n",
              "Manager_Status                  object\n",
              "Manager_Gender                  object\n",
              "Manager_DoB                     object\n",
              "Manager_Num_Application        float64\n",
              "Manager_Num_Coded              float64\n",
              "Manager_Business               float64\n",
              "Manager_Num_Products           float64\n",
              "Manager_Business2              float64\n",
              "Manager_Num_Products2          float64\n",
              "Business_Sourced                 int64\n",
              "dtype: object"
            ]
          },
          "metadata": {
            "tags": []
          },
          "execution_count": 7
        }
      ]
    },
    {
      "cell_type": "code",
      "metadata": {
        "colab": {
          "base_uri": "https://localhost:8080/"
        },
        "id": "45057b75",
        "outputId": "81bf53a7-46df-40d4-d6d7-c756e7dad167"
      },
      "source": [
        "d_train.columns"
      ],
      "id": "45057b75",
      "execution_count": 8,
      "outputs": [
        {
          "output_type": "execute_result",
          "data": {
            "text/plain": [
              "Index(['ID', 'Office_PIN', 'Application_Receipt_Date', 'Applicant_City_PIN',\n",
              "       'Applicant_Gender', 'Applicant_BirthDate', 'Applicant_Marital_Status',\n",
              "       'Applicant_Occupation', 'Applicant_Qualification', 'Manager_DOJ',\n",
              "       'Manager_Joining_Designation', 'Manager_Current_Designation',\n",
              "       'Manager_Grade', 'Manager_Status', 'Manager_Gender', 'Manager_DoB',\n",
              "       'Manager_Num_Application', 'Manager_Num_Coded', 'Manager_Business',\n",
              "       'Manager_Num_Products', 'Manager_Business2', 'Manager_Num_Products2',\n",
              "       'Business_Sourced'],\n",
              "      dtype='object')"
            ]
          },
          "metadata": {
            "tags": []
          },
          "execution_count": 8
        }
      ]
    },
    {
      "cell_type": "code",
      "metadata": {
        "colab": {
          "base_uri": "https://localhost:8080/"
        },
        "id": "2bdb134f",
        "outputId": "95e9600a-befc-4c0d-bbc8-0c4911eaeae3"
      },
      "source": [
        "d_train.describe"
      ],
      "id": "2bdb134f",
      "execution_count": 9,
      "outputs": [
        {
          "output_type": "execute_result",
          "data": {
            "text/plain": [
              "<bound method NDFrame.describe of               ID  Office_PIN  ... Manager_Num_Products2  Business_Sourced\n",
              "0     FIN1000001      842001  ...                  28.0                 0\n",
              "1     FIN1000002      842001  ...                  28.0                 1\n",
              "2     FIN1000003      800001  ...                  24.0                 0\n",
              "3     FIN1000004      814112  ...                  22.0                 0\n",
              "4     FIN1000005      814112  ...                  17.0                 0\n",
              "...          ...         ...  ...                   ...               ...\n",
              "9522  FIN1009523      160017  ...                   0.0                 0\n",
              "9523  FIN1009524      848101  ...                   NaN                 0\n",
              "9524  FIN1009525      753012  ...                   8.0                 0\n",
              "9525  FIN1009526      575003  ...                   0.0                 0\n",
              "9526  FIN1009527      411006  ...                   NaN                 0\n",
              "\n",
              "[9527 rows x 23 columns]>"
            ]
          },
          "metadata": {
            "tags": []
          },
          "execution_count": 9
        }
      ]
    },
    {
      "cell_type": "code",
      "metadata": {
        "id": "vzAGdBu0Yg3X"
      },
      "source": [
        "d_train['Applicant_BirthDate']=pd.to_numeric(pd.to_datetime(d_train['Application_Receipt_Date'],format='%m/%d/%Y'))\n",
        "d_train['Application_Receipt_Date']=pd.to_numeric(pd.to_datetime(d_train['Application_Receipt_Date'],format='%m/%d/%Y'))\n",
        "d_train['Manager_DOJ']=pd.to_numeric(pd.to_datetime(d_train['Manager_DOJ'],format='%m/%d/%Y'))\n",
        "d_train['Manager_DoB']=pd.to_numeric(pd.to_datetime(d_train['Manager_DoB'],format='%m/%d/%Y'))"
      ],
      "id": "vzAGdBu0Yg3X",
      "execution_count": 10,
      "outputs": []
    },
    {
      "cell_type": "code",
      "metadata": {
        "id": "ad2caee5"
      },
      "source": [
        "d_test['Applicant_BirthDate']=pd.to_numeric(pd.to_datetime(d_test['Application_Receipt_Date'],format='%m/%d/%Y'))\n",
        "d_test['Application_Receipt_Date']=pd.to_numeric(pd.to_datetime(d_test['Application_Receipt_Date'],format='%m/%d/%Y'))\n",
        "d_test['Manager_DOJ']=pd.to_numeric(pd.to_datetime(d_test['Manager_DOJ'],format='%m/%d/%Y'))\n",
        "d_test['Manager_DoB']=pd.to_numeric(pd.to_datetime(d_test['Manager_DoB'],format='%m/%d/%Y'))"
      ],
      "id": "ad2caee5",
      "execution_count": 11,
      "outputs": []
    },
    {
      "cell_type": "code",
      "metadata": {
        "colab": {
          "base_uri": "https://localhost:8080/"
        },
        "id": "b4469f44",
        "outputId": "824d3521-8841-49fb-b662-ae775df3bd06"
      },
      "source": [
        "d_train.dtypes"
      ],
      "id": "b4469f44",
      "execution_count": 12,
      "outputs": [
        {
          "output_type": "execute_result",
          "data": {
            "text/plain": [
              "ID                              object\n",
              "Office_PIN                       int64\n",
              "Application_Receipt_Date         int64\n",
              "Applicant_City_PIN             float64\n",
              "Applicant_Gender                object\n",
              "Applicant_BirthDate              int64\n",
              "Applicant_Marital_Status        object\n",
              "Applicant_Occupation            object\n",
              "Applicant_Qualification         object\n",
              "Manager_DOJ                      int64\n",
              "Manager_Joining_Designation     object\n",
              "Manager_Current_Designation     object\n",
              "Manager_Grade                  float64\n",
              "Manager_Status                  object\n",
              "Manager_Gender                  object\n",
              "Manager_DoB                      int64\n",
              "Manager_Num_Application        float64\n",
              "Manager_Num_Coded              float64\n",
              "Manager_Business               float64\n",
              "Manager_Num_Products           float64\n",
              "Manager_Business2              float64\n",
              "Manager_Num_Products2          float64\n",
              "Business_Sourced                 int64\n",
              "dtype: object"
            ]
          },
          "metadata": {
            "tags": []
          },
          "execution_count": 12
        }
      ]
    },
    {
      "cell_type": "code",
      "metadata": {
        "id": "b066a2b9"
      },
      "source": [
        "new_train = d_train.copy()"
      ],
      "id": "b066a2b9",
      "execution_count": 13,
      "outputs": []
    },
    {
      "cell_type": "code",
      "metadata": {
        "colab": {
          "base_uri": "https://localhost:8080/",
          "height": 443
        },
        "id": "9b2df73f",
        "outputId": "5d4a67e8-09cb-4479-fd43-18097e66de9d"
      },
      "source": [
        "new_train"
      ],
      "id": "9b2df73f",
      "execution_count": 14,
      "outputs": [
        {
          "output_type": "execute_result",
          "data": {
            "text/html": [
              "<div>\n",
              "<style scoped>\n",
              "    .dataframe tbody tr th:only-of-type {\n",
              "        vertical-align: middle;\n",
              "    }\n",
              "\n",
              "    .dataframe tbody tr th {\n",
              "        vertical-align: top;\n",
              "    }\n",
              "\n",
              "    .dataframe thead th {\n",
              "        text-align: right;\n",
              "    }\n",
              "</style>\n",
              "<table border=\"1\" class=\"dataframe\">\n",
              "  <thead>\n",
              "    <tr style=\"text-align: right;\">\n",
              "      <th></th>\n",
              "      <th>ID</th>\n",
              "      <th>Office_PIN</th>\n",
              "      <th>Application_Receipt_Date</th>\n",
              "      <th>Applicant_City_PIN</th>\n",
              "      <th>Applicant_Gender</th>\n",
              "      <th>Applicant_BirthDate</th>\n",
              "      <th>Applicant_Marital_Status</th>\n",
              "      <th>Applicant_Occupation</th>\n",
              "      <th>Applicant_Qualification</th>\n",
              "      <th>Manager_DOJ</th>\n",
              "      <th>Manager_Joining_Designation</th>\n",
              "      <th>Manager_Current_Designation</th>\n",
              "      <th>Manager_Grade</th>\n",
              "      <th>Manager_Status</th>\n",
              "      <th>Manager_Gender</th>\n",
              "      <th>Manager_DoB</th>\n",
              "      <th>Manager_Num_Application</th>\n",
              "      <th>Manager_Num_Coded</th>\n",
              "      <th>Manager_Business</th>\n",
              "      <th>Manager_Num_Products</th>\n",
              "      <th>Manager_Business2</th>\n",
              "      <th>Manager_Num_Products2</th>\n",
              "      <th>Business_Sourced</th>\n",
              "    </tr>\n",
              "  </thead>\n",
              "  <tbody>\n",
              "    <tr>\n",
              "      <th>0</th>\n",
              "      <td>FIN1000001</td>\n",
              "      <td>842001</td>\n",
              "      <td>1176681600000000000</td>\n",
              "      <td>844120.0</td>\n",
              "      <td>M</td>\n",
              "      <td>1176681600000000000</td>\n",
              "      <td>M</td>\n",
              "      <td>Others</td>\n",
              "      <td>Graduate</td>\n",
              "      <td>1131580800000000000</td>\n",
              "      <td>Level 1</td>\n",
              "      <td>Level 2</td>\n",
              "      <td>3.0</td>\n",
              "      <td>Confirmation</td>\n",
              "      <td>M</td>\n",
              "      <td>256521600000000000</td>\n",
              "      <td>2.0</td>\n",
              "      <td>1.0</td>\n",
              "      <td>335249.0</td>\n",
              "      <td>28.0</td>\n",
              "      <td>335249.0</td>\n",
              "      <td>28.0</td>\n",
              "      <td>0</td>\n",
              "    </tr>\n",
              "    <tr>\n",
              "      <th>1</th>\n",
              "      <td>FIN1000002</td>\n",
              "      <td>842001</td>\n",
              "      <td>1176681600000000000</td>\n",
              "      <td>844111.0</td>\n",
              "      <td>M</td>\n",
              "      <td>1176681600000000000</td>\n",
              "      <td>S</td>\n",
              "      <td>Others</td>\n",
              "      <td>Class XII</td>\n",
              "      <td>1131580800000000000</td>\n",
              "      <td>Level 1</td>\n",
              "      <td>Level 2</td>\n",
              "      <td>3.0</td>\n",
              "      <td>Confirmation</td>\n",
              "      <td>M</td>\n",
              "      <td>256521600000000000</td>\n",
              "      <td>2.0</td>\n",
              "      <td>1.0</td>\n",
              "      <td>335249.0</td>\n",
              "      <td>28.0</td>\n",
              "      <td>335249.0</td>\n",
              "      <td>28.0</td>\n",
              "      <td>1</td>\n",
              "    </tr>\n",
              "    <tr>\n",
              "      <th>2</th>\n",
              "      <td>FIN1000003</td>\n",
              "      <td>800001</td>\n",
              "      <td>1176681600000000000</td>\n",
              "      <td>844101.0</td>\n",
              "      <td>M</td>\n",
              "      <td>1176681600000000000</td>\n",
              "      <td>M</td>\n",
              "      <td>Business</td>\n",
              "      <td>Class XII</td>\n",
              "      <td>1148688000000000000</td>\n",
              "      <td>Level 1</td>\n",
              "      <td>Level 1</td>\n",
              "      <td>2.0</td>\n",
              "      <td>Confirmation</td>\n",
              "      <td>M</td>\n",
              "      <td>-26265600000000000</td>\n",
              "      <td>0.0</td>\n",
              "      <td>0.0</td>\n",
              "      <td>357184.0</td>\n",
              "      <td>24.0</td>\n",
              "      <td>357184.0</td>\n",
              "      <td>24.0</td>\n",
              "      <td>0</td>\n",
              "    </tr>\n",
              "    <tr>\n",
              "      <th>3</th>\n",
              "      <td>FIN1000004</td>\n",
              "      <td>814112</td>\n",
              "      <td>1176681600000000000</td>\n",
              "      <td>814112.0</td>\n",
              "      <td>M</td>\n",
              "      <td>1176681600000000000</td>\n",
              "      <td>S</td>\n",
              "      <td>Salaried</td>\n",
              "      <td>Class XII</td>\n",
              "      <td>1061424000000000000</td>\n",
              "      <td>Level 1</td>\n",
              "      <td>Level 3</td>\n",
              "      <td>4.0</td>\n",
              "      <td>Confirmation</td>\n",
              "      <td>F</td>\n",
              "      <td>271900800000000000</td>\n",
              "      <td>0.0</td>\n",
              "      <td>0.0</td>\n",
              "      <td>318356.0</td>\n",
              "      <td>22.0</td>\n",
              "      <td>318356.0</td>\n",
              "      <td>22.0</td>\n",
              "      <td>0</td>\n",
              "    </tr>\n",
              "    <tr>\n",
              "      <th>4</th>\n",
              "      <td>FIN1000005</td>\n",
              "      <td>814112</td>\n",
              "      <td>1176681600000000000</td>\n",
              "      <td>815351.0</td>\n",
              "      <td>M</td>\n",
              "      <td>1176681600000000000</td>\n",
              "      <td>M</td>\n",
              "      <td>Others</td>\n",
              "      <td>Class XII</td>\n",
              "      <td>1147046400000000000</td>\n",
              "      <td>Level 1</td>\n",
              "      <td>Level 1</td>\n",
              "      <td>2.0</td>\n",
              "      <td>Confirmation</td>\n",
              "      <td>M</td>\n",
              "      <td>34732800000000000</td>\n",
              "      <td>2.0</td>\n",
              "      <td>1.0</td>\n",
              "      <td>230402.0</td>\n",
              "      <td>17.0</td>\n",
              "      <td>230402.0</td>\n",
              "      <td>17.0</td>\n",
              "      <td>0</td>\n",
              "    </tr>\n",
              "    <tr>\n",
              "      <th>...</th>\n",
              "      <td>...</td>\n",
              "      <td>...</td>\n",
              "      <td>...</td>\n",
              "      <td>...</td>\n",
              "      <td>...</td>\n",
              "      <td>...</td>\n",
              "      <td>...</td>\n",
              "      <td>...</td>\n",
              "      <td>...</td>\n",
              "      <td>...</td>\n",
              "      <td>...</td>\n",
              "      <td>...</td>\n",
              "      <td>...</td>\n",
              "      <td>...</td>\n",
              "      <td>...</td>\n",
              "      <td>...</td>\n",
              "      <td>...</td>\n",
              "      <td>...</td>\n",
              "      <td>...</td>\n",
              "      <td>...</td>\n",
              "      <td>...</td>\n",
              "      <td>...</td>\n",
              "      <td>...</td>\n",
              "    </tr>\n",
              "    <tr>\n",
              "      <th>9522</th>\n",
              "      <td>FIN1009523</td>\n",
              "      <td>160017</td>\n",
              "      <td>1214870400000000000</td>\n",
              "      <td>160032.0</td>\n",
              "      <td>M</td>\n",
              "      <td>1214870400000000000</td>\n",
              "      <td>M</td>\n",
              "      <td>Salaried</td>\n",
              "      <td>Graduate</td>\n",
              "      <td>1209945600000000000</td>\n",
              "      <td>Level 2</td>\n",
              "      <td>Level 2</td>\n",
              "      <td>3.0</td>\n",
              "      <td>Probation</td>\n",
              "      <td>M</td>\n",
              "      <td>-83548800000000000</td>\n",
              "      <td>0.0</td>\n",
              "      <td>0.0</td>\n",
              "      <td>0.0</td>\n",
              "      <td>0.0</td>\n",
              "      <td>0.0</td>\n",
              "      <td>0.0</td>\n",
              "      <td>0</td>\n",
              "    </tr>\n",
              "    <tr>\n",
              "      <th>9523</th>\n",
              "      <td>FIN1009524</td>\n",
              "      <td>848101</td>\n",
              "      <td>1214870400000000000</td>\n",
              "      <td>848302.0</td>\n",
              "      <td>M</td>\n",
              "      <td>1214870400000000000</td>\n",
              "      <td>M</td>\n",
              "      <td>NaN</td>\n",
              "      <td>Graduate</td>\n",
              "      <td>-9223372036854775808</td>\n",
              "      <td>NaN</td>\n",
              "      <td>NaN</td>\n",
              "      <td>NaN</td>\n",
              "      <td>NaN</td>\n",
              "      <td>NaN</td>\n",
              "      <td>-9223372036854775808</td>\n",
              "      <td>NaN</td>\n",
              "      <td>NaN</td>\n",
              "      <td>NaN</td>\n",
              "      <td>NaN</td>\n",
              "      <td>NaN</td>\n",
              "      <td>NaN</td>\n",
              "      <td>0</td>\n",
              "    </tr>\n",
              "    <tr>\n",
              "      <th>9524</th>\n",
              "      <td>FIN1009525</td>\n",
              "      <td>753012</td>\n",
              "      <td>1214870400000000000</td>\n",
              "      <td>753014.0</td>\n",
              "      <td>F</td>\n",
              "      <td>1214870400000000000</td>\n",
              "      <td>M</td>\n",
              "      <td>Salaried</td>\n",
              "      <td>Graduate</td>\n",
              "      <td>1156204800000000000</td>\n",
              "      <td>Level 2</td>\n",
              "      <td>Level 2</td>\n",
              "      <td>3.0</td>\n",
              "      <td>Confirmation</td>\n",
              "      <td>M</td>\n",
              "      <td>17452800000000000</td>\n",
              "      <td>0.0</td>\n",
              "      <td>0.0</td>\n",
              "      <td>316126.0</td>\n",
              "      <td>9.0</td>\n",
              "      <td>305775.0</td>\n",
              "      <td>8.0</td>\n",
              "      <td>0</td>\n",
              "    </tr>\n",
              "    <tr>\n",
              "      <th>9525</th>\n",
              "      <td>FIN1009526</td>\n",
              "      <td>575003</td>\n",
              "      <td>1214870400000000000</td>\n",
              "      <td>571248.0</td>\n",
              "      <td>M</td>\n",
              "      <td>1214870400000000000</td>\n",
              "      <td>S</td>\n",
              "      <td>Salaried</td>\n",
              "      <td>Class XII</td>\n",
              "      <td>1212624000000000000</td>\n",
              "      <td>Level 3</td>\n",
              "      <td>Level 3</td>\n",
              "      <td>4.0</td>\n",
              "      <td>Probation</td>\n",
              "      <td>M</td>\n",
              "      <td>212284800000000000</td>\n",
              "      <td>0.0</td>\n",
              "      <td>0.0</td>\n",
              "      <td>0.0</td>\n",
              "      <td>0.0</td>\n",
              "      <td>0.0</td>\n",
              "      <td>0.0</td>\n",
              "      <td>0</td>\n",
              "    </tr>\n",
              "    <tr>\n",
              "      <th>9526</th>\n",
              "      <td>FIN1009527</td>\n",
              "      <td>411006</td>\n",
              "      <td>1214870400000000000</td>\n",
              "      <td>411006.0</td>\n",
              "      <td>F</td>\n",
              "      <td>1214870400000000000</td>\n",
              "      <td>M</td>\n",
              "      <td>Others</td>\n",
              "      <td>Graduate</td>\n",
              "      <td>-9223372036854775808</td>\n",
              "      <td>NaN</td>\n",
              "      <td>NaN</td>\n",
              "      <td>NaN</td>\n",
              "      <td>NaN</td>\n",
              "      <td>NaN</td>\n",
              "      <td>-9223372036854775808</td>\n",
              "      <td>NaN</td>\n",
              "      <td>NaN</td>\n",
              "      <td>NaN</td>\n",
              "      <td>NaN</td>\n",
              "      <td>NaN</td>\n",
              "      <td>NaN</td>\n",
              "      <td>0</td>\n",
              "    </tr>\n",
              "  </tbody>\n",
              "</table>\n",
              "<p>9527 rows × 23 columns</p>\n",
              "</div>"
            ],
            "text/plain": [
              "              ID  Office_PIN  ...  Manager_Num_Products2  Business_Sourced\n",
              "0     FIN1000001      842001  ...                   28.0                 0\n",
              "1     FIN1000002      842001  ...                   28.0                 1\n",
              "2     FIN1000003      800001  ...                   24.0                 0\n",
              "3     FIN1000004      814112  ...                   22.0                 0\n",
              "4     FIN1000005      814112  ...                   17.0                 0\n",
              "...          ...         ...  ...                    ...               ...\n",
              "9522  FIN1009523      160017  ...                    0.0                 0\n",
              "9523  FIN1009524      848101  ...                    NaN                 0\n",
              "9524  FIN1009525      753012  ...                    8.0                 0\n",
              "9525  FIN1009526      575003  ...                    0.0                 0\n",
              "9526  FIN1009527      411006  ...                    NaN                 0\n",
              "\n",
              "[9527 rows x 23 columns]"
            ]
          },
          "metadata": {
            "tags": []
          },
          "execution_count": 14
        }
      ]
    },
    {
      "cell_type": "code",
      "metadata": {
        "id": "d15ec936"
      },
      "source": [
        "new_test = d_test.copy()"
      ],
      "id": "d15ec936",
      "execution_count": 15,
      "outputs": []
    },
    {
      "cell_type": "code",
      "metadata": {
        "id": "fb536986"
      },
      "source": [
        "new_train = new_train.drop(['ID','Applicant_Gender','Applicant_Marital_Status','Applicant_Occupation','Manager_Joining_Designation','Applicant_Qualification','Manager_Status','Manager_Gender'],axis=1)"
      ],
      "id": "fb536986",
      "execution_count": 16,
      "outputs": []
    },
    {
      "cell_type": "code",
      "metadata": {
        "colab": {
          "base_uri": "https://localhost:8080/"
        },
        "id": "b4cc65f1",
        "outputId": "6fef4b12-e306-4459-f70f-6bef1a004e15"
      },
      "source": [
        "new_train.dtypes"
      ],
      "id": "b4cc65f1",
      "execution_count": 17,
      "outputs": [
        {
          "output_type": "execute_result",
          "data": {
            "text/plain": [
              "Office_PIN                       int64\n",
              "Application_Receipt_Date         int64\n",
              "Applicant_City_PIN             float64\n",
              "Applicant_BirthDate              int64\n",
              "Manager_DOJ                      int64\n",
              "Manager_Current_Designation     object\n",
              "Manager_Grade                  float64\n",
              "Manager_DoB                      int64\n",
              "Manager_Num_Application        float64\n",
              "Manager_Num_Coded              float64\n",
              "Manager_Business               float64\n",
              "Manager_Num_Products           float64\n",
              "Manager_Business2              float64\n",
              "Manager_Num_Products2          float64\n",
              "Business_Sourced                 int64\n",
              "dtype: object"
            ]
          },
          "metadata": {
            "tags": []
          },
          "execution_count": 17
        }
      ]
    },
    {
      "cell_type": "code",
      "metadata": {
        "id": "0c84b9ee"
      },
      "source": [
        "new_train['Manager_Current_Designation'] = new_train['Manager_Current_Designation'].fillna('Level 1')"
      ],
      "id": "0c84b9ee",
      "execution_count": 18,
      "outputs": []
    },
    {
      "cell_type": "code",
      "metadata": {
        "id": "729858fe"
      },
      "source": [
        "a = {'Level 1' : 1,'Level 2': 2,'Level 3': 3, 'Level 4' : 4, 'Level 5': 5}"
      ],
      "id": "729858fe",
      "execution_count": 19,
      "outputs": []
    },
    {
      "cell_type": "code",
      "metadata": {
        "id": "8316ee02"
      },
      "source": [
        "new_train['Manager_Current_Designation'] = [a[i] for i in new_train['Manager_Current_Designation']] "
      ],
      "id": "8316ee02",
      "execution_count": 20,
      "outputs": []
    },
    {
      "cell_type": "code",
      "metadata": {
        "colab": {
          "base_uri": "https://localhost:8080/"
        },
        "id": "6fe1a209",
        "outputId": "bf2b830c-74cb-4e75-8b80-ceb0b6516533"
      },
      "source": [
        "new_train.dtypes"
      ],
      "id": "6fe1a209",
      "execution_count": 21,
      "outputs": [
        {
          "output_type": "execute_result",
          "data": {
            "text/plain": [
              "Office_PIN                       int64\n",
              "Application_Receipt_Date         int64\n",
              "Applicant_City_PIN             float64\n",
              "Applicant_BirthDate              int64\n",
              "Manager_DOJ                      int64\n",
              "Manager_Current_Designation      int64\n",
              "Manager_Grade                  float64\n",
              "Manager_DoB                      int64\n",
              "Manager_Num_Application        float64\n",
              "Manager_Num_Coded              float64\n",
              "Manager_Business               float64\n",
              "Manager_Num_Products           float64\n",
              "Manager_Business2              float64\n",
              "Manager_Num_Products2          float64\n",
              "Business_Sourced                 int64\n",
              "dtype: object"
            ]
          },
          "metadata": {
            "tags": []
          },
          "execution_count": 21
        }
      ]
    },
    {
      "cell_type": "code",
      "metadata": {
        "id": "8eccc66d"
      },
      "source": [
        "#new_train['Manager_Current_Designation']"
      ],
      "id": "8eccc66d",
      "execution_count": 22,
      "outputs": []
    },
    {
      "cell_type": "code",
      "metadata": {
        "colab": {
          "base_uri": "https://localhost:8080/"
        },
        "id": "fa5edb03",
        "outputId": "59c26188-b786-4a8d-b541-c6ed44b27e3d"
      },
      "source": [
        "new_train.isnull().sum()"
      ],
      "id": "fa5edb03",
      "execution_count": 23,
      "outputs": [
        {
          "output_type": "execute_result",
          "data": {
            "text/plain": [
              "Office_PIN                       0\n",
              "Application_Receipt_Date         0\n",
              "Applicant_City_PIN              97\n",
              "Applicant_BirthDate              0\n",
              "Manager_DOJ                      0\n",
              "Manager_Current_Designation      0\n",
              "Manager_Grade                  683\n",
              "Manager_DoB                      0\n",
              "Manager_Num_Application        683\n",
              "Manager_Num_Coded              683\n",
              "Manager_Business               683\n",
              "Manager_Num_Products           683\n",
              "Manager_Business2              683\n",
              "Manager_Num_Products2          683\n",
              "Business_Sourced                 0\n",
              "dtype: int64"
            ]
          },
          "metadata": {
            "tags": []
          },
          "execution_count": 23
        }
      ]
    },
    {
      "cell_type": "code",
      "metadata": {
        "id": "a6021da5"
      },
      "source": [
        "new_train = new_train.dropna(subset=['Applicant_City_PIN','Manager_Grade','Manager_Num_Application','Manager_Num_Coded','Manager_Business','Manager_Num_Products'],axis=0)"
      ],
      "id": "a6021da5",
      "execution_count": 24,
      "outputs": []
    },
    {
      "cell_type": "code",
      "metadata": {
        "colab": {
          "base_uri": "https://localhost:8080/",
          "height": 443
        },
        "id": "ec595731",
        "outputId": "4f4741ba-ea52-426b-98f8-833865de2849"
      },
      "source": [
        "new_train"
      ],
      "id": "ec595731",
      "execution_count": 25,
      "outputs": [
        {
          "output_type": "execute_result",
          "data": {
            "text/html": [
              "<div>\n",
              "<style scoped>\n",
              "    .dataframe tbody tr th:only-of-type {\n",
              "        vertical-align: middle;\n",
              "    }\n",
              "\n",
              "    .dataframe tbody tr th {\n",
              "        vertical-align: top;\n",
              "    }\n",
              "\n",
              "    .dataframe thead th {\n",
              "        text-align: right;\n",
              "    }\n",
              "</style>\n",
              "<table border=\"1\" class=\"dataframe\">\n",
              "  <thead>\n",
              "    <tr style=\"text-align: right;\">\n",
              "      <th></th>\n",
              "      <th>Office_PIN</th>\n",
              "      <th>Application_Receipt_Date</th>\n",
              "      <th>Applicant_City_PIN</th>\n",
              "      <th>Applicant_BirthDate</th>\n",
              "      <th>Manager_DOJ</th>\n",
              "      <th>Manager_Current_Designation</th>\n",
              "      <th>Manager_Grade</th>\n",
              "      <th>Manager_DoB</th>\n",
              "      <th>Manager_Num_Application</th>\n",
              "      <th>Manager_Num_Coded</th>\n",
              "      <th>Manager_Business</th>\n",
              "      <th>Manager_Num_Products</th>\n",
              "      <th>Manager_Business2</th>\n",
              "      <th>Manager_Num_Products2</th>\n",
              "      <th>Business_Sourced</th>\n",
              "    </tr>\n",
              "  </thead>\n",
              "  <tbody>\n",
              "    <tr>\n",
              "      <th>0</th>\n",
              "      <td>842001</td>\n",
              "      <td>1176681600000000000</td>\n",
              "      <td>844120.0</td>\n",
              "      <td>1176681600000000000</td>\n",
              "      <td>1131580800000000000</td>\n",
              "      <td>2</td>\n",
              "      <td>3.0</td>\n",
              "      <td>256521600000000000</td>\n",
              "      <td>2.0</td>\n",
              "      <td>1.0</td>\n",
              "      <td>335249.0</td>\n",
              "      <td>28.0</td>\n",
              "      <td>335249.0</td>\n",
              "      <td>28.0</td>\n",
              "      <td>0</td>\n",
              "    </tr>\n",
              "    <tr>\n",
              "      <th>1</th>\n",
              "      <td>842001</td>\n",
              "      <td>1176681600000000000</td>\n",
              "      <td>844111.0</td>\n",
              "      <td>1176681600000000000</td>\n",
              "      <td>1131580800000000000</td>\n",
              "      <td>2</td>\n",
              "      <td>3.0</td>\n",
              "      <td>256521600000000000</td>\n",
              "      <td>2.0</td>\n",
              "      <td>1.0</td>\n",
              "      <td>335249.0</td>\n",
              "      <td>28.0</td>\n",
              "      <td>335249.0</td>\n",
              "      <td>28.0</td>\n",
              "      <td>1</td>\n",
              "    </tr>\n",
              "    <tr>\n",
              "      <th>2</th>\n",
              "      <td>800001</td>\n",
              "      <td>1176681600000000000</td>\n",
              "      <td>844101.0</td>\n",
              "      <td>1176681600000000000</td>\n",
              "      <td>1148688000000000000</td>\n",
              "      <td>1</td>\n",
              "      <td>2.0</td>\n",
              "      <td>-26265600000000000</td>\n",
              "      <td>0.0</td>\n",
              "      <td>0.0</td>\n",
              "      <td>357184.0</td>\n",
              "      <td>24.0</td>\n",
              "      <td>357184.0</td>\n",
              "      <td>24.0</td>\n",
              "      <td>0</td>\n",
              "    </tr>\n",
              "    <tr>\n",
              "      <th>3</th>\n",
              "      <td>814112</td>\n",
              "      <td>1176681600000000000</td>\n",
              "      <td>814112.0</td>\n",
              "      <td>1176681600000000000</td>\n",
              "      <td>1061424000000000000</td>\n",
              "      <td>3</td>\n",
              "      <td>4.0</td>\n",
              "      <td>271900800000000000</td>\n",
              "      <td>0.0</td>\n",
              "      <td>0.0</td>\n",
              "      <td>318356.0</td>\n",
              "      <td>22.0</td>\n",
              "      <td>318356.0</td>\n",
              "      <td>22.0</td>\n",
              "      <td>0</td>\n",
              "    </tr>\n",
              "    <tr>\n",
              "      <th>4</th>\n",
              "      <td>814112</td>\n",
              "      <td>1176681600000000000</td>\n",
              "      <td>815351.0</td>\n",
              "      <td>1176681600000000000</td>\n",
              "      <td>1147046400000000000</td>\n",
              "      <td>1</td>\n",
              "      <td>2.0</td>\n",
              "      <td>34732800000000000</td>\n",
              "      <td>2.0</td>\n",
              "      <td>1.0</td>\n",
              "      <td>230402.0</td>\n",
              "      <td>17.0</td>\n",
              "      <td>230402.0</td>\n",
              "      <td>17.0</td>\n",
              "      <td>0</td>\n",
              "    </tr>\n",
              "    <tr>\n",
              "      <th>...</th>\n",
              "      <td>...</td>\n",
              "      <td>...</td>\n",
              "      <td>...</td>\n",
              "      <td>...</td>\n",
              "      <td>...</td>\n",
              "      <td>...</td>\n",
              "      <td>...</td>\n",
              "      <td>...</td>\n",
              "      <td>...</td>\n",
              "      <td>...</td>\n",
              "      <td>...</td>\n",
              "      <td>...</td>\n",
              "      <td>...</td>\n",
              "      <td>...</td>\n",
              "      <td>...</td>\n",
              "    </tr>\n",
              "    <tr>\n",
              "      <th>9519</th>\n",
              "      <td>250001</td>\n",
              "      <td>1214870400000000000</td>\n",
              "      <td>250004.0</td>\n",
              "      <td>1214870400000000000</td>\n",
              "      <td>1151452800000000000</td>\n",
              "      <td>2</td>\n",
              "      <td>3.0</td>\n",
              "      <td>139449600000000000</td>\n",
              "      <td>1.0</td>\n",
              "      <td>1.0</td>\n",
              "      <td>55000.0</td>\n",
              "      <td>2.0</td>\n",
              "      <td>55000.0</td>\n",
              "      <td>2.0</td>\n",
              "      <td>0</td>\n",
              "    </tr>\n",
              "    <tr>\n",
              "      <th>9521</th>\n",
              "      <td>814112</td>\n",
              "      <td>1214870400000000000</td>\n",
              "      <td>816118.0</td>\n",
              "      <td>1214870400000000000</td>\n",
              "      <td>1159833600000000000</td>\n",
              "      <td>1</td>\n",
              "      <td>2.0</td>\n",
              "      <td>-450230400000000000</td>\n",
              "      <td>4.0</td>\n",
              "      <td>2.0</td>\n",
              "      <td>418339.0</td>\n",
              "      <td>13.0</td>\n",
              "      <td>418339.0</td>\n",
              "      <td>13.0</td>\n",
              "      <td>0</td>\n",
              "    </tr>\n",
              "    <tr>\n",
              "      <th>9522</th>\n",
              "      <td>160017</td>\n",
              "      <td>1214870400000000000</td>\n",
              "      <td>160032.0</td>\n",
              "      <td>1214870400000000000</td>\n",
              "      <td>1209945600000000000</td>\n",
              "      <td>2</td>\n",
              "      <td>3.0</td>\n",
              "      <td>-83548800000000000</td>\n",
              "      <td>0.0</td>\n",
              "      <td>0.0</td>\n",
              "      <td>0.0</td>\n",
              "      <td>0.0</td>\n",
              "      <td>0.0</td>\n",
              "      <td>0.0</td>\n",
              "      <td>0</td>\n",
              "    </tr>\n",
              "    <tr>\n",
              "      <th>9524</th>\n",
              "      <td>753012</td>\n",
              "      <td>1214870400000000000</td>\n",
              "      <td>753014.0</td>\n",
              "      <td>1214870400000000000</td>\n",
              "      <td>1156204800000000000</td>\n",
              "      <td>2</td>\n",
              "      <td>3.0</td>\n",
              "      <td>17452800000000000</td>\n",
              "      <td>0.0</td>\n",
              "      <td>0.0</td>\n",
              "      <td>316126.0</td>\n",
              "      <td>9.0</td>\n",
              "      <td>305775.0</td>\n",
              "      <td>8.0</td>\n",
              "      <td>0</td>\n",
              "    </tr>\n",
              "    <tr>\n",
              "      <th>9525</th>\n",
              "      <td>575003</td>\n",
              "      <td>1214870400000000000</td>\n",
              "      <td>571248.0</td>\n",
              "      <td>1214870400000000000</td>\n",
              "      <td>1212624000000000000</td>\n",
              "      <td>3</td>\n",
              "      <td>4.0</td>\n",
              "      <td>212284800000000000</td>\n",
              "      <td>0.0</td>\n",
              "      <td>0.0</td>\n",
              "      <td>0.0</td>\n",
              "      <td>0.0</td>\n",
              "      <td>0.0</td>\n",
              "      <td>0.0</td>\n",
              "      <td>0</td>\n",
              "    </tr>\n",
              "  </tbody>\n",
              "</table>\n",
              "<p>8764 rows × 15 columns</p>\n",
              "</div>"
            ],
            "text/plain": [
              "      Office_PIN  ...  Business_Sourced\n",
              "0         842001  ...                 0\n",
              "1         842001  ...                 1\n",
              "2         800001  ...                 0\n",
              "3         814112  ...                 0\n",
              "4         814112  ...                 0\n",
              "...          ...  ...               ...\n",
              "9519      250001  ...                 0\n",
              "9521      814112  ...                 0\n",
              "9522      160017  ...                 0\n",
              "9524      753012  ...                 0\n",
              "9525      575003  ...                 0\n",
              "\n",
              "[8764 rows x 15 columns]"
            ]
          },
          "metadata": {
            "tags": []
          },
          "execution_count": 25
        }
      ]
    },
    {
      "cell_type": "code",
      "metadata": {
        "colab": {
          "base_uri": "https://localhost:8080/"
        },
        "id": "7b3af777",
        "outputId": "97f28c39-adb0-41e9-b7ba-d925380e78a6"
      },
      "source": [
        "new_train.isnull().sum()"
      ],
      "id": "7b3af777",
      "execution_count": 26,
      "outputs": [
        {
          "output_type": "execute_result",
          "data": {
            "text/plain": [
              "Office_PIN                     0\n",
              "Application_Receipt_Date       0\n",
              "Applicant_City_PIN             0\n",
              "Applicant_BirthDate            0\n",
              "Manager_DOJ                    0\n",
              "Manager_Current_Designation    0\n",
              "Manager_Grade                  0\n",
              "Manager_DoB                    0\n",
              "Manager_Num_Application        0\n",
              "Manager_Num_Coded              0\n",
              "Manager_Business               0\n",
              "Manager_Num_Products           0\n",
              "Manager_Business2              0\n",
              "Manager_Num_Products2          0\n",
              "Business_Sourced               0\n",
              "dtype: int64"
            ]
          },
          "metadata": {
            "tags": []
          },
          "execution_count": 26
        }
      ]
    },
    {
      "cell_type": "code",
      "metadata": {
        "id": "24ef2b42"
      },
      "source": [
        "new_test = new_test.drop(['ID','Applicant_Gender','Applicant_Marital_Status','Applicant_Occupation','Applicant_Qualification','Manager_Joining_Designation','Manager_Status','Manager_Gender'],axis=1)"
      ],
      "id": "24ef2b42",
      "execution_count": 27,
      "outputs": []
    },
    {
      "cell_type": "code",
      "metadata": {
        "id": "AwzEECnESOII"
      },
      "source": [
        "#new_train = new_train.drop(['Office_PIN','Manager_Grade'],axis=1)"
      ],
      "id": "AwzEECnESOII",
      "execution_count": 28,
      "outputs": []
    },
    {
      "cell_type": "code",
      "metadata": {
        "id": "bfca0dec"
      },
      "source": [
        "new_test['Manager_Current_Designation'] = new_test['Manager_Current_Designation'].fillna('Level 0')"
      ],
      "id": "bfca0dec",
      "execution_count": 29,
      "outputs": []
    },
    {
      "cell_type": "code",
      "metadata": {
        "id": "9b43e2ab"
      },
      "source": [
        "b = {'Level 1' : 1,'Level 2': 2,'Level 3': 3, 'Level 4' : 4, 'Level 5': 5, 'Level 0': 0}"
      ],
      "id": "9b43e2ab",
      "execution_count": 30,
      "outputs": []
    },
    {
      "cell_type": "code",
      "metadata": {
        "id": "6a96e2d8"
      },
      "source": [
        "new_test['Manager_Current_Designation'] = [b[j] for j in new_test['Manager_Current_Designation']] "
      ],
      "id": "6a96e2d8",
      "execution_count": 31,
      "outputs": []
    },
    {
      "cell_type": "code",
      "metadata": {
        "id": "8081cd67"
      },
      "source": [
        "new_test = new_test.dropna(subset=['Applicant_City_PIN','Manager_Grade','Manager_Num_Application','Manager_Num_Coded','Manager_Business','Manager_Num_Products','Manager_Business2','Manager_Num_Products2','Manager_Num_Products2'],axis=0)"
      ],
      "id": "8081cd67",
      "execution_count": 32,
      "outputs": []
    },
    {
      "cell_type": "code",
      "metadata": {
        "colab": {
          "base_uri": "https://localhost:8080/"
        },
        "id": "4d63167b",
        "outputId": "1a40115e-5229-40d5-9cd9-0e1ac78645d3"
      },
      "source": [
        "new_test.isnull().sum()"
      ],
      "id": "4d63167b",
      "execution_count": 33,
      "outputs": [
        {
          "output_type": "execute_result",
          "data": {
            "text/plain": [
              "Office_PIN                     0\n",
              "Application_Receipt_Date       0\n",
              "Applicant_City_PIN             0\n",
              "Applicant_BirthDate            0\n",
              "Manager_DOJ                    0\n",
              "Manager_Current_Designation    0\n",
              "Manager_Grade                  0\n",
              "Manager_DoB                    0\n",
              "Manager_Num_Application        0\n",
              "Manager_Num_Coded              0\n",
              "Manager_Business               0\n",
              "Manager_Num_Products           0\n",
              "Manager_Business2              0\n",
              "Manager_Num_Products2          0\n",
              "dtype: int64"
            ]
          },
          "metadata": {
            "tags": []
          },
          "execution_count": 33
        }
      ]
    },
    {
      "cell_type": "code",
      "metadata": {
        "colab": {
          "base_uri": "https://localhost:8080/"
        },
        "id": "e0386f17",
        "outputId": "55427469-baec-4008-9dbd-3b0b7b0c38f1"
      },
      "source": [
        "new_test.shape"
      ],
      "id": "e0386f17",
      "execution_count": 34,
      "outputs": [
        {
          "output_type": "execute_result",
          "data": {
            "text/plain": [
              "(4209, 14)"
            ]
          },
          "metadata": {
            "tags": []
          },
          "execution_count": 34
        }
      ]
    },
    {
      "cell_type": "code",
      "metadata": {
        "colab": {
          "base_uri": "https://localhost:8080/"
        },
        "id": "25b0ae05",
        "outputId": "6c5759f1-c8f1-4188-bca2-1b183c3b5d02"
      },
      "source": [
        "new_test.dtypes"
      ],
      "id": "25b0ae05",
      "execution_count": 35,
      "outputs": [
        {
          "output_type": "execute_result",
          "data": {
            "text/plain": [
              "Office_PIN                       int64\n",
              "Application_Receipt_Date         int64\n",
              "Applicant_City_PIN             float64\n",
              "Applicant_BirthDate              int64\n",
              "Manager_DOJ                      int64\n",
              "Manager_Current_Designation      int64\n",
              "Manager_Grade                  float64\n",
              "Manager_DoB                      int64\n",
              "Manager_Num_Application        float64\n",
              "Manager_Num_Coded              float64\n",
              "Manager_Business               float64\n",
              "Manager_Num_Products           float64\n",
              "Manager_Business2              float64\n",
              "Manager_Num_Products2          float64\n",
              "dtype: object"
            ]
          },
          "metadata": {
            "tags": []
          },
          "execution_count": 35
        }
      ]
    },
    {
      "cell_type": "code",
      "metadata": {
        "colab": {
          "base_uri": "https://localhost:8080/",
          "height": 443
        },
        "id": "174d901d",
        "outputId": "c4c77bba-04f7-4e61-bb86-87d5d819cdec"
      },
      "source": [
        "new_train"
      ],
      "id": "174d901d",
      "execution_count": 36,
      "outputs": [
        {
          "output_type": "execute_result",
          "data": {
            "text/html": [
              "<div>\n",
              "<style scoped>\n",
              "    .dataframe tbody tr th:only-of-type {\n",
              "        vertical-align: middle;\n",
              "    }\n",
              "\n",
              "    .dataframe tbody tr th {\n",
              "        vertical-align: top;\n",
              "    }\n",
              "\n",
              "    .dataframe thead th {\n",
              "        text-align: right;\n",
              "    }\n",
              "</style>\n",
              "<table border=\"1\" class=\"dataframe\">\n",
              "  <thead>\n",
              "    <tr style=\"text-align: right;\">\n",
              "      <th></th>\n",
              "      <th>Office_PIN</th>\n",
              "      <th>Application_Receipt_Date</th>\n",
              "      <th>Applicant_City_PIN</th>\n",
              "      <th>Applicant_BirthDate</th>\n",
              "      <th>Manager_DOJ</th>\n",
              "      <th>Manager_Current_Designation</th>\n",
              "      <th>Manager_Grade</th>\n",
              "      <th>Manager_DoB</th>\n",
              "      <th>Manager_Num_Application</th>\n",
              "      <th>Manager_Num_Coded</th>\n",
              "      <th>Manager_Business</th>\n",
              "      <th>Manager_Num_Products</th>\n",
              "      <th>Manager_Business2</th>\n",
              "      <th>Manager_Num_Products2</th>\n",
              "      <th>Business_Sourced</th>\n",
              "    </tr>\n",
              "  </thead>\n",
              "  <tbody>\n",
              "    <tr>\n",
              "      <th>0</th>\n",
              "      <td>842001</td>\n",
              "      <td>1176681600000000000</td>\n",
              "      <td>844120.0</td>\n",
              "      <td>1176681600000000000</td>\n",
              "      <td>1131580800000000000</td>\n",
              "      <td>2</td>\n",
              "      <td>3.0</td>\n",
              "      <td>256521600000000000</td>\n",
              "      <td>2.0</td>\n",
              "      <td>1.0</td>\n",
              "      <td>335249.0</td>\n",
              "      <td>28.0</td>\n",
              "      <td>335249.0</td>\n",
              "      <td>28.0</td>\n",
              "      <td>0</td>\n",
              "    </tr>\n",
              "    <tr>\n",
              "      <th>1</th>\n",
              "      <td>842001</td>\n",
              "      <td>1176681600000000000</td>\n",
              "      <td>844111.0</td>\n",
              "      <td>1176681600000000000</td>\n",
              "      <td>1131580800000000000</td>\n",
              "      <td>2</td>\n",
              "      <td>3.0</td>\n",
              "      <td>256521600000000000</td>\n",
              "      <td>2.0</td>\n",
              "      <td>1.0</td>\n",
              "      <td>335249.0</td>\n",
              "      <td>28.0</td>\n",
              "      <td>335249.0</td>\n",
              "      <td>28.0</td>\n",
              "      <td>1</td>\n",
              "    </tr>\n",
              "    <tr>\n",
              "      <th>2</th>\n",
              "      <td>800001</td>\n",
              "      <td>1176681600000000000</td>\n",
              "      <td>844101.0</td>\n",
              "      <td>1176681600000000000</td>\n",
              "      <td>1148688000000000000</td>\n",
              "      <td>1</td>\n",
              "      <td>2.0</td>\n",
              "      <td>-26265600000000000</td>\n",
              "      <td>0.0</td>\n",
              "      <td>0.0</td>\n",
              "      <td>357184.0</td>\n",
              "      <td>24.0</td>\n",
              "      <td>357184.0</td>\n",
              "      <td>24.0</td>\n",
              "      <td>0</td>\n",
              "    </tr>\n",
              "    <tr>\n",
              "      <th>3</th>\n",
              "      <td>814112</td>\n",
              "      <td>1176681600000000000</td>\n",
              "      <td>814112.0</td>\n",
              "      <td>1176681600000000000</td>\n",
              "      <td>1061424000000000000</td>\n",
              "      <td>3</td>\n",
              "      <td>4.0</td>\n",
              "      <td>271900800000000000</td>\n",
              "      <td>0.0</td>\n",
              "      <td>0.0</td>\n",
              "      <td>318356.0</td>\n",
              "      <td>22.0</td>\n",
              "      <td>318356.0</td>\n",
              "      <td>22.0</td>\n",
              "      <td>0</td>\n",
              "    </tr>\n",
              "    <tr>\n",
              "      <th>4</th>\n",
              "      <td>814112</td>\n",
              "      <td>1176681600000000000</td>\n",
              "      <td>815351.0</td>\n",
              "      <td>1176681600000000000</td>\n",
              "      <td>1147046400000000000</td>\n",
              "      <td>1</td>\n",
              "      <td>2.0</td>\n",
              "      <td>34732800000000000</td>\n",
              "      <td>2.0</td>\n",
              "      <td>1.0</td>\n",
              "      <td>230402.0</td>\n",
              "      <td>17.0</td>\n",
              "      <td>230402.0</td>\n",
              "      <td>17.0</td>\n",
              "      <td>0</td>\n",
              "    </tr>\n",
              "    <tr>\n",
              "      <th>...</th>\n",
              "      <td>...</td>\n",
              "      <td>...</td>\n",
              "      <td>...</td>\n",
              "      <td>...</td>\n",
              "      <td>...</td>\n",
              "      <td>...</td>\n",
              "      <td>...</td>\n",
              "      <td>...</td>\n",
              "      <td>...</td>\n",
              "      <td>...</td>\n",
              "      <td>...</td>\n",
              "      <td>...</td>\n",
              "      <td>...</td>\n",
              "      <td>...</td>\n",
              "      <td>...</td>\n",
              "    </tr>\n",
              "    <tr>\n",
              "      <th>9519</th>\n",
              "      <td>250001</td>\n",
              "      <td>1214870400000000000</td>\n",
              "      <td>250004.0</td>\n",
              "      <td>1214870400000000000</td>\n",
              "      <td>1151452800000000000</td>\n",
              "      <td>2</td>\n",
              "      <td>3.0</td>\n",
              "      <td>139449600000000000</td>\n",
              "      <td>1.0</td>\n",
              "      <td>1.0</td>\n",
              "      <td>55000.0</td>\n",
              "      <td>2.0</td>\n",
              "      <td>55000.0</td>\n",
              "      <td>2.0</td>\n",
              "      <td>0</td>\n",
              "    </tr>\n",
              "    <tr>\n",
              "      <th>9521</th>\n",
              "      <td>814112</td>\n",
              "      <td>1214870400000000000</td>\n",
              "      <td>816118.0</td>\n",
              "      <td>1214870400000000000</td>\n",
              "      <td>1159833600000000000</td>\n",
              "      <td>1</td>\n",
              "      <td>2.0</td>\n",
              "      <td>-450230400000000000</td>\n",
              "      <td>4.0</td>\n",
              "      <td>2.0</td>\n",
              "      <td>418339.0</td>\n",
              "      <td>13.0</td>\n",
              "      <td>418339.0</td>\n",
              "      <td>13.0</td>\n",
              "      <td>0</td>\n",
              "    </tr>\n",
              "    <tr>\n",
              "      <th>9522</th>\n",
              "      <td>160017</td>\n",
              "      <td>1214870400000000000</td>\n",
              "      <td>160032.0</td>\n",
              "      <td>1214870400000000000</td>\n",
              "      <td>1209945600000000000</td>\n",
              "      <td>2</td>\n",
              "      <td>3.0</td>\n",
              "      <td>-83548800000000000</td>\n",
              "      <td>0.0</td>\n",
              "      <td>0.0</td>\n",
              "      <td>0.0</td>\n",
              "      <td>0.0</td>\n",
              "      <td>0.0</td>\n",
              "      <td>0.0</td>\n",
              "      <td>0</td>\n",
              "    </tr>\n",
              "    <tr>\n",
              "      <th>9524</th>\n",
              "      <td>753012</td>\n",
              "      <td>1214870400000000000</td>\n",
              "      <td>753014.0</td>\n",
              "      <td>1214870400000000000</td>\n",
              "      <td>1156204800000000000</td>\n",
              "      <td>2</td>\n",
              "      <td>3.0</td>\n",
              "      <td>17452800000000000</td>\n",
              "      <td>0.0</td>\n",
              "      <td>0.0</td>\n",
              "      <td>316126.0</td>\n",
              "      <td>9.0</td>\n",
              "      <td>305775.0</td>\n",
              "      <td>8.0</td>\n",
              "      <td>0</td>\n",
              "    </tr>\n",
              "    <tr>\n",
              "      <th>9525</th>\n",
              "      <td>575003</td>\n",
              "      <td>1214870400000000000</td>\n",
              "      <td>571248.0</td>\n",
              "      <td>1214870400000000000</td>\n",
              "      <td>1212624000000000000</td>\n",
              "      <td>3</td>\n",
              "      <td>4.0</td>\n",
              "      <td>212284800000000000</td>\n",
              "      <td>0.0</td>\n",
              "      <td>0.0</td>\n",
              "      <td>0.0</td>\n",
              "      <td>0.0</td>\n",
              "      <td>0.0</td>\n",
              "      <td>0.0</td>\n",
              "      <td>0</td>\n",
              "    </tr>\n",
              "  </tbody>\n",
              "</table>\n",
              "<p>8764 rows × 15 columns</p>\n",
              "</div>"
            ],
            "text/plain": [
              "      Office_PIN  ...  Business_Sourced\n",
              "0         842001  ...                 0\n",
              "1         842001  ...                 1\n",
              "2         800001  ...                 0\n",
              "3         814112  ...                 0\n",
              "4         814112  ...                 0\n",
              "...          ...  ...               ...\n",
              "9519      250001  ...                 0\n",
              "9521      814112  ...                 0\n",
              "9522      160017  ...                 0\n",
              "9524      753012  ...                 0\n",
              "9525      575003  ...                 0\n",
              "\n",
              "[8764 rows x 15 columns]"
            ]
          },
          "metadata": {
            "tags": []
          },
          "execution_count": 36
        }
      ]
    },
    {
      "cell_type": "code",
      "metadata": {
        "id": "2469758d"
      },
      "source": [
        "train_a=new_train[:7011]\n",
        "train_b=new_train[7011:]"
      ],
      "id": "2469758d",
      "execution_count": 37,
      "outputs": []
    },
    {
      "cell_type": "code",
      "metadata": {
        "colab": {
          "base_uri": "https://localhost:8080/",
          "height": 101
        },
        "id": "0fd17b99",
        "outputId": "1a01822f-35b3-4ce4-976c-740bee61ead5"
      },
      "source": [
        "train_a.tail(1)"
      ],
      "id": "0fd17b99",
      "execution_count": 38,
      "outputs": [
        {
          "output_type": "execute_result",
          "data": {
            "text/html": [
              "<div>\n",
              "<style scoped>\n",
              "    .dataframe tbody tr th:only-of-type {\n",
              "        vertical-align: middle;\n",
              "    }\n",
              "\n",
              "    .dataframe tbody tr th {\n",
              "        vertical-align: top;\n",
              "    }\n",
              "\n",
              "    .dataframe thead th {\n",
              "        text-align: right;\n",
              "    }\n",
              "</style>\n",
              "<table border=\"1\" class=\"dataframe\">\n",
              "  <thead>\n",
              "    <tr style=\"text-align: right;\">\n",
              "      <th></th>\n",
              "      <th>Office_PIN</th>\n",
              "      <th>Application_Receipt_Date</th>\n",
              "      <th>Applicant_City_PIN</th>\n",
              "      <th>Applicant_BirthDate</th>\n",
              "      <th>Manager_DOJ</th>\n",
              "      <th>Manager_Current_Designation</th>\n",
              "      <th>Manager_Grade</th>\n",
              "      <th>Manager_DoB</th>\n",
              "      <th>Manager_Num_Application</th>\n",
              "      <th>Manager_Num_Coded</th>\n",
              "      <th>Manager_Business</th>\n",
              "      <th>Manager_Num_Products</th>\n",
              "      <th>Manager_Business2</th>\n",
              "      <th>Manager_Num_Products2</th>\n",
              "      <th>Business_Sourced</th>\n",
              "    </tr>\n",
              "  </thead>\n",
              "  <tbody>\n",
              "    <tr>\n",
              "      <th>7549</th>\n",
              "      <td>202001</td>\n",
              "      <td>1208131200000000000</td>\n",
              "      <td>202001.0</td>\n",
              "      <td>1208131200000000000</td>\n",
              "      <td>1193702400000000000</td>\n",
              "      <td>1</td>\n",
              "      <td>2.0</td>\n",
              "      <td>95990400000000000</td>\n",
              "      <td>2.0</td>\n",
              "      <td>4.0</td>\n",
              "      <td>115068.0</td>\n",
              "      <td>5.0</td>\n",
              "      <td>115068.0</td>\n",
              "      <td>5.0</td>\n",
              "      <td>1</td>\n",
              "    </tr>\n",
              "  </tbody>\n",
              "</table>\n",
              "</div>"
            ],
            "text/plain": [
              "      Office_PIN  ...  Business_Sourced\n",
              "7549      202001  ...                 1\n",
              "\n",
              "[1 rows x 15 columns]"
            ]
          },
          "metadata": {
            "tags": []
          },
          "execution_count": 38
        }
      ]
    },
    {
      "cell_type": "code",
      "metadata": {
        "colab": {
          "base_uri": "https://localhost:8080/",
          "height": 101
        },
        "id": "58f2d8de",
        "outputId": "983f8cb1-c449-4760-d7ae-25744029e703"
      },
      "source": [
        "train_b.head(1)"
      ],
      "id": "58f2d8de",
      "execution_count": 39,
      "outputs": [
        {
          "output_type": "execute_result",
          "data": {
            "text/html": [
              "<div>\n",
              "<style scoped>\n",
              "    .dataframe tbody tr th:only-of-type {\n",
              "        vertical-align: middle;\n",
              "    }\n",
              "\n",
              "    .dataframe tbody tr th {\n",
              "        vertical-align: top;\n",
              "    }\n",
              "\n",
              "    .dataframe thead th {\n",
              "        text-align: right;\n",
              "    }\n",
              "</style>\n",
              "<table border=\"1\" class=\"dataframe\">\n",
              "  <thead>\n",
              "    <tr style=\"text-align: right;\">\n",
              "      <th></th>\n",
              "      <th>Office_PIN</th>\n",
              "      <th>Application_Receipt_Date</th>\n",
              "      <th>Applicant_City_PIN</th>\n",
              "      <th>Applicant_BirthDate</th>\n",
              "      <th>Manager_DOJ</th>\n",
              "      <th>Manager_Current_Designation</th>\n",
              "      <th>Manager_Grade</th>\n",
              "      <th>Manager_DoB</th>\n",
              "      <th>Manager_Num_Application</th>\n",
              "      <th>Manager_Num_Coded</th>\n",
              "      <th>Manager_Business</th>\n",
              "      <th>Manager_Num_Products</th>\n",
              "      <th>Manager_Business2</th>\n",
              "      <th>Manager_Num_Products2</th>\n",
              "      <th>Business_Sourced</th>\n",
              "    </tr>\n",
              "  </thead>\n",
              "  <tbody>\n",
              "    <tr>\n",
              "      <th>7550</th>\n",
              "      <td>416001</td>\n",
              "      <td>1208131200000000000</td>\n",
              "      <td>403517.0</td>\n",
              "      <td>1208131200000000000</td>\n",
              "      <td>1005350400000000000</td>\n",
              "      <td>4</td>\n",
              "      <td>6.0</td>\n",
              "      <td>-22896000000000000</td>\n",
              "      <td>1.0</td>\n",
              "      <td>0.0</td>\n",
              "      <td>696884.0</td>\n",
              "      <td>29.0</td>\n",
              "      <td>696884.0</td>\n",
              "      <td>29.0</td>\n",
              "      <td>1</td>\n",
              "    </tr>\n",
              "  </tbody>\n",
              "</table>\n",
              "</div>"
            ],
            "text/plain": [
              "      Office_PIN  ...  Business_Sourced\n",
              "7550      416001  ...                 1\n",
              "\n",
              "[1 rows x 15 columns]"
            ]
          },
          "metadata": {
            "tags": []
          },
          "execution_count": 39
        }
      ]
    },
    {
      "cell_type": "code",
      "metadata": {
        "colab": {
          "base_uri": "https://localhost:8080/"
        },
        "id": "0f77f1d0",
        "outputId": "cc0a4ac6-7273-481f-98e8-67885dcc46a5"
      },
      "source": [
        "print(train_a.shape)\n",
        "print(train_b.shape)"
      ],
      "id": "0f77f1d0",
      "execution_count": 40,
      "outputs": [
        {
          "output_type": "stream",
          "text": [
            "(7011, 15)\n",
            "(1753, 15)\n"
          ],
          "name": "stdout"
        }
      ]
    },
    {
      "cell_type": "code",
      "metadata": {
        "id": "34e69ca4"
      },
      "source": [
        "x_train = train_a.drop(['Business_Sourced'],axis=1 )\n",
        "y_train = train_a.Business_Sourced.copy()\n",
        "x_test = train_b.drop(['Business_Sourced'],axis=1 )\n",
        "y_test = train_b.Business_Sourced.copy()"
      ],
      "id": "34e69ca4",
      "execution_count": 41,
      "outputs": []
    },
    {
      "cell_type": "code",
      "metadata": {
        "id": "d7ec8a02"
      },
      "source": [
        "from sklearn.tree import DecisionTreeRegressor\n",
        "from sklearn.ensemble import RandomForestClassifier\n",
        "\n",
        "#reg = DecisionTreeRegressor(random_state=0)\n",
        "\n",
        "from sklearn.ensemble import GradientBoostingClassifier\n",
        "clf=GradientBoostingClassifier(n_estimators=100, learning_rate=1.0,max_depth=1, random_state=0).fit(x_train, y_train)\n",
        "#clf = RandomForestClassifier(n_estimators=500)\n",
        "clf.fit(x_train,y_train)\n",
        "pred = clf.predict(x_test)\n"
      ],
      "id": "d7ec8a02",
      "execution_count": 42,
      "outputs": []
    },
    {
      "cell_type": "code",
      "metadata": {
        "id": "So0CrIw-Q1o2",
        "colab": {
          "base_uri": "https://localhost:8080/"
        },
        "outputId": "4ad798a8-0abd-4589-c016-03488fa64bd7"
      },
      "source": [
        "from sklearn.metrics import roc_auc_score\n",
        "from sklearn.metrics import roc_curve\n",
        "dt_roc_auc = roc_auc_score(y_test, pred)\n",
        "print(dt_roc_auc)"
      ],
      "id": "So0CrIw-Q1o2",
      "execution_count": 43,
      "outputs": [
        {
          "output_type": "stream",
          "text": [
            "0.5194008376940084\n"
          ],
          "name": "stdout"
        }
      ]
    },
    {
      "cell_type": "markdown",
      "metadata": {
        "id": "qyn4W65VhcWK"
      },
      "source": [
        "0.5482\n",
        "\n",
        "0.5325"
      ],
      "id": "qyn4W65VhcWK"
    },
    {
      "cell_type": "code",
      "metadata": {
        "id": "RsBWnnbQulM9",
        "outputId": "66e2377d-35ee-41ea-b415-ddbd698e0381",
        "colab": {
          "base_uri": "https://localhost:8080/"
        }
      },
      "source": [
        "from sklearn.ensemble import GradientBoostingClassifier\n",
        "clf2 = GradientBoostingClassifier(n_estimators=100, learning_rate=1.0,max_depth=1, random_state=0).fit(x_train, y_train)\n",
        "\n",
        "pred2 = clf2.predict(x_train)\n",
        "\n",
        "from sklearn.metrics import accuracy_score\n",
        "print(\"Accuracy Score = \",accuracy_score(y_train, pred2))"
      ],
      "id": "RsBWnnbQulM9",
      "execution_count": 44,
      "outputs": [
        {
          "output_type": "stream",
          "text": [
            "Accuracy Score =  0.682356297247183\n"
          ],
          "name": "stdout"
        }
      ]
    }
  ]
}